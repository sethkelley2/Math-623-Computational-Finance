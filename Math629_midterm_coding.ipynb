{
 "cells": [
  {
   "cell_type": "markdown",
   "id": "142c7ea7",
   "metadata": {
    "id": "142c7ea7"
   },
   "source": [
    "**You are free to consult any source online, for syntax or conceptual understanding or for any other help you need but please write your own code**\n",
    "\n",
    "In Problem 2, don't worry if your results are bad or so, we are mainly looking at your approach to handle a new problem. Just put in your best effort and you will be fine, if you are using google colab, convert that into notebook and then submit it"
   ]
  },
  {
   "cell_type": "markdown",
   "id": "11ab29b2",
   "metadata": {
    "id": "11ab29b2"
   },
   "source": [
    "# Problem 1( 30 Points )"
   ]
  },
  {
   "cell_type": "markdown",
   "id": "b22e2f02",
   "metadata": {
    "id": "b22e2f02"
   },
   "source": [
    "Till now in the course, we have looked at Pytorch for doing deep learning. However, it is important to know how neural networks are implemented from scratch because it helps a lot in doing debugging and it increases your fundamental understanding"
   ]
  },
  {
   "cell_type": "markdown",
   "id": "400857c3",
   "metadata": {
    "id": "400857c3"
   },
   "source": [
    "In this problem, you will implement a very simple three layer neural network with Input $x$, $W_1, W_2, W_3$ be the weights and $b_1, b_2, b_3$ be the biases and $y$ be the output."
   ]
  },
  {
   "cell_type": "markdown",
   "id": "c420c8bd",
   "metadata": {
    "id": "c420c8bd"
   },
   "source": [
    "\n",
    "![Image](https://drive.google.com/uc?id=1TW85VcYzDNwTTWDKEOR1fSEAIw3Rtw5V)"
   ]
  },
  {
   "cell_type": "markdown",
   "id": "1fc1764a",
   "metadata": {
    "id": "1fc1764a"
   },
   "source": [
    "We will work with BodyFat Data. Use 150 examples for training and the remainder  for  testing  with  mean  squared  error.  Activation  functions are rectified linear unit (ReLU) "
   ]
  },
  {
   "cell_type": "markdown",
   "id": "94cc168a",
   "metadata": {
    "id": "94cc168a"
   },
   "source": [
    "You have to do the following:-\n",
    "\n",
    "a) Implement the forward pass <br>\n",
    "b) Implement the backward pass <br>\n",
    "c) Submit code and report on mean square error on training and testing data"
   ]
  },
  {
   "cell_type": "markdown",
   "id": "88d66c3c",
   "metadata": {
    "id": "88d66c3c"
   },
   "source": [
    "# Notes:-"
   ]
  },
  {
   "cell_type": "markdown",
   "id": "5778a398",
   "metadata": {
    "id": "5778a398"
   },
   "source": [
    "1) seed : np.random.seed(0) <br>\n",
    "2) Initialize weights following a standard normal distribution <br>\n",
    "3) Initialize biases with zeros <br>\n",
    "3) First layer 64 hidden units, second layer 16 hidden units <br>\n",
    "4) **Use vectorized code** <br>\n",
    "5) Use gradient descent for training and use reasonable stopping criteria for termination, such as stop when loss doesn't decrease much, use your judgement <br>\n",
    "6) Learning rate: 1e-7 <br>"
   ]
  },
  {
   "cell_type": "markdown",
   "id": "20b22df9",
   "metadata": {
    "id": "20b22df9"
   },
   "source": [
    "You can read the mat file using scipy functionality:-"
   ]
  },
  {
   "cell_type": "markdown",
   "id": "3e56a60c-9902-4c57-9c8b-fc54a188a9c3",
   "metadata": {},
   "source": [
    "# Part 1 #\n",
    "\n",
    "*The discussion of the results is at the bottom of he code*"
   ]
  },
  {
   "cell_type": "code",
   "execution_count": 190,
   "id": "e5e47f9b",
   "metadata": {
    "id": "e5e47f9b"
   },
   "outputs": [
    {
     "name": "stderr",
     "output_type": "stream",
     "text": [
      "/var/folders/bv/j678dvtd34bc5mtymgsd2c6w0000gn/T/ipykernel_43857/2156593710.py:12: UserWarning: To copy construct from a tensor, it is recommended to use sourceTensor.clone().detach() or sourceTensor.clone().detach().requires_grad_(True), rather than torch.tensor(sourceTensor).\n",
      "  X_train = torch.tensor(torch.from_numpy(X_train).float(),dtype=torch.float64)\n",
      "/var/folders/bv/j678dvtd34bc5mtymgsd2c6w0000gn/T/ipykernel_43857/2156593710.py:13: UserWarning: To copy construct from a tensor, it is recommended to use sourceTensor.clone().detach() or sourceTensor.clone().detach().requires_grad_(True), rather than torch.tensor(sourceTensor).\n",
      "  X_test = torch.tensor(torch.from_numpy(X_test).float(),dtype=torch.float64)\n",
      "/var/folders/bv/j678dvtd34bc5mtymgsd2c6w0000gn/T/ipykernel_43857/2156593710.py:14: UserWarning: To copy construct from a tensor, it is recommended to use sourceTensor.clone().detach() or sourceTensor.clone().detach().requires_grad_(True), rather than torch.tensor(sourceTensor).\n",
      "  Y_train = torch.tensor(torch.from_numpy(Y_train).float(),dtype=torch.float64)\n",
      "/var/folders/bv/j678dvtd34bc5mtymgsd2c6w0000gn/T/ipykernel_43857/2156593710.py:15: UserWarning: To copy construct from a tensor, it is recommended to use sourceTensor.clone().detach() or sourceTensor.clone().detach().requires_grad_(True), rather than torch.tensor(sourceTensor).\n",
      "  Y_test = torch.tensor(torch.from_numpy(Y_test).float(),dtype=torch.float64)\n"
     ]
    }
   ],
   "source": [
    "import scipy.io as sio\n",
    "from sklearn.model_selection import train_test_split\n",
    "import torch\n",
    "import torch.nn as nn\n",
    "import numpy as np\n",
    "\n",
    "bodyfat = sio.loadmat('bodyfat_data.mat')\n",
    "X = bodyfat['X']\n",
    "Y = bodyfat['y']\n",
    "\n",
    "X_train, X_test, Y_train, Y_test = train_test_split(X,Y,test_size=98,shuffle=True)\n",
    "X_train = torch.tensor(torch.from_numpy(X_train).float(),dtype=torch.float64)\n",
    "X_test = torch.tensor(torch.from_numpy(X_test).float(),dtype=torch.float64)\n",
    "Y_train = torch.tensor(torch.from_numpy(Y_train).float(),dtype=torch.float64)\n",
    "Y_test = torch.tensor(torch.from_numpy(Y_test).float(),dtype=torch.float64)"
   ]
  },
  {
   "cell_type": "code",
   "execution_count": 386,
   "id": "20c58d68-363a-45e5-9049-5839244eb27c",
   "metadata": {},
   "outputs": [],
   "source": [
    "class ScratchNeuralNet(nn.Module):\n",
    "    def __init__(self,inputSize, hiddenOne, hiddenTwo, outputSize):\n",
    "        super().__init__()\n",
    "        self.inputSize = inputSize\n",
    "        self.hiddenOne = hiddenOne\n",
    "        self.hiddenTwo = hiddenTwo\n",
    "        self.outputSize = outputSize\n",
    "        \n",
    "        torch.manual_seed(0)\n",
    "        \n",
    "        self.W1 = torch.normal(mean=torch.zeros(self.inputSize,self.hiddenOne),std=1/150*torch.ones(self.inputSize,self.hiddenOne)).double().requires_grad_()\n",
    "        self.b1 = torch.zeros(1,self.hiddenOne).double().requires_grad_()\n",
    "        \n",
    "        self.W2 = torch.normal(mean=torch.zeros(self.hiddenOne,self.hiddenTwo),std=1/150*torch.ones(self.hiddenOne, self.hiddenTwo)).double().requires_grad_()\n",
    "        self.b2 = torch.zeros(1,self.hiddenTwo).double().requires_grad_()\n",
    "        \n",
    "        self.W3 = torch.normal(mean=torch.zeros(self.hiddenTwo,self.outputSize),std=1/150*torch.ones(self.hiddenTwo,self.outputSize)).double().requires_grad_()\n",
    "        self.b3 = torch.zeros(1,self.outputSize).double().requires_grad_()\n",
    "        \n",
    "        self.relu = nn.ReLU()\n",
    "        \n",
    "    def forward(self,X):\n",
    "        a1 = torch.mm(X,self.W1) + self.b1\n",
    "        z1 = self.relu(a1)\n",
    "        \n",
    "        a2 = torch.mm(z1,self.W2) + self.b2\n",
    "        z2 = self.relu(a2)\n",
    "        \n",
    "        yhat = torch.mm(z2,self.W3) + self.b3\n",
    "        return yhat\n",
    "    \n",
    "    def cost(self, yhat, y):\n",
    "        AveMSE = torch.mean( (y-yhat)**2 ) \n",
    "        return AveMSE\n",
    "   \n",
    "    def zero_grads(self):\n",
    "        with torch.no_grad():\n",
    "            self.W1.grad.zero_()\n",
    "            self.W2.grad.zero_()\n",
    "            self.W3.grad.zero_()\n",
    "            self.b1.grad.zero_()\n",
    "            self.b2.grad.zero_()\n",
    "            self.b3.grad.zero_()\n",
    "\n",
    "    def updateParams(self, lr):\n",
    "        with torch.no_grad():\n",
    "            self.W1 -= lr*self.W1.grad\n",
    "            self.W2 -= lr*self.W2.grad\n",
    "            self.W3 -= lr*self.W3.grad\n",
    "            self.b1 -= lr*self.b1.grad\n",
    "            self.b2 -= lr*self.b2.grad\n",
    "            self.b3 -= lr*self.b3.grad\n",
    "        \n",
    "    \n",
    "    def backward(self,yhat,y):\n",
    "        loss = self.cost(yhat,y)\n",
    "        loss.backward()\n",
    "        self.updateParams(0.0001)\n",
    "        self.zero_grads()\n",
    "        \n",
    "        \n",
    "        \n",
    "        \n",
    "        \n",
    "        "
   ]
  },
  {
   "cell_type": "code",
   "execution_count": 404,
   "id": "e1b604ca-6cfa-4fb4-aab8-ac1f1f3b4a29",
   "metadata": {},
   "outputs": [
    {
     "name": "stdout",
     "output_type": "stream",
     "text": [
      "Epoch:   0 Loss: tensor(432.4668, dtype=torch.float64, grad_fn=<MeanBackward0>)\n",
      "Epoch:   1 Loss: tensor(432.3133, dtype=torch.float64, grad_fn=<MeanBackward0>)\n",
      "Epoch:   2 Loss: tensor(432.1598, dtype=torch.float64, grad_fn=<MeanBackward0>)\n",
      "Epoch:   3 Loss: tensor(432.0061, dtype=torch.float64, grad_fn=<MeanBackward0>)\n",
      "Epoch:   4 Loss: tensor(431.8524, dtype=torch.float64, grad_fn=<MeanBackward0>)\n",
      "Epoch:   5 Loss: tensor(431.6986, dtype=torch.float64, grad_fn=<MeanBackward0>)\n",
      "Epoch:   6 Loss: tensor(431.5446, dtype=torch.float64, grad_fn=<MeanBackward0>)\n",
      "Epoch:   7 Loss: tensor(431.3905, dtype=torch.float64, grad_fn=<MeanBackward0>)\n",
      "Epoch:   8 Loss: tensor(431.2363, dtype=torch.float64, grad_fn=<MeanBackward0>)\n",
      "Epoch:   9 Loss: tensor(431.0818, dtype=torch.float64, grad_fn=<MeanBackward0>)\n",
      "Epoch:   10 Loss: tensor(430.9271, dtype=torch.float64, grad_fn=<MeanBackward0>)\n",
      "Epoch:   11 Loss: tensor(430.7722, dtype=torch.float64, grad_fn=<MeanBackward0>)\n",
      "Epoch:   12 Loss: tensor(430.6170, dtype=torch.float64, grad_fn=<MeanBackward0>)\n",
      "Epoch:   13 Loss: tensor(430.4615, dtype=torch.float64, grad_fn=<MeanBackward0>)\n",
      "Epoch:   14 Loss: tensor(430.3057, dtype=torch.float64, grad_fn=<MeanBackward0>)\n",
      "Epoch:   15 Loss: tensor(430.1495, dtype=torch.float64, grad_fn=<MeanBackward0>)\n",
      "Epoch:   16 Loss: tensor(429.9930, dtype=torch.float64, grad_fn=<MeanBackward0>)\n",
      "Epoch:   17 Loss: tensor(429.8359, dtype=torch.float64, grad_fn=<MeanBackward0>)\n",
      "Epoch:   18 Loss: tensor(429.6784, dtype=torch.float64, grad_fn=<MeanBackward0>)\n",
      "Epoch:   19 Loss: tensor(429.5203, dtype=torch.float64, grad_fn=<MeanBackward0>)\n",
      "Epoch:   20 Loss: tensor(429.3616, dtype=torch.float64, grad_fn=<MeanBackward0>)\n",
      "Epoch:   21 Loss: tensor(429.2023, dtype=torch.float64, grad_fn=<MeanBackward0>)\n",
      "Epoch:   22 Loss: tensor(429.0423, dtype=torch.float64, grad_fn=<MeanBackward0>)\n",
      "Epoch:   23 Loss: tensor(428.8815, dtype=torch.float64, grad_fn=<MeanBackward0>)\n",
      "Epoch:   24 Loss: tensor(428.7198, dtype=torch.float64, grad_fn=<MeanBackward0>)\n",
      "Epoch:   25 Loss: tensor(428.5571, dtype=torch.float64, grad_fn=<MeanBackward0>)\n",
      "Epoch:   26 Loss: tensor(428.3933, dtype=torch.float64, grad_fn=<MeanBackward0>)\n",
      "Epoch:   27 Loss: tensor(428.2284, dtype=torch.float64, grad_fn=<MeanBackward0>)\n",
      "Epoch:   28 Loss: tensor(428.0622, dtype=torch.float64, grad_fn=<MeanBackward0>)\n",
      "Epoch:   29 Loss: tensor(427.8945, dtype=torch.float64, grad_fn=<MeanBackward0>)\n",
      "Epoch:   30 Loss: tensor(427.7251, dtype=torch.float64, grad_fn=<MeanBackward0>)\n",
      "Epoch:   31 Loss: tensor(427.5540, dtype=torch.float64, grad_fn=<MeanBackward0>)\n",
      "Epoch:   32 Loss: tensor(427.3809, dtype=torch.float64, grad_fn=<MeanBackward0>)\n",
      "Epoch:   33 Loss: tensor(427.2056, dtype=torch.float64, grad_fn=<MeanBackward0>)\n",
      "Epoch:   34 Loss: tensor(427.0277, dtype=torch.float64, grad_fn=<MeanBackward0>)\n",
      "Epoch:   35 Loss: tensor(426.8463, dtype=torch.float64, grad_fn=<MeanBackward0>)\n",
      "Epoch:   36 Loss: tensor(426.6593, dtype=torch.float64, grad_fn=<MeanBackward0>)\n",
      "Epoch:   37 Loss: tensor(426.4686, dtype=torch.float64, grad_fn=<MeanBackward0>)\n",
      "Epoch:   38 Loss: tensor(426.2737, dtype=torch.float64, grad_fn=<MeanBackward0>)\n",
      "Epoch:   39 Loss: tensor(426.0740, dtype=torch.float64, grad_fn=<MeanBackward0>)\n",
      "Epoch:   40 Loss: tensor(425.8689, dtype=torch.float64, grad_fn=<MeanBackward0>)\n",
      "Epoch:   41 Loss: tensor(425.6575, dtype=torch.float64, grad_fn=<MeanBackward0>)\n",
      "Epoch:   42 Loss: tensor(425.4390, dtype=torch.float64, grad_fn=<MeanBackward0>)\n",
      "Epoch:   43 Loss: tensor(425.2123, dtype=torch.float64, grad_fn=<MeanBackward0>)\n",
      "Epoch:   44 Loss: tensor(424.9762, dtype=torch.float64, grad_fn=<MeanBackward0>)\n",
      "Epoch:   45 Loss: tensor(424.7290, dtype=torch.float64, grad_fn=<MeanBackward0>)\n",
      "Epoch:   46 Loss: tensor(424.4691, dtype=torch.float64, grad_fn=<MeanBackward0>)\n",
      "Epoch:   47 Loss: tensor(424.1944, dtype=torch.float64, grad_fn=<MeanBackward0>)\n",
      "Epoch:   48 Loss: tensor(423.9022, dtype=torch.float64, grad_fn=<MeanBackward0>)\n",
      "Epoch:   49 Loss: tensor(423.5896, dtype=torch.float64, grad_fn=<MeanBackward0>)\n",
      "Epoch:   50 Loss: tensor(423.2529, dtype=torch.float64, grad_fn=<MeanBackward0>)\n",
      "Epoch:   51 Loss: tensor(422.8873, dtype=torch.float64, grad_fn=<MeanBackward0>)\n",
      "Epoch:   52 Loss: tensor(422.4871, dtype=torch.float64, grad_fn=<MeanBackward0>)\n",
      "Epoch:   53 Loss: tensor(422.0455, dtype=torch.float64, grad_fn=<MeanBackward0>)\n",
      "Epoch:   54 Loss: tensor(421.5534, dtype=torch.float64, grad_fn=<MeanBackward0>)\n",
      "Epoch:   55 Loss: tensor(420.9997, dtype=torch.float64, grad_fn=<MeanBackward0>)\n",
      "Epoch:   56 Loss: tensor(420.3700, dtype=torch.float64, grad_fn=<MeanBackward0>)\n",
      "Epoch:   57 Loss: tensor(419.6462, dtype=torch.float64, grad_fn=<MeanBackward0>)\n",
      "Epoch:   58 Loss: tensor(418.8044, dtype=torch.float64, grad_fn=<MeanBackward0>)\n",
      "Epoch:   59 Loss: tensor(417.8136, dtype=torch.float64, grad_fn=<MeanBackward0>)\n",
      "Epoch:   60 Loss: tensor(416.6323, dtype=torch.float64, grad_fn=<MeanBackward0>)\n",
      "Epoch:   61 Loss: tensor(415.2049, dtype=torch.float64, grad_fn=<MeanBackward0>)\n",
      "Epoch:   62 Loss: tensor(413.4559, dtype=torch.float64, grad_fn=<MeanBackward0>)\n",
      "Epoch:   63 Loss: tensor(411.2811, dtype=torch.float64, grad_fn=<MeanBackward0>)\n",
      "Epoch:   64 Loss: tensor(408.5345, dtype=torch.float64, grad_fn=<MeanBackward0>)\n",
      "Epoch:   65 Loss: tensor(405.0091, dtype=torch.float64, grad_fn=<MeanBackward0>)\n",
      "Epoch:   66 Loss: tensor(400.4065, dtype=torch.float64, grad_fn=<MeanBackward0>)\n",
      "Epoch:   67 Loss: tensor(394.2906, dtype=torch.float64, grad_fn=<MeanBackward0>)\n",
      "Epoch:   68 Loss: tensor(386.0163, dtype=torch.float64, grad_fn=<MeanBackward0>)\n",
      "Epoch:   69 Loss: tensor(374.6226, dtype=torch.float64, grad_fn=<MeanBackward0>)\n",
      "Epoch:   70 Loss: tensor(358.6821, dtype=torch.float64, grad_fn=<MeanBackward0>)\n",
      "Epoch:   71 Loss: tensor(336.1264, dtype=torch.float64, grad_fn=<MeanBackward0>)\n",
      "Epoch:   72 Loss: tensor(304.1714, dtype=torch.float64, grad_fn=<MeanBackward0>)\n",
      "Epoch:   73 Loss: tensor(259.7819, dtype=torch.float64, grad_fn=<MeanBackward0>)\n",
      "Epoch:   74 Loss: tensor(201.7756, dtype=torch.float64, grad_fn=<MeanBackward0>)\n",
      "Epoch:   75 Loss: tensor(135.9070, dtype=torch.float64, grad_fn=<MeanBackward0>)\n",
      "Epoch:   76 Loss: tensor(79.5182, dtype=torch.float64, grad_fn=<MeanBackward0>)\n",
      "Epoch:   77 Loss: tensor(50.4128, dtype=torch.float64, grad_fn=<MeanBackward0>)\n",
      "Epoch:   78 Loss: tensor(43.5175, dtype=torch.float64, grad_fn=<MeanBackward0>)\n",
      "Epoch:   79 Loss: tensor(42.8808, dtype=torch.float64, grad_fn=<MeanBackward0>)\n",
      "\n",
      "Test:   79 Loss: tensor(59.0964, dtype=torch.float64, grad_fn=<MeanBackward0>)\n"
     ]
    }
   ],
   "source": [
    "model = ScratchNeuralNet(2,64,16,1)\n",
    "epochs = 80\n",
    "\n",
    "for epoch in range(epochs):\n",
    "    yhat = model(X_train)\n",
    "    model.backward(yhat,Y_train)\n",
    "    print(\"Epoch:\",\" \", epoch, \"Loss:\", model.cost(yhat,Y_train))\n",
    "\n",
    "\n",
    "yhatTest = model(X_test)\n",
    "model.backward(yhatTest, Y_test)\n",
    "print(\"\\nTest:\",\" \", epoch, \"Loss:\", model.cost(yhatTest,Y_test))\n",
    "    \n",
    "    "
   ]
  },
  {
   "cell_type": "markdown",
   "id": "025cd91b-886e-49ba-9e03-468cc0ae0903",
   "metadata": {},
   "source": [
    "## Discussion"
   ]
  },
  {
   "cell_type": "code",
   "execution_count": null,
   "id": "73f6c83e-d1b5-4fb1-a8fd-a6a4b07944c3",
   "metadata": {},
   "outputs": [],
   "source": []
  },
  {
   "cell_type": "code",
   "execution_count": null,
   "id": "0a62e493-430c-4246-9be4-26f238cd6900",
   "metadata": {},
   "outputs": [],
   "source": []
  },
  {
   "cell_type": "code",
   "execution_count": null,
   "id": "dd151c82-cea0-4f9a-b237-91ea48b75dd9",
   "metadata": {},
   "outputs": [],
   "source": []
  },
  {
   "cell_type": "code",
   "execution_count": null,
   "id": "c47883a8-54ae-4817-924f-206ef146c47e",
   "metadata": {},
   "outputs": [],
   "source": []
  },
  {
   "cell_type": "markdown",
   "id": "85313fca",
   "metadata": {
    "id": "85313fca"
   },
   "source": [
    "# Problem 2( 70 Points )"
   ]
  },
  {
   "cell_type": "markdown",
   "id": "5502d743",
   "metadata": {
    "id": "5502d743"
   },
   "source": [
    "__Part 1 (Monthly Factor Data)__: Download the 5- factor Fama french factors monthly factors dataset from the below link:-\n",
    "    \n",
    "https://mba.tuck.dartmouth.edu/pages/faculty/ken.french/data_library.html\n",
    "\n",
    "Once you download the data, you will find that it contains a mix of annual and monthly factors and some texts at the top, so pd.read_csv will error out( try taking a look at csv file in text editor ). To get the monthly data, you can do the following:-\n",
    "\n",
    "df = pd.read_csv('F-F_Research_Data_5_Factors_2x3.csv', skiprows = 3).iloc[:-59,:]\n",
    "\n",
    "Use data from 1970-2010 as training data, 2010-2015 as validation data, 2015-2020 as a testing data. \n",
    "\n",
    "As you have seen from other courses, Factor models are heavily used in asset pricing as well as predicting future stock returns. For future stock return prediction, we typically have a seperate model for factor loadings. By factor loadings, we mean that coefficents of factor in the model. At time $t$ and by taking the dot product of 1) best estimation of factor loading for next time interval($t+1$) and 2) best estimate of factors at next time interval ($t+1$), one can come up with an estimation of future single stock return and create a long/short portfolio of stocks (long the stock with positive return prediction and short the ones that have negative predicted returns). However, most of these predictive models simply use the current value of the factors as the best guess for the factor value as time $t+1$. An alternative choice is using moving average of factor values as an estimate for the value of the factor at next time step.\n",
    "\n",
    "In this question, you are asked to analyze whether using a time series model (RNN/GRU/LSTM) would be able to give us better estimate for the value of the future factors values. To be more concrete, you need to try some recurrent neural networks and  use past values of the factors as input and the value of the factors at next time interval as the target. You can try different design for the network and its inputs, for example:\n",
    "\n",
    "- The input is 1-dimensional (the future value of each factor depends only on its own past).\n",
    "- The imput is 5-dimensional (the future value of each factor depends on history of all factors).\n",
    "\n",
    "You can either train 5 different neural networks to predict each of the 5 factors, or use one neural network to predict 5 factors at once\n",
    "\n",
    "Use data from 1970-2010 as training data, 2010-2015 as validation data, 2015-2020 as a testing data. You should tune the parameters using validation set only. After you have tuned the hyperparameters, use the model to make predictions on testing data and report the accuracy and performance of model. Compare the performance of the model with the two benchmarks mentioned above (last known value or moving average of previous values). Choose the window size for moving average as you desire\n",
    "\n",
    "__Part 2__ As you might have learnt from past courses, all these 5 factors are tradable portfolios by construction (for example SMB factor is a tradable portfolio loging small Caps and shorting Big Caps). Using the predictive model of previous step, design a trading strategy (for example, long the factor with highest estimated return and short the factor with smallest estimated return, or any other strategy of your choice). Calculate total return, sharpe ratio for the out of sample period.\n",
    "\n",
    "To be more precise, you can choose a starting cash amount such as 100,000 dollars, and see the performance of your trading strategy on this amount\n",
    "\n",
    "Suppose the factor predicted at time step is $F_{t+1}$, you can calculate the percentage return as $\\frac{F_{t+1} - F_{t}}{F_{t}}$. You can similarly calculate the return of true factors in testing data\n",
    "\n",
    "To be more precise, if the return vector of factors after prediction from neural network is $[0.1, 0.05, 0.07, 0.08, -0.09]$, then we will long the first factor and short the fifth factor. If the return vector of factors our testing dataset is $[0.02, 0.08, 0.54, 0.09, 0.05]$, then our PNL will be  $100,000*(-0.02 + 0.05)$ which is equal to $3000$\n",
    "\n",
    "You can sum this PNL across various time steps by calculating and that will give you the performace of trading strategy on entire testing data( out of sample data)\n",
    "\n",
    "As you can see, since the factors are tradables itself, we don't need to worry about factor loadings in calculating the PnL. You can experiment with any trading strategy of your choice based on these factors\n",
    "\n",
    "\n",
    "__Part 3__  Repeat the previous two steps by woking on daily factor data (you can download it from the same url) and perform a comparison between the two approaches\n",
    "\n",
    "When use download daily data, you will also find that it contains text in the beginning. Just set the parameter skiprows to 3 in pd.read_csv, and it will work fine and then you can proceed along similar lines\n",
    "\n",
    "Feel free to use your judgement on this problem and make assumptions anywhere you get stuck, just mention that in the notebook. The design of the problem is made open-ended intentionally\n",
    "\n",
    "__Feel free to use google colab for Keras or Pytorch.__<br>\n",
    "__Don't forget to use a lot of regularization to minimize the risk of overfitting__"
   ]
  },
  {
   "cell_type": "code",
   "execution_count": 1109,
   "id": "a09e068d-1653-4d84-b6e6-ecde007870a7",
   "metadata": {
    "tags": []
   },
   "outputs": [],
   "source": [
    "import pandas as pd\n",
    "df = pd.read_csv('F-F_Research_Data_5_Factors_2x3.csv', skiprows = 3).iloc[:-59,:]"
   ]
  },
  {
   "cell_type": "code",
   "execution_count": 1110,
   "id": "b47f1315-2629-43fd-8791-b10cf7136745",
   "metadata": {},
   "outputs": [],
   "source": [
    "index1 = df[df[\"Unnamed: 0\"]==\"197001\"].index[0]\n",
    "index2 = df[df[\"Unnamed: 0\"]==\"200912\"].index[0]\n",
    "index3 = df[df[\"Unnamed: 0\"]==\"201512\"].index[0]\n",
    "index4 = df[df[\"Unnamed: 0\"]==\"202012\"].index[0]\n",
    "\n",
    "trainFeatures = df[[\"SMB\",\"HML\",\"RMW\",\"CMA\",\"RF\"]].loc[index1:index2]\n",
    "validationFeatures = df[[\"SMB\",\"HML\",\"RMW\",\"CMA\",\"RF\"]].loc[index2+1:index3]\n",
    "testFeatures = df[[\"SMB\",\"HML\",\"RMW\",\"CMA\",\"RF\"]].loc[index3+1:index4]"
   ]
  },
  {
   "cell_type": "code",
   "execution_count": 1111,
   "id": "fd3cdb35-e263-45d8-9665-49eec400cd3c",
   "metadata": {},
   "outputs": [
    {
     "name": "stdout",
     "output_type": "stream",
     "text": [
      "x_train.shape =  (477, 2, 5)\n",
      "y_train.shape =  (477, 5)\n"
     ]
    }
   ],
   "source": [
    "def load_data(df, look_back):\n",
    "    data_raw = df.values # convert to numpy array\n",
    "    data = []\n",
    "    \n",
    "    # create all possible sequences of length look_back\n",
    "    for index in range(data_raw.shape[0] - look_back): \n",
    "        data.append(data_raw[index: index + look_back])\n",
    "    \n",
    "    data = np.array(data)\n",
    "    \n",
    "    x_train = data[:,:-1,:] #first (lookback - 1) elements\n",
    "    y_train = data[:,-1,:] #last element which is to be predicted based on x_train\n",
    "\n",
    "    return x_train, y_train\n",
    "\n",
    "look_back = 3 # sequence length\n",
    "x_train, y_train = load_data(trainFeatures, look_back)\n",
    "x_val, y_val = load_data(validationFeatures, look_back)\n",
    "x_test, y_test = load_data(testFeatures, look_back)\n",
    "print('x_train.shape = ',x_train.shape)\n",
    "print('y_train.shape = ',y_train.shape)"
   ]
  },
  {
   "cell_type": "code",
   "execution_count": 1112,
   "id": "89342dda-07e4-4036-b27d-039e94e3fe1d",
   "metadata": {},
   "outputs": [],
   "source": [
    "x_train = torch.from_numpy(np.asfarray(x_train)).type(torch.Tensor)\n",
    "x_test = torch.from_numpy(np.asfarray(x_test)).type(torch.Tensor)\n",
    "x_val = torch.from_numpy(np.asfarray(x_val)).type(torch.Tensor)\n",
    "y_train = torch.from_numpy(np.asfarray(y_train)).type(torch.Tensor)\n",
    "y_test = torch.from_numpy(np.asfarray(y_test)).type(torch.Tensor)\n",
    "y_val = torch.from_numpy(np.asfarray(y_val)).type(torch.Tensor)"
   ]
  },
  {
   "cell_type": "code",
   "execution_count": 1113,
   "id": "885497f6-b358-4247-bc81-56ffc1a49bac",
   "metadata": {},
   "outputs": [],
   "source": [
    "input_dim = 5 # there is only single value at each node\n",
    "hidden_dim = 2\n",
    "num_layers = 2 #one LSTM stacked on top of each other\n",
    "output_dim = 5 #this is a regression problem now\n",
    "\n",
    "# Here we define our model as a class\n",
    "class LSTM(nn.Module):\n",
    "    def __init__(self, input_dim, hidden_dim, num_layers, output_dim):\n",
    "        super(LSTM, self).__init__()\n",
    "        # Hidden dimensions\n",
    "        self.hidden_dim = hidden_dim\n",
    "\n",
    "        # Number of hidden layers\n",
    "        self.num_layers = num_layers\n",
    "\n",
    "        self.n_outputs = output_dim\n",
    "\n",
    "        # batch_first=True causes input/output tensors to be of shape\n",
    "        # (batch_dim, seq_dim, feature_dim)\n",
    "        self.lstm = nn.LSTM(input_dim, hidden_dim, num_layers, batch_first=True,dropout = 0.5)\n",
    "\n",
    "        # Readout layer\n",
    "        self.fc = nn.Linear(hidden_dim, output_dim)\n",
    "\n",
    "    def forward(self, x):\n",
    "\n",
    "        self.batch_size = x.size(0)\n",
    "        # Initialize hidden state with zeros\n",
    "        h0 = torch.zeros(self.num_layers, self.batch_size, self.hidden_dim).requires_grad_()\n",
    "\n",
    "        # Initialize cell state\n",
    "        c0 = torch.zeros(self.num_layers, self.batch_size, self.hidden_dim).requires_grad_()\n",
    "\n",
    "        # We need to detach as we are doing truncated backpropagation through time (BPTT)\n",
    "        # If we don't, we'll backprop all the way to the start even after going through another batch\n",
    "\n",
    "        out, _ = self.lstm(x, (h0.detach(), c0.detach()))\n",
    "\n",
    "        final_out = self.fc(out[:,-1,:]) \n",
    "        final_out = final_out.view(-1,self.n_outputs)\n",
    "\n",
    "        return final_out\n"
   ]
  },
  {
   "cell_type": "code",
   "execution_count": 1114,
   "id": "4319c52d-c101-44a7-a425-78b7d700f531",
   "metadata": {},
   "outputs": [
    {
     "name": "stdout",
     "output_type": "stream",
     "text": [
      "LSTM(\n",
      "  (lstm): LSTM(5, 2, num_layers=2, batch_first=True, dropout=0.5)\n",
      "  (fc): Linear(in_features=2, out_features=5, bias=True)\n",
      ")\n"
     ]
    }
   ],
   "source": [
    "model = LSTM(input_dim=input_dim, hidden_dim=hidden_dim, output_dim=output_dim, num_layers=num_layers)\n",
    "\n",
    "loss = nn.MSELoss()\n",
    "\n",
    "optimizer = torch.optim.Adam(model.parameters(), lr=0.001)\n",
    "print(model)"
   ]
  },
  {
   "cell_type": "code",
   "execution_count": 1115,
   "id": "7f83e283-4e32-4b10-ab01-7d753abbc194",
   "metadata": {},
   "outputs": [
    {
     "name": "stdout",
     "output_type": "stream",
     "text": [
      "\n",
      "Epoch  100 MSE:  5.94448709487915\n",
      "Epoch  100 Val MSE:  2.670475721359253\n",
      "\n",
      "Epoch  200 MSE:  5.874831199645996\n",
      "Epoch  200 Val MSE:  2.6509244441986084\n",
      "\n",
      "Epoch  300 MSE:  5.828480243682861\n",
      "Epoch  300 Val MSE:  2.66176700592041\n",
      "\n",
      "Epoch  400 MSE:  5.80929708480835\n",
      "Epoch  400 Val MSE:  2.6757209300994873\n"
     ]
    }
   ],
   "source": [
    "num_epochs = 500\n",
    "hist = np.zeros(num_epochs)\n",
    "hist2 = np.zeros(num_epochs)\n",
    "# Number of steps to unroll\n",
    "seq_dim =look_back-1  \n",
    "\n",
    "for t in range(num_epochs):\n",
    "    \n",
    "    # Forward pass\n",
    "    y_train_pred = model(x_train)\n",
    "\n",
    "    loss_val = loss(y_train_pred, y_train)\n",
    "\n",
    "    if t % 100 == 0 and t !=0:\n",
    "        print(\"\\nEpoch \", t, \"MSE: \", loss_val.item())\n",
    "        print(\"Epoch \",t,\"Val MSE: \",loss(model(x_val),y_val).item())\n",
    "\n",
    "    hist[t] = loss_val.item()\n",
    "    hist2[t] = loss(model(x_val),y_val).item()\n",
    "    # Zero out gradient, else they will accumulate between epochs\n",
    "    optimizer.zero_grad()\n",
    "\n",
    "    # Backward pass\n",
    "    loss_val.backward()\n",
    "\n",
    "    # Update parameters\n",
    "    optimizer.step()\n"
   ]
  },
  {
   "cell_type": "code",
   "execution_count": 1116,
   "id": "b2fa2c93-0649-44ad-b3b1-3cac5c3dc6c2",
   "metadata": {},
   "outputs": [
    {
     "data": {
      "text/plain": [
       "[Text(0.5, 0, 'Number of Epochs'),\n",
       " Text(0, 0.5, 'Average Mean-Square Error'),\n",
       " Text(0.5, 1.0, 'Error vs. Num Epochs')]"
      ]
     },
     "execution_count": 1116,
     "metadata": {},
     "output_type": "execute_result"
    },
    {
     "data": {
      "image/png": "[encoded data removed]",
      "text/plain": [
       "<Figure size 432x288 with 1 Axes>"
      ]
     },
     "metadata": {
      "needs_background": "light"
     },
     "output_type": "display_data"
    }
   ],
   "source": [
    "import seaborn as sns\n",
    "import matplotlib.pyplot as plt\n",
    "import matplotlib\n",
    "\n",
    "hist = pd.DataFrame(hist)#\n",
    "hist.rename(columns={0:\"Training Error\"},inplace=True)\n",
    "hist2 = pd.DataFrame(hist2)\n",
    "hist2.rename(columns={0:\"Validation Error\"},inplace = True)\n",
    "\n",
    "fig = sns.lineplot(data = hist)\n",
    "fig = sns.lineplot(data = hist2,palette=['r'])\n",
    "fig.set(xlabel=\"Number of Epochs\",ylabel=\"Average Mean-Square Error\",title = \"Error vs. Num Epochs\")"
   ]
  },
  {
   "cell_type": "markdown",
   "id": "55943fb6-ed28-419c-a9d7-204c6946eed2",
   "metadata": {},
   "source": [
    "I now consider my model fully optimized. my methods for regulating over fitting are setting the dropout probability to 50%. I also have reduced the number of hidden dimension to just 2 and the sequence length to 1. I am genuinely suprised by the model parameters, but the larger my model tended to get in any of these parameter, the more quickly I saw evidence of severe overfitting. Now I will compare this LSTM model to baseline methods"
   ]
  },
  {
   "cell_type": "code",
   "execution_count": 1117,
   "id": "fa4d18e4-d082-4ca4-9b93-0afa389d6b3a",
   "metadata": {},
   "outputs": [
    {
     "name": "stdout",
     "output_type": "stream",
     "text": [
      "\n",
      "The model has loss of 5.2334394454956055 over the TEST SET\n",
      "\n"
     ]
    }
   ],
   "source": [
    "print(f\"\\nThe model has loss of {loss(model(x_test),y_test).item()} over the TEST SET\\n\")"
   ]
  },
  {
   "cell_type": "code",
   "execution_count": 1118,
   "id": "46a8b422-1749-401e-aae4-82f858b3f573",
   "metadata": {},
   "outputs": [
    {
     "name": "stdout",
     "output_type": "stream",
     "text": [
      "\n",
      "The loss on the TEST SET from using the factors at time t as a proxy for the factors at time t+1 gives us an average MSE of 8.808276176452637\n",
      "\n"
     ]
    }
   ],
   "source": [
    "lastVal = x_test[:,-1,:]\n",
    "lastSeqPredictionLoss = loss(lastVal,y_test).item()\n",
    "print(f'\\nThe loss on the TEST SET from using the factors at time t as a proxy for the factors at time t+1 gives us an average MSE of {lastSeqPredictionLoss}\\n')"
   ]
  },
  {
   "cell_type": "code",
   "execution_count": 1128,
   "id": "cccb322e-2dae-426e-a6c7-e1d7c9366dc0",
   "metadata": {},
   "outputs": [
    {
     "name": "stdout",
     "output_type": "stream",
     "text": [
      "\n",
      "The loss on the TEST SET from using a moving average over the last 5 periods as a proxy for the factors at time t+1 gives us an average MSE of 6.325165668558522\n",
      "\n"
     ]
    }
   ],
   "source": [
    "temp_X_Test = np.array(x_test[:,0,:])\n",
    "MALength = 5\n",
    "MA = np.zeros((temp_X_Test.shape[0]-MALength,5))\n",
    "\n",
    "for i in range(temp_X_Test.shape[0]-MALength):\n",
    "    mySlice = temp_X_Test[i:i+MALength]\n",
    "    MA[i,:] = np.average(mySlice,axis=0)\n",
    "\n",
    "temp = torch.from_numpy(MA)\n",
    "MAPredLoss = loss(temp,y_test[MALength:]).item()\n",
    "print(f'\\nThe loss on the TEST SET from using a moving average over the last 5 periods as a proxy for the factors at time t+1 gives us an average MSE of {MAPredLoss}\\n')"
   ]
  },
  {
   "cell_type": "markdown",
   "id": "8dbd249d-4af1-4482-b729-14e4a0b6daaa",
   "metadata": {},
   "source": [
    "Overall, we can see that our simple LSTM network has improved the performance quite considerably from both baseline methods. Given the simplicity of the model I believe this absolutely warrants the use of this model over the baseline methods.\n",
    "\n",
    " \n",
    " \n",
    "\n",
    "I spent a considerable amount of time Tweaking the following to get my results:\n",
    "\n",
    "Learning Rate: Adjusted much lower to reduce the instability of Error\n",
    "\n",
    "Hidden Dimension: I realized that reducing the size of the hidden dimension greatly helped with reducing overfitting \n",
    "\n",
    "Num Epochs: I observed many different epoch sizes and found a suitable stopping time based off my architecture and learning rate\n",
    "\n",
    "Sequence Size: The sequence size was reduced to 2. This seems odd, but I did not find the results that I wanted with larger sequence sizes\n",
    "\n",
    "Dropout Rate: I used a dropout rate of the 50% which seems quite high, but lower values for dropout suggested that there was still considerable overfitting to address"
   ]
  },
  {
   "cell_type": "markdown",
   "id": "5a7afff3-21d0-4d2f-8f23-accde00abeb6",
   "metadata": {},
   "source": [
    "# Part 2"
   ]
  },
  {
   "cell_type": "markdown",
   "id": "06315afb-d490-427b-a044-66d362767a48",
   "metadata": {},
   "source": [
    "I am going to try a long/short strategy for this section by following the recommended path above"
   ]
  },
  {
   "cell_type": "code",
   "execution_count": 1077,
   "id": "a14e4fc1-66fd-4741-886e-ea4d24200cb2",
   "metadata": {},
   "outputs": [],
   "source": [
    "predictedFactors = model(x_test)\n",
    "predictedReturns = ((predictedFactors - x_test[:,-1,:])/x_test[:,-1,:]).detach().numpy()\n",
    "actualReturns = ((y_test - x_test[:,-1,:])/x_test[:,-1,:]).detach().numpy()\n",
    "actualReturns[np.ma.masked_invalid(actualReturns).mask] = 0"
   ]
  },
  {
   "cell_type": "code",
   "execution_count": 1078,
   "id": "f401675e-341b-428a-82ca-df486927aeb1",
   "metadata": {},
   "outputs": [],
   "source": [
    "strategy = np.zeros(predictedReturns.shape)\n",
    "strategy[np.max(predictedReturns,axis=1).reshape(strategy.shape[0],1)==predictedReturns] = 1\n",
    "strategy[np.min(predictedReturns,axis=1).reshape(strategy.shape[0],1)==predictedReturns] = -1"
   ]
  },
  {
   "cell_type": "code",
   "execution_count": 1079,
   "id": "f70ad9e0-d9e0-4012-b761-4b0f3e4afc93",
   "metadata": {},
   "outputs": [],
   "source": [
    "Returns = actualReturns*strategy\n",
    "Returns = np.sum(Returns,axis=1).reshape(Returns.shape[0],1)"
   ]
  },
  {
   "cell_type": "code",
   "execution_count": 1080,
   "id": "feadaa0d-8338-4704-a7fe-423b4cc8eb04",
   "metadata": {},
   "outputs": [],
   "source": [
    "CashAmount = 100000\n",
    "Returns[np.ma.masked_invalid(Returns).mask] = 0"
   ]
  },
  {
   "cell_type": "code",
   "execution_count": 1163,
   "id": "886462f1-998a-4d8e-bf65-166e2687c5f4",
   "metadata": {},
   "outputs": [
    {
     "name": "stdout",
     "output_type": "stream",
     "text": [
      "The Total PNL sums up to be: $-825525.3905430436\n"
     ]
    }
   ],
   "source": [
    "PNL = np.sum(Returns*CashAmount)\n",
    "print(f\"The Total PNL sums up to be: ${PNL}\")"
   ]
  },
  {
   "cell_type": "markdown",
   "id": "8965bb83-f8c1-4aaf-ba78-73f3f40dd398",
   "metadata": {},
   "source": [
    "We can see that the returns are not a particularly great way to create a strategy. This is actually because calculated returns for values that move around zero produce highly unstable results."
   ]
  },
  {
   "cell_type": "markdown",
   "id": "34142de6-3893-44d9-b4fe-13e4dd10fd75",
   "metadata": {},
   "source": [
    "As a second way to evaluate this, let us consider buying 10,000 shares for the factor that has the greatest difference from t to t+1 and we can short 10,000 shares that has the most negative difference from t to t+1"
   ]
  },
  {
   "cell_type": "code",
   "execution_count": 1164,
   "id": "3f3d1867-98b3-493e-a98b-aff84edda37b",
   "metadata": {},
   "outputs": [],
   "source": [
    "predictedFactors = model(x_test)\n",
    "predictedDiff = ((predictedFactors - x_test[:,-1,:])).detach().numpy()\n",
    "actualDiff = ((y_test - x_test[:,-1,:])).detach().numpy()"
   ]
  },
  {
   "cell_type": "code",
   "execution_count": 1165,
   "id": "b21856b6-d555-4c2a-9868-264b5a48306b",
   "metadata": {},
   "outputs": [],
   "source": [
    "strategy = np.zeros(predictedDiff.shape)\n",
    "strategy[np.max(predictedDiff,axis=1).reshape(strategy.shape[0],1)==predictedDiff] = 1\n",
    "strategy[np.min(predictedDiff,axis=1).reshape(strategy.shape[0],1)==predictedDiff] = -1"
   ]
  },
  {
   "cell_type": "code",
   "execution_count": 1166,
   "id": "aeaad629-6145-41b6-88de-6b3d1cc5aa02",
   "metadata": {},
   "outputs": [],
   "source": [
    "Diff1 = actualDiff*strategy\n",
    "Diff = np.sum(Diff1,axis=1).reshape(Diff1.shape[0],1)"
   ]
  },
  {
   "cell_type": "code",
   "execution_count": 1177,
   "id": "98669cd1-22b6-4d06-b854-a81ff5a3fb2c",
   "metadata": {},
   "outputs": [
    {
     "name": "stdout",
     "output_type": "stream",
     "text": [
      "The total gain over the test set for buying 10,000 shares of the factor with the biggest expected difference and shorting 10,000 shares with the smallest expected difference is $2150899.988543242\n"
     ]
    }
   ],
   "source": [
    "totalNumberShares = 10000\n",
    "PNL = Diff*totalNumberShares\n",
    "print(f'The total gain over the test set for buying 10,000 shares of the factor with the biggest expected difference and shorting 10,000 shares with the smallest expected difference is ${np.sum(PNL)}')"
   ]
  },
  {
   "cell_type": "markdown",
   "id": "d7ce2629-1047-4bf6-ab4d-1514e05f200f",
   "metadata": {},
   "source": [
    "We can see that this is a much better strategy given the values that the Fama/French factors take on. It shows that we can reliably predict the direction of movement in the Fama/French factors and that we can implement a profitable strategy with this knowledge. Given that the maximum value of the Fama/French factors in the test set is about 8.2, we can expect that our strategy will never cost us more than $82,000 in one month"
   ]
  },
  {
   "cell_type": "markdown",
   "id": "e08bf2a4-57d0-49ba-a471-dc5f53958d22",
   "metadata": {},
   "source": [
    "Also note that because I have decided to look at the differences as apposed to the returns (For reasons stated above), I cannot calculated the sharpe ratio. This is primarily because my initial capital requirements are sometimes negative, thus suggesting that I require no capital for some month to month trades. "
   ]
  },
  {
   "cell_type": "markdown",
   "id": "e77be6bb-9cd8-4922-ad6e-8c06c2c69993",
   "metadata": {},
   "source": [
    "# Part 3"
   ]
  },
  {
   "cell_type": "code",
   "execution_count": 1208,
   "id": "ac8d398d-82b0-4afa-8e52-9fa8ee3c0a96",
   "metadata": {
    "tags": []
   },
   "outputs": [],
   "source": [
    "import pandas as pd\n",
    "df = pd.read_csv('F-F_Research_Data_5_Factors_2x3_daily.csv', skiprows = 3).iloc[:-59,:]"
   ]
  },
  {
   "cell_type": "code",
   "execution_count": 1209,
   "id": "75b5d4cd-fde4-44bd-8dbe-7483141390fc",
   "metadata": {},
   "outputs": [],
   "source": [
    "index1 = df[df[\"Unnamed: 0\"]==19700102].index[0]\n",
    "index2 = df[df[\"Unnamed: 0\"]==20091231].index[0]\n",
    "index3 = df[df[\"Unnamed: 0\"]==20151231].index[0]\n",
    "index4 = df[df[\"Unnamed: 0\"]==20201231].index[0]\n",
    "\n",
    "trainFeatures = df[[\"SMB\",\"HML\",\"RMW\",\"CMA\",\"RF\"]].loc[index1:index2]\n",
    "validationFeatures = df[[\"SMB\",\"HML\",\"RMW\",\"CMA\",\"RF\"]].loc[index2+1:index3]\n",
    "testFeatures = df[[\"SMB\",\"HML\",\"RMW\",\"CMA\",\"RF\"]].loc[index3+1:index4]"
   ]
  },
  {
   "cell_type": "code",
   "execution_count": 1211,
   "id": "3db588c2-cceb-4aaf-9b6e-be165da49829",
   "metadata": {},
   "outputs": [
    {
     "name": "stdout",
     "output_type": "stream",
     "text": [
      "x_train.shape =  (10027, 69, 5)\n",
      "y_train.shape =  (10027, 5)\n"
     ]
    }
   ],
   "source": [
    "def load_data(df, look_back):\n",
    "    data_raw = df.values # convert to numpy array\n",
    "    data = []\n",
    "    \n",
    "    # create all possible sequences of length look_back\n",
    "    for index in range(data_raw.shape[0] - look_back): \n",
    "        data.append(data_raw[index: index + look_back])\n",
    "    \n",
    "    data = np.array(data)\n",
    "    \n",
    "    x_train = data[:,:-1,:] #first (lookback - 1) elements\n",
    "    y_train = data[:,-1,:] #last element which is to be predicted based on x_train\n",
    "\n",
    "    return x_train, y_train\n",
    "\n",
    "look_back = 70 # sequence length\n",
    "x_train, y_train = load_data(trainFeatures, look_back)\n",
    "x_val, y_val = load_data(validationFeatures, look_back)\n",
    "x_test, y_test = load_data(testFeatures, look_back)\n",
    "print('x_train.shape = ',x_train.shape)\n",
    "print('y_train.shape = ',y_train.shape)"
   ]
  },
  {
   "cell_type": "code",
   "execution_count": 1212,
   "id": "cb5d1729-996a-4cc6-9b6f-c4d02ce3b72b",
   "metadata": {},
   "outputs": [],
   "source": [
    "x_train = torch.from_numpy(np.asfarray(x_train)).type(torch.Tensor)\n",
    "x_test = torch.from_numpy(np.asfarray(x_test)).type(torch.Tensor)\n",
    "x_val = torch.from_numpy(np.asfarray(x_val)).type(torch.Tensor)\n",
    "y_train = torch.from_numpy(np.asfarray(y_train)).type(torch.Tensor)\n",
    "y_test = torch.from_numpy(np.asfarray(y_test)).type(torch.Tensor)\n",
    "y_val = torch.from_numpy(np.asfarray(y_val)).type(torch.Tensor)"
   ]
  },
  {
   "cell_type": "code",
   "execution_count": 1213,
   "id": "a3d4fc29-9002-48bb-b753-4d6a6005f899",
   "metadata": {},
   "outputs": [],
   "source": [
    "input_dim = 5 # there is only single value at each node\n",
    "hidden_dim = 2\n",
    "num_layers = 2 #one LSTM stacked on top of each other\n",
    "output_dim = 5 #this is a regression problem now\n",
    "\n",
    "# Here we define our model as a class\n",
    "class LSTM(nn.Module):\n",
    "    def __init__(self, input_dim, hidden_dim, num_layers, output_dim):\n",
    "        super(LSTM, self).__init__()\n",
    "        # Hidden dimensions\n",
    "        self.hidden_dim = hidden_dim\n",
    "\n",
    "        # Number of hidden layers\n",
    "        self.num_layers = num_layers\n",
    "\n",
    "        self.n_outputs = output_dim\n",
    "\n",
    "        # batch_first=True causes input/output tensors to be of shape\n",
    "        # (batch_dim, seq_dim, feature_dim)\n",
    "        self.lstm = nn.LSTM(input_dim, hidden_dim, num_layers, batch_first=True,dropout = 0.5)\n",
    "\n",
    "        # Readout layer\n",
    "        self.fc = nn.Linear(hidden_dim, output_dim)\n",
    "\n",
    "    def forward(self, x):\n",
    "\n",
    "        self.batch_size = x.size(0)\n",
    "        # Initialize hidden state with zeros\n",
    "        h0 = torch.zeros(self.num_layers, self.batch_size, self.hidden_dim).requires_grad_()\n",
    "\n",
    "        # Initialize cell state\n",
    "        c0 = torch.zeros(self.num_layers, self.batch_size, self.hidden_dim).requires_grad_()\n",
    "\n",
    "        # We need to detach as we are doing truncated backpropagation through time (BPTT)\n",
    "        # If we don't, we'll backprop all the way to the start even after going through another batch\n",
    "\n",
    "        out, _ = self.lstm(x, (h0.detach(), c0.detach()))\n",
    "\n",
    "        final_out = self.fc(out[:,-1,:]) \n",
    "        final_out = final_out.view(-1,self.n_outputs)\n",
    "\n",
    "        return final_out\n"
   ]
  },
  {
   "cell_type": "code",
   "execution_count": 1214,
   "id": "bf86cf52-3751-417e-ae3a-1e6cf3a9be9c",
   "metadata": {},
   "outputs": [
    {
     "name": "stdout",
     "output_type": "stream",
     "text": [
      "LSTM(\n",
      "  (lstm): LSTM(5, 2, num_layers=2, batch_first=True, dropout=0.5)\n",
      "  (fc): Linear(in_features=2, out_features=5, bias=True)\n",
      ")\n"
     ]
    }
   ],
   "source": [
    "model = LSTM(input_dim=input_dim, hidden_dim=hidden_dim, output_dim=output_dim, num_layers=num_layers)\n",
    "\n",
    "loss = nn.MSELoss()\n",
    "\n",
    "optimizer = torch.optim.Adam(model.parameters(), lr=0.001)\n",
    "print(model)"
   ]
  },
  {
   "cell_type": "code",
   "execution_count": 1215,
   "id": "e797e60b-8fa5-4669-a647-a7fe480a19ec",
   "metadata": {},
   "outputs": [
    {
     "ename": "KeyboardInterrupt",
     "evalue": "",
     "output_type": "error",
     "traceback": [
      "\u001b[0;31m---------------------------------------------------------------------------\u001b[0m",
      "\u001b[0;31mKeyboardInterrupt\u001b[0m                         Traceback (most recent call last)",
      "\u001b[0;32m/var/folders/bv/j678dvtd34bc5mtymgsd2c6w0000gn/T/ipykernel_43857/1617861946.py\u001b[0m in \u001b[0;36m<module>\u001b[0;34m\u001b[0m\n\u001b[1;32m     22\u001b[0m \u001b[0;34m\u001b[0m\u001b[0m\n\u001b[1;32m     23\u001b[0m     \u001b[0;31m# Backward pass\u001b[0m\u001b[0;34m\u001b[0m\u001b[0;34m\u001b[0m\u001b[0m\n\u001b[0;32m---> 24\u001b[0;31m     \u001b[0mloss_val\u001b[0m\u001b[0;34m.\u001b[0m\u001b[0mbackward\u001b[0m\u001b[0;34m(\u001b[0m\u001b[0;34m)\u001b[0m\u001b[0;34m\u001b[0m\u001b[0;34m\u001b[0m\u001b[0m\n\u001b[0m\u001b[1;32m     25\u001b[0m \u001b[0;34m\u001b[0m\u001b[0m\n\u001b[1;32m     26\u001b[0m     \u001b[0;31m# Update parameters\u001b[0m\u001b[0;34m\u001b[0m\u001b[0;34m\u001b[0m\u001b[0m\n",
      "\u001b[0;32m~/opt/anaconda3/lib/python3.9/site-packages/torch/_tensor.py\u001b[0m in \u001b[0;36mbackward\u001b[0;34m(self, gradient, retain_graph, create_graph, inputs)\u001b[0m\n\u001b[1;32m    361\u001b[0m                 \u001b[0mcreate_graph\u001b[0m\u001b[0;34m=\u001b[0m\u001b[0mcreate_graph\u001b[0m\u001b[0;34m,\u001b[0m\u001b[0;34m\u001b[0m\u001b[0;34m\u001b[0m\u001b[0m\n\u001b[1;32m    362\u001b[0m                 inputs=inputs)\n\u001b[0;32m--> 363\u001b[0;31m         \u001b[0mtorch\u001b[0m\u001b[0;34m.\u001b[0m\u001b[0mautograd\u001b[0m\u001b[0;34m.\u001b[0m\u001b[0mbackward\u001b[0m\u001b[0;34m(\u001b[0m\u001b[0mself\u001b[0m\u001b[0;34m,\u001b[0m \u001b[0mgradient\u001b[0m\u001b[0;34m,\u001b[0m \u001b[0mretain_graph\u001b[0m\u001b[0;34m,\u001b[0m \u001b[0mcreate_graph\u001b[0m\u001b[0;34m,\u001b[0m \u001b[0minputs\u001b[0m\u001b[0;34m=\u001b[0m\u001b[0minputs\u001b[0m\u001b[0;34m)\u001b[0m\u001b[0;34m\u001b[0m\u001b[0;34m\u001b[0m\u001b[0m\n\u001b[0m\u001b[1;32m    364\u001b[0m \u001b[0;34m\u001b[0m\u001b[0m\n\u001b[1;32m    365\u001b[0m     \u001b[0;32mdef\u001b[0m \u001b[0mregister_hook\u001b[0m\u001b[0;34m(\u001b[0m\u001b[0mself\u001b[0m\u001b[0;34m,\u001b[0m \u001b[0mhook\u001b[0m\u001b[0;34m)\u001b[0m\u001b[0;34m:\u001b[0m\u001b[0;34m\u001b[0m\u001b[0;34m\u001b[0m\u001b[0m\n",
      "\u001b[0;32m~/opt/anaconda3/lib/python3.9/site-packages/torch/autograd/__init__.py\u001b[0m in \u001b[0;36mbackward\u001b[0;34m(tensors, grad_tensors, retain_graph, create_graph, grad_variables, inputs)\u001b[0m\n\u001b[1;32m    171\u001b[0m     \u001b[0;31m# some Python versions print out the first line of a multi-line function\u001b[0m\u001b[0;34m\u001b[0m\u001b[0;34m\u001b[0m\u001b[0m\n\u001b[1;32m    172\u001b[0m     \u001b[0;31m# calls in the traceback and some print out the last line\u001b[0m\u001b[0;34m\u001b[0m\u001b[0;34m\u001b[0m\u001b[0m\n\u001b[0;32m--> 173\u001b[0;31m     Variable._execution_engine.run_backward(  # Calls into the C++ engine to run the backward pass\n\u001b[0m\u001b[1;32m    174\u001b[0m         \u001b[0mtensors\u001b[0m\u001b[0;34m,\u001b[0m \u001b[0mgrad_tensors_\u001b[0m\u001b[0;34m,\u001b[0m \u001b[0mretain_graph\u001b[0m\u001b[0;34m,\u001b[0m \u001b[0mcreate_graph\u001b[0m\u001b[0;34m,\u001b[0m \u001b[0minputs\u001b[0m\u001b[0;34m,\u001b[0m\u001b[0;34m\u001b[0m\u001b[0;34m\u001b[0m\u001b[0m\n\u001b[1;32m    175\u001b[0m         allow_unreachable=True, accumulate_grad=True)  # Calls into the C++ engine to run the backward pass\n",
      "\u001b[0;31mKeyboardInterrupt\u001b[0m: "
     ]
    }
   ],
   "source": [
    "num_epochs = 500\n",
    "hist = np.zeros(num_epochs)\n",
    "hist2 = np.zeros(num_epochs)\n",
    "# Number of steps to unroll\n",
    "seq_dim =look_back-1  \n",
    "\n",
    "for t in range(num_epochs):\n",
    "    \n",
    "    # Forward pass\n",
    "    y_train_pred = model(x_train)\n",
    "\n",
    "    loss_val = loss(y_train_pred, y_train)\n",
    "\n",
    "    if t % 100 == 0 and t !=0:\n",
    "        print(\"\\nEpoch \", t, \"MSE: \", loss_val.item())\n",
    "        print(\"Epoch \",t,\"Val MSE: \",loss(model(x_val),y_val).item())\n",
    "\n",
    "    hist[t] = loss_val.item()\n",
    "    hist2[t] = loss(model(x_val),y_val).item()\n",
    "    # Zero out gradient, else they will accumulate between epochs\n",
    "    optimizer.zero_grad()\n",
    "\n",
    "    # Backward pass\n",
    "    loss_val.backward()\n",
    "\n",
    "    # Update parameters\n",
    "    optimizer.step()\n"
   ]
  },
  {
   "cell_type": "code",
   "execution_count": 1116,
   "id": "3c4dccf9-4d17-4140-a6df-a87789e42569",
   "metadata": {},
   "outputs": [
    {
     "data": {
      "text/plain": [
       "[Text(0.5, 0, 'Number of Epochs'),\n",
       " Text(0, 0.5, 'Average Mean-Square Error'),\n",
       " Text(0.5, 1.0, 'Error vs. Num Epochs')]"
      ]
     },
     "execution_count": 1116,
     "metadata": {},
     "output_type": "execute_result"
    },
    {
     "data": {
      "image/png": "[encoded data removed]",
      "text/plain": [
       "<Figure size 432x288 with 1 Axes>"
      ]
     },
     "metadata": {
      "needs_background": "light"
     },
     "output_type": "display_data"
    }
   ],
   "source": [
    "import seaborn as sns\n",
    "import matplotlib.pyplot as plt\n",
    "import matplotlib\n",
    "\n",
    "hist = pd.DataFrame(hist)#\n",
    "hist.rename(columns={0:\"Training Error\"},inplace=True)\n",
    "hist2 = pd.DataFrame(hist2)\n",
    "hist2.rename(columns={0:\"Validation Error\"},inplace = True)\n",
    "\n",
    "fig = sns.lineplot(data = hist)\n",
    "fig = sns.lineplot(data = hist2,palette=['r'])\n",
    "fig.set(xlabel=\"Number of Epochs\",ylabel=\"Average Mean-Square Error\",title = \"Error vs. Num Epochs\")"
   ]
  },
  {
   "cell_type": "code",
   "execution_count": 1117,
   "id": "ae7267b9-edd5-4c67-b5b8-0ebd39b68118",
   "metadata": {},
   "outputs": [
    {
     "name": "stdout",
     "output_type": "stream",
     "text": [
      "\n",
      "The model has loss of 5.2334394454956055 over the TEST SET\n",
      "\n"
     ]
    }
   ],
   "source": [
    "print(f\"\\nThe model has loss of {loss(model(x_test),y_test).item()} over the TEST SET\\n\")"
   ]
  },
  {
   "cell_type": "code",
   "execution_count": 1118,
   "id": "31a73964-1312-45b7-906b-e514ab996fdf",
   "metadata": {},
   "outputs": [
    {
     "name": "stdout",
     "output_type": "stream",
     "text": [
      "\n",
      "The loss on the TEST SET from using the factors at time t as a proxy for the factors at time t+1 gives us an average MSE of 8.808276176452637\n",
      "\n"
     ]
    }
   ],
   "source": [
    "lastVal = x_test[:,-1,:]\n",
    "lastSeqPredictionLoss = loss(lastVal,y_test).item()\n",
    "print(f'\\nThe loss on the TEST SET from using the factors at time t as a proxy for the factors at time t+1 gives us an average MSE of {lastSeqPredictionLoss}\\n')"
   ]
  },
  {
   "cell_type": "code",
   "execution_count": 1128,
   "id": "e9ddc133-5659-4c30-b033-9c62568953a2",
   "metadata": {},
   "outputs": [
    {
     "name": "stdout",
     "output_type": "stream",
     "text": [
      "\n",
      "The loss on the TEST SET from using a moving average over the last 5 periods as a proxy for the factors at time t+1 gives us an average MSE of 6.325165668558522\n",
      "\n"
     ]
    }
   ],
   "source": [
    "temp_X_Test = np.array(x_test[:,0,:])\n",
    "MALength = 5\n",
    "MA = np.zeros((temp_X_Test.shape[0]-MALength,5))\n",
    "\n",
    "for i in range(temp_X_Test.shape[0]-MALength):\n",
    "    mySlice = temp_X_Test[i:i+MALength]\n",
    "    MA[i,:] = np.average(mySlice,axis=0)\n",
    "\n",
    "temp = torch.from_numpy(MA)\n",
    "MAPredLoss = loss(temp,y_test[MALength:]).item()\n",
    "print(f'\\nThe loss on the TEST SET from using a moving average over the last 5 periods as a proxy for the factors at time t+1 gives us an average MSE of {MAPredLoss}\\n')"
   ]
  },
  {
   "cell_type": "code",
   "execution_count": null,
   "id": "b228dccc-548c-4385-964f-4fe2d584540d",
   "metadata": {},
   "outputs": [],
   "source": []
  },
  {
   "cell_type": "code",
   "execution_count": null,
   "id": "09b5cfea-f0c3-4e3a-8b05-86631febcbac",
   "metadata": {},
   "outputs": [],
   "source": []
  },
  {
   "cell_type": "code",
   "execution_count": null,
   "id": "0ba57d49-316d-446c-b3ed-10214ec40de3",
   "metadata": {},
   "outputs": [],
   "source": []
  },
  {
   "cell_type": "code",
   "execution_count": null,
   "id": "818ad826-8685-45b8-9a9d-de21ca37a152",
   "metadata": {},
   "outputs": [],
   "source": []
  },
  {
   "cell_type": "code",
   "execution_count": null,
   "id": "3fcb54b5-1471-4e96-8e17-1ad7adf6318b",
   "metadata": {},
   "outputs": [],
   "source": []
  },
  {
   "cell_type": "code",
   "execution_count": null,
   "id": "d6954079-7b13-4547-96c0-4c4e44d96835",
   "metadata": {},
   "outputs": [],
   "source": []
  },
  {
   "cell_type": "code",
   "execution_count": null,
   "id": "a0d3cbea-35a0-48f2-a78c-54fa5dd32a77",
   "metadata": {},
   "outputs": [],
   "source": []
  }
 ],
 "metadata": {
  "colab": {
   "provenance": []
  },
  "kernelspec": {
   "display_name": "Python 3 (ipykernel)",
   "language": "python",
   "name": "python3"
  },
  "language_info": {
   "codemirror_mode": {
    "name": "ipython",
    "version": 3
   },
   "file_extension": ".py",
   "mimetype": "text/x-python",
   "name": "python",
   "nbconvert_exporter": "python",
   "pygments_lexer": "ipython3",
   "version": "3.9.7"
  }
 },
 "nbformat": 4,
 "nbformat_minor": 5
}
