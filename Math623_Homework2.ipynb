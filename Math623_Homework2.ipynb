{
 "cells": [
  {
   "cell_type": "code",
   "execution_count": 185,
   "id": "9a56ae51-ed48-4b4d-b459-597e85a26650",
   "metadata": {},
   "outputs": [],
   "source": [
    "import numpy as np"
   ]
  },
  {
   "cell_type": "code",
   "execution_count": 186,
   "id": "dc358479-2d67-4866-9cc3-871670b8220f",
   "metadata": {},
   "outputs": [],
   "source": [
    "np.set_printoptions(edgeitems=30, linewidth=100000, formatter=dict(float=lambda x: \"%.3g\" % x))"
   ]
  },
  {
   "cell_type": "markdown",
   "id": "bab42c1c-284b-42d8-96fa-d1597e49fcdd",
   "metadata": {},
   "source": [
    "## 1.1 ##"
   ]
  },
  {
   "cell_type": "code",
   "execution_count": 187,
   "id": "1c3aa6f4-dc36-4e7f-8c1c-e43591da08d5",
   "metadata": {},
   "outputs": [],
   "source": [
    "sigma = 0.30\n",
    "a = 0.05\n",
    "deltat = 1/12\n",
    "V = sigma**2 * (1-np.exp(-2*a*deltat))/(2*a)\n",
    "deltau = np.sqrt(3*V)\n",
    "numMonths = 24\n",
    "P = lambda x: np.e**(-0.06 * x * deltat)"
   ]
  },
  {
   "cell_type": "code",
   "execution_count": 188,
   "id": "be3c1482-de63-4127-8a70-2c0a7c234026",
   "metadata": {},
   "outputs": [],
   "source": [
    "OU = np.zeros((numMonths*2 + 1,numMonths))"
   ]
  },
  {
   "cell_type": "code",
   "execution_count": 189,
   "id": "d3105968-6f80-4ad6-88c3-27b4d759bd67",
   "metadata": {},
   "outputs": [],
   "source": [
    "for i in range(int(numMonths)):\n",
    "    index1 = int(numMonths - i - 1)\n",
    "    index2 = int(numMonths + i + 1)\n",
    "    OU[index1][:] = (i+1) * deltau\n",
    "    OU[index2][:] = -(i+1) * deltau"
   ]
  },
  {
   "cell_type": "markdown",
   "id": "42bc6865-f9d6-40e4-bd03-56d4b71c5527",
   "metadata": {},
   "source": [
    "## 1.2 ##"
   ]
  },
  {
   "cell_type": "code",
   "execution_count": 190,
   "id": "085c26c4-3993-4a8c-9197-c13f8a84c710",
   "metadata": {},
   "outputs": [],
   "source": [
    "intermediateParams = np.zeros((numMonths*2 + 1, 6))"
   ]
  },
  {
   "cell_type": "code",
   "execution_count": 191,
   "id": "638a3663-4782-465a-8355-e187452cd14f",
   "metadata": {},
   "outputs": [],
   "source": [
    "intermediateParams[:,0] = np.arange(numMonths, -numMonths-1,-1)\n",
    "intermediateParams[:,1] = np.arange(numMonths, -numMonths-1,-1)"
   ]
  },
  {
   "cell_type": "code",
   "execution_count": 192,
   "id": "28ece8a5-f49f-4fa3-9fbc-5480320122d5",
   "metadata": {},
   "outputs": [],
   "source": [
    "for i in range(numMonths*2 + 1):\n",
    "    intermediateParams[i,2] = intermediateParams[i,0] * np.exp(-a * deltat) - intermediateParams[i,1]"
   ]
  },
  {
   "cell_type": "code",
   "execution_count": 193,
   "id": "dbea2a63-7dc6-4730-9900-19e18da42642",
   "metadata": {},
   "outputs": [],
   "source": [
    "for i in range(numMonths*2 + 1):\n",
    "    Beta = intermediateParams[i,2]\n",
    "    intermediateParams[i,3] = 1/6 + 1/2*(Beta**2 + Beta)"
   ]
  },
  {
   "cell_type": "code",
   "execution_count": 194,
   "id": "41fdc07f-d1cb-4d44-984b-377a0008b98e",
   "metadata": {},
   "outputs": [],
   "source": [
    "for i in range(numMonths*2 + 1):\n",
    "    Beta = intermediateParams[i,2]\n",
    "    intermediateParams[i,4] = 2/3 - Beta**2"
   ]
  },
  {
   "cell_type": "code",
   "execution_count": 195,
   "id": "a943a289-52b2-4bea-8fd6-19d047a16521",
   "metadata": {},
   "outputs": [],
   "source": [
    "for i in range(numMonths*2 + 1):\n",
    "    Beta = intermediateParams[i,2]\n",
    "    intermediateParams[i,5] = 1/6 + 1/2*(Beta**2 - Beta)"
   ]
  },
  {
   "cell_type": "markdown",
   "id": "9a26a3b7-04e1-4baf-8ad4-0cc19dd9d6f8",
   "metadata": {},
   "source": [
    "## 1.3 ##"
   ]
  },
  {
   "cell_type": "code",
   "execution_count": 276,
   "id": "c5226fc3-ceb3-4e8b-85c7-3b510d9dc4e9",
   "metadata": {},
   "outputs": [],
   "source": [
    "AD = np.zeros((numMonths*2 + 1,numMonths))\n",
    "AD[numMonths,0] = 1"
   ]
  },
  {
   "cell_type": "code",
   "execution_count": 277,
   "id": "3053963d-ad66-4acc-a433-15bd2cdc63f8",
   "metadata": {},
   "outputs": [],
   "source": [
    "r = np.zeros((numMonths*2 + 1, numMonths))\n",
    "r[numMonths,0] = -np.log(P(1))/(1/12)"
   ]
  },
  {
   "cell_type": "code",
   "execution_count": 278,
   "id": "534d2ec3-1054-4fff-aa19-0da5b9f942ac",
   "metadata": {
    "tags": []
   },
   "outputs": [],
   "source": [
    "from sympy import symbols, Eq, solve, lambdify\n",
    "\n",
    "for i in range(1,numMonths):\n",
    "    \n",
    "    r0 = symbols('r0')\n",
    "    P_sumAD = 0\n",
    "    P_sumAD = -P(i) + AD[numMonths,i-1]*np.e**(-r0*deltat)*intermediateParams[numMonths,4] + AD[numMonths+1,i-1]*np.e**(-r0*deltat)*intermediateParams[numMonths,3] + AD[numMonths-1,i-1]*np.e**(-r0*deltat)*intermediateParams[numMonths,5]\n",
    "    \n",
    "    for j in range(i):\n",
    "        \n",
    "        Pd_down_iter = intermediateParams[numMonths + j,5]\n",
    "        Pm_down_iter = intermediateParams[numMonths + j,4]\n",
    "        Pu_down_iter = intermediateParams[numMonths + j,3]\n",
    "        \n",
    "        Pd_up_iter = intermediateParams[numMonths - j,5]\n",
    "        Pm_up_iter = intermediateParams[numMonths - j,4]\n",
    "        Pu_up_iter = intermediateParams[numMonths - j,3]\n",
    "        \n",
    "        #find one step forward Arrow-Debreu Prices\n",
    "        AD[numMonths - j - 1, i ] = AD[numMonths - j , i - 1 ]*Pd_up_iter*np.exp(-r[numMonths - j, i - 1]*deltat) + AD[numMonths - j - 1, i - 1 ]*Pm_up_iter*np.exp(-r[numMonths - j - 1, i - 1]*deltat) + AD[numMonths - j - 2, i - 1 ]*Pu_up_iter*np.exp(-r[numMonths - j - 2, i - 1]*deltat)\n",
    "        AD[numMonths, i ] = AD[numMonths + 1, i-1]*intermediateParams[numMonths,5]*np.exp(-r[numMonths + 1, i - 1]*deltat) + AD[numMonths, i-1]*intermediateParams[numMonths,4]*np.exp(-r[numMonths , i - 1]*deltat) + AD[numMonths +1, i-1]*intermediateParams[numMonths,3]*np.exp(-r[numMonths + 1, i - 1]*deltat)\n",
    "        AD[numMonths + j + 1, i ] = AD[numMonths + j , i - 1 ]*Pd_down_iter*np.exp(-r[numMonths + j, i - 1]*deltat) + AD[numMonths + j + 1, i - 1 ]*Pm_down_iter*np.exp(-r[numMonths + j + 1, i - 1]*deltat) + AD[numMonths + j + 2, i - 1 ]*Pu_down_iter*np.exp(-r[numMonths + j + 2, i - 1]*deltat)   \n",
    "        \n",
    "    #update r values for one step ahead\n",
    "    for j in range(i):\n",
    "        # if i-j == 1\n",
    "        if i-j == 1:\n",
    "            P_sumAD += AD[numMonths-j,i-1]*np.e**(-r0*np.e**(OU[numMonths-j,i-1])*deltat)*intermediateParams[numMonths-j,3]\n",
    "            P_sumAD += AD[numMonths+j,i-1]*np.e**(-r0*np.e**(OU[numMonths+j,i-1])*deltat)*intermediateParams[numMonths+j,5]\n",
    "\n",
    "        # if i-j == 2\n",
    "        if i-j == 2:\n",
    "            P_sumAD += AD[numMonths-j,i-1]*np.e**(-r0*np.e**(OU[numMonths-j-1,i-1])*deltat)*intermediateParams[numMonths-j,3]\n",
    "            P_sumAD += AD[numMonths+j,i-1]*np.e**(-r0*np.e**(OU[numMonths+j+1,i-1])*deltat)*intermediateParams[numMonths+j,5]\n",
    "\n",
    "            P_sumAD += AD[numMonths-j-1,i-1]*np.e**(-r0*np.e**(OU[numMonths-j-1,i-1])*deltat)*intermediateParams[numMonths-j-1,4]\n",
    "            P_sumAD += AD[numMonths+j+1,i-1]*np.e**(-r0*np.e**(OU[numMonths+j+1,i-1])*deltat)*intermediateParams[numMonths+j+1,4]\n",
    "\n",
    "        # if i-j == 3\n",
    "        if i-j == 3:\n",
    "            P_sumAD += AD[numMonths-j,i-1]*np.e**(-r0*np.e**(OU[numMonths-j-1,i-1])*deltat)*intermediateParams[numMonths-j,3]\n",
    "            P_sumAD += AD[numMonths+j,i-1]*np.e**(-r0*np.e**(OU[numMonths+j+1,i-1])*deltat)*intermediateParams[numMonths+j,5]\n",
    "\n",
    "            P_sumAD += AD[numMonths-j-1,i-1]*np.e**(-r0*np.e**(OU[numMonths-j-1,i-1])*deltat)*intermediateParams[numMonths-j-1,4]\n",
    "            P_sumAD += AD[numMonths+j+1,i-1]*np.e**(-r0*np.e**(OU[numMonths+j+1,i-1])*deltat)*intermediateParams[numMonths+j+1,4] \n",
    "\n",
    "            P_sumAD += AD[numMonths-j-2,i-1]*np.e**(-r0*np.e**(OU[numMonths-j-2,i-1])*deltat)*intermediateParams[numMonths-j-2,5]\n",
    "            P_sumAD += AD[numMonths+j+2,i-1]*np.e**(-r0*np.e**(OU[numMonths+j+2,i-1])*deltat)*intermediateParams[numMonths+j+2,3]\n",
    "      \n",
    "    eq1 = Eq(P_sumAD)\n",
    "    convert = lambdify('r0',P_sumAD)\n",
    "    sol_r = convert(0)\n",
    "    \n",
    "    #update ri(0)\n",
    "    r[numMonths, i] = sol_r                                              \n",
    "    #update r matrix based off ri(0) * exp(OUij)\n",
    "    for j in range(i):\n",
    "        r[numMonths + j + 1 , i ] = r[numMonths, i] * np.exp(OU[numMonths + j + 1, i])\n",
    "        r[numMonths - j - 1 , i ] = r[numMonths, i] * np.exp(OU[numMonths - j - 1, i])"
   ]
  },
  {
   "cell_type": "code",
   "execution_count": null,
   "id": "387455ca-be34-4f47-a5ea-450dc1e8736b",
   "metadata": {},
   "outputs": [],
   "source": []
  },
  {
   "cell_type": "markdown",
   "id": "5f69464b-cb58-4dc4-9183-84131340d7b4",
   "metadata": {},
   "source": [
    "## 2.b ##"
   ]
  },
  {
   "cell_type": "code",
   "execution_count": 342,
   "id": "ba19cbcf-d597-4a36-ae57-546b22dc5cec",
   "metadata": {},
   "outputs": [],
   "source": [
    "from sympy import symbols , Eq, solve, diff, sqrt, simplify, evalf\n",
    "k = symbols('k')\n",
    "T = symbols('T')\n",
    "t = symbols('t')\n",
    "h = sqrt(k**2 + 2*s**2)\n",
    "o = symbols('o')\n",
    "s = symbols('s')\n",
    "r = symbols('r')"
   ]
  },
  {
   "cell_type": "code",
   "execution_count": 378,
   "id": "8a8134ce-5772-4e89-8e6a-03b8cadc56aa",
   "metadata": {},
   "outputs": [],
   "source": [
    "A = ((2*h * np.e**((T-t)*(k+h)/2))/(2*h + (k+h)*(np.e**((T-t)*h)-1)))**(2*k*o/(s**2))\n",
    "A_prime = diff(A,t)"
   ]
  },
  {
   "cell_type": "code",
   "execution_count": 379,
   "id": "43d7645d-621a-427c-9eca-936307ec1abb",
   "metadata": {},
   "outputs": [
    {
     "data": {
      "text/latex": [
       "$\\displaystyle \\left(\\frac{2 \\cdot 2.71828182845905^{\\frac{\\left(T - t\\right) \\left(k + \\sqrt{k^{2} + 2 s^{2}}\\right)}{2}} \\sqrt{k^{2} + 2 s^{2}}}{\\left(2.71828182845905^{\\left(T - t\\right) \\sqrt{k^{2} + 2 s^{2}}} - 1\\right) \\left(k + \\sqrt{k^{2} + 2 s^{2}}\\right) + 2 \\sqrt{k^{2} + 2 s^{2}}}\\right)^{\\frac{2 k o}{s^{2}}}$"
      ],
      "text/plain": [
       "(2*2.71828182845905**((T - t)*(k + sqrt(k**2 + 2*s**2))/2)*sqrt(k**2 + 2*s**2)/((2.71828182845905**((T - t)*sqrt(k**2 + 2*s**2)) - 1)*(k + sqrt(k**2 + 2*s**2)) + 2*sqrt(k**2 + 2*s**2)))**(2*k*o/s**2)"
      ]
     },
     "execution_count": 379,
     "metadata": {},
     "output_type": "execute_result"
    }
   ],
   "source": [
    "A"
   ]
  },
  {
   "cell_type": "code",
   "execution_count": 380,
   "id": "22ff124c-d868-402e-a777-ba3bcc4ed3b1",
   "metadata": {},
   "outputs": [
    {
     "data": {
      "text/latex": [
       "$\\displaystyle \\frac{2.71828182845905^{- \\frac{\\left(T - t\\right) \\left(k + \\sqrt{k^{2} + 2 s^{2}}\\right)}{2}} k o \\left(\\frac{2 \\cdot 2.71828182845905^{\\frac{\\left(T - t\\right) \\left(k + \\sqrt{k^{2} + 2 s^{2}}\\right)}{2}} \\sqrt{k^{2} + 2 s^{2}}}{\\left(2.71828182845905^{\\left(T - t\\right) \\sqrt{k^{2} + 2 s^{2}}} - 1\\right) \\left(k + \\sqrt{k^{2} + 2 s^{2}}\\right) + 2 \\sqrt{k^{2} + 2 s^{2}}}\\right)^{\\frac{2 k o}{s^{2}}} \\left(\\left(2.71828182845905^{\\left(T - t\\right) \\sqrt{k^{2} + 2 s^{2}}} - 1\\right) \\left(k + \\sqrt{k^{2} + 2 s^{2}}\\right) + 2 \\sqrt{k^{2} + 2 s^{2}}\\right) \\left(\\frac{2.0 \\cdot 2.71828182845905^{\\frac{\\left(T - t\\right) \\left(k + \\sqrt{k^{2} + 2 s^{2}}\\right)}{2}} \\cdot 2.71828182845905^{\\left(T - t\\right) \\sqrt{k^{2} + 2 s^{2}}} \\left(k + \\sqrt{k^{2} + 2 s^{2}}\\right) \\left(k^{2} + 2 s^{2}\\right)}{\\left(\\left(2.71828182845905^{\\left(T - t\\right) \\sqrt{k^{2} + 2 s^{2}}} - 1\\right) \\left(k + \\sqrt{k^{2} + 2 s^{2}}\\right) + 2 \\sqrt{k^{2} + 2 s^{2}}\\right)^{2}} + \\frac{2 \\cdot 2.71828182845905^{\\frac{\\left(T - t\\right) \\left(k + \\sqrt{k^{2} + 2 s^{2}}\\right)}{2}} \\left(- 0.5 k - 0.5 \\sqrt{k^{2} + 2 s^{2}}\\right) \\sqrt{k^{2} + 2 s^{2}}}{\\left(2.71828182845905^{\\left(T - t\\right) \\sqrt{k^{2} + 2 s^{2}}} - 1\\right) \\left(k + \\sqrt{k^{2} + 2 s^{2}}\\right) + 2 \\sqrt{k^{2} + 2 s^{2}}}\\right)}{s^{2} \\sqrt{k^{2} + 2 s^{2}}}$"
      ],
      "text/plain": [
       "k*o*(2*2.71828182845905**((T - t)*(k + sqrt(k**2 + 2*s**2))/2)*sqrt(k**2 + 2*s**2)/((2.71828182845905**((T - t)*sqrt(k**2 + 2*s**2)) - 1)*(k + sqrt(k**2 + 2*s**2)) + 2*sqrt(k**2 + 2*s**2)))**(2*k*o/s**2)*((2.71828182845905**((T - t)*sqrt(k**2 + 2*s**2)) - 1)*(k + sqrt(k**2 + 2*s**2)) + 2*sqrt(k**2 + 2*s**2))*(2.0*2.71828182845905**((T - t)*(k + sqrt(k**2 + 2*s**2))/2)*2.71828182845905**((T - t)*sqrt(k**2 + 2*s**2))*(k + sqrt(k**2 + 2*s**2))*(k**2 + 2*s**2)/((2.71828182845905**((T - t)*sqrt(k**2 + 2*s**2)) - 1)*(k + sqrt(k**2 + 2*s**2)) + 2*sqrt(k**2 + 2*s**2))**2 + 2*2.71828182845905**((T - t)*(k + sqrt(k**2 + 2*s**2))/2)*(-0.5*k - 0.5*sqrt(k**2 + 2*s**2))*sqrt(k**2 + 2*s**2)/((2.71828182845905**((T - t)*sqrt(k**2 + 2*s**2)) - 1)*(k + sqrt(k**2 + 2*s**2)) + 2*sqrt(k**2 + 2*s**2)))/(2.71828182845905**((T - t)*(k + sqrt(k**2 + 2*s**2))/2)*s**2*sqrt(k**2 + 2*s**2))"
      ]
     },
     "execution_count": 380,
     "metadata": {},
     "output_type": "execute_result"
    }
   ],
   "source": [
    "(A_prime)"
   ]
  },
  {
   "cell_type": "code",
   "execution_count": 381,
   "id": "81d5ceed-2463-4181-bb14-c193c7c13746",
   "metadata": {},
   "outputs": [],
   "source": [
    "B = (2 * (np.e**((T-t)*h)-1)) / (2*h + (k + h)*(np.e**((T-t)*h) - 1))\n",
    "B_prime = diff(B,t)"
   ]
  },
  {
   "cell_type": "code",
   "execution_count": 382,
   "id": "eed4b904-becf-467e-97fd-dea848e4672b",
   "metadata": {},
   "outputs": [
    {
     "data": {
      "text/latex": [
       "$\\displaystyle \\frac{2 \\cdot 2.71828182845905^{\\left(T - t\\right) \\sqrt{k^{2} + 2 s^{2}}} - 2}{\\left(2.71828182845905^{\\left(T - t\\right) \\sqrt{k^{2} + 2 s^{2}}} - 1\\right) \\left(k + \\sqrt{k^{2} + 2 s^{2}}\\right) + 2 \\sqrt{k^{2} + 2 s^{2}}}$"
      ],
      "text/plain": [
       "(2*2.71828182845905**((T - t)*sqrt(k**2 + 2*s**2)) - 2)/((2.71828182845905**((T - t)*sqrt(k**2 + 2*s**2)) - 1)*(k + sqrt(k**2 + 2*s**2)) + 2*sqrt(k**2 + 2*s**2))"
      ]
     },
     "execution_count": 382,
     "metadata": {},
     "output_type": "execute_result"
    }
   ],
   "source": [
    "B"
   ]
  },
  {
   "cell_type": "code",
   "execution_count": 383,
   "id": "1bf78902-7273-4312-a24d-ade3817eb268",
   "metadata": {},
   "outputs": [
    {
     "data": {
      "text/latex": [
       "$\\displaystyle \\frac{1.0 \\cdot 2.71828182845905^{\\left(T - t\\right) \\sqrt{k^{2} + 2 s^{2}}} \\left(2 \\cdot 2.71828182845905^{\\left(T - t\\right) \\sqrt{k^{2} + 2 s^{2}}} - 2\\right) \\left(k + \\sqrt{k^{2} + 2 s^{2}}\\right) \\sqrt{k^{2} + 2 s^{2}}}{\\left(\\left(2.71828182845905^{\\left(T - t\\right) \\sqrt{k^{2} + 2 s^{2}}} - 1\\right) \\left(k + \\sqrt{k^{2} + 2 s^{2}}\\right) + 2 \\sqrt{k^{2} + 2 s^{2}}\\right)^{2}} - \\frac{2.0 \\cdot 2.71828182845905^{\\left(T - t\\right) \\sqrt{k^{2} + 2 s^{2}}} \\sqrt{k^{2} + 2 s^{2}}}{\\left(2.71828182845905^{\\left(T - t\\right) \\sqrt{k^{2} + 2 s^{2}}} - 1\\right) \\left(k + \\sqrt{k^{2} + 2 s^{2}}\\right) + 2 \\sqrt{k^{2} + 2 s^{2}}}$"
      ],
      "text/plain": [
       "1.0*2.71828182845905**((T - t)*sqrt(k**2 + 2*s**2))*(2*2.71828182845905**((T - t)*sqrt(k**2 + 2*s**2)) - 2)*(k + sqrt(k**2 + 2*s**2))*sqrt(k**2 + 2*s**2)/((2.71828182845905**((T - t)*sqrt(k**2 + 2*s**2)) - 1)*(k + sqrt(k**2 + 2*s**2)) + 2*sqrt(k**2 + 2*s**2))**2 - 2.0*2.71828182845905**((T - t)*sqrt(k**2 + 2*s**2))*sqrt(k**2 + 2*s**2)/((2.71828182845905**((T - t)*sqrt(k**2 + 2*s**2)) - 1)*(k + sqrt(k**2 + 2*s**2)) + 2*sqrt(k**2 + 2*s**2))"
      ]
     },
     "execution_count": 383,
     "metadata": {},
     "output_type": "execute_result"
    }
   ],
   "source": [
    "B_prime"
   ]
  },
  {
   "cell_type": "code",
   "execution_count": 388,
   "id": "197e8c95-91ab-4c53-b7af-568d9d16aa26",
   "metadata": {},
   "outputs": [
    {
     "name": "stdout",
     "output_type": "stream",
     "text": [
      "-0.0\n",
      "1.0\n"
     ]
    }
   ],
   "source": [
    "#numerical check of solution 3.1\n",
    "convert = lambdify( ['k','T','t','o','s','r'], A_prime - k*o*B*A)\n",
    "sol_r = convert(1,30,0,0.03,0.1,0.01)\n",
    "print(np.round(sol_r,10))\n",
    "\n",
    "#terminal condition on A\n",
    "convert = lambdify( ['k','T','t','o','s','r'], A)\n",
    "sol_r = convert(1,30,30,0.03,0.1,0.01)\n",
    "print(sol_r)"
   ]
  },
  {
   "cell_type": "code",
   "execution_count": 399,
   "id": "5aee487a-ef5d-44eb-8fae-26300c8deb5f",
   "metadata": {},
   "outputs": [
    {
     "name": "stdout",
     "output_type": "stream",
     "text": [
      "-0.0\n",
      "0.0\n"
     ]
    }
   ],
   "source": [
    "#Numerical check of solution 3.2\n",
    "convert = lambdify( ['k','T','t','o','s','r'], -B_prime + 1/2*(s**2)*(B**2) + k*B - 1)\n",
    "sol_r = convert(1,30,0,0.03,0.1,0.01)\n",
    "print(np.round(sol_r,10))\n",
    "\n",
    "#terminal condition on B\n",
    "convert = lambdify( ['k','T','t','o','s','r'], -B_prime + 1/2*(s**2)*(B**2) + k*B - 1)\n",
    "sol_r = convert(1,0,0,0.03,0.1,0.01)\n",
    "print(sol_r)"
   ]
  },
  {
   "cell_type": "code",
   "execution_count": null,
   "id": "12bffcdf-56c7-40df-85ef-4973d14a3666",
   "metadata": {},
   "outputs": [],
   "source": []
  }
 ],
 "metadata": {
  "kernelspec": {
   "display_name": "Python 3 (ipykernel)",
   "language": "python",
   "name": "python3"
  },
  "language_info": {
   "codemirror_mode": {
    "name": "ipython",
    "version": 3
   },
   "file_extension": ".py",
   "mimetype": "text/x-python",
   "name": "python",
   "nbconvert_exporter": "python",
   "pygments_lexer": "ipython3",
   "version": "3.9.7"
  }
 },
 "nbformat": 4,
 "nbformat_minor": 5
}
