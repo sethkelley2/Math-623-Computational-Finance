{
 "cells": [
  {
   "cell_type": "code",
   "execution_count": 30,
   "id": "9a56ae51-ed48-4b4d-b459-597e85a26650",
   "metadata": {},
   "outputs": [],
   "source": [
    "import numpy as np"
   ]
  },
  {
   "cell_type": "code",
   "execution_count": 73,
   "id": "dc358479-2d67-4866-9cc3-871670b8220f",
   "metadata": {},
   "outputs": [],
   "source": [
    "np.set_printoptions(edgeitems=30, linewidth=100000, formatter=dict(float=lambda x: \"%.3g\" % x))"
   ]
  },
  {
   "cell_type": "markdown",
   "id": "bab42c1c-284b-42d8-96fa-d1597e49fcdd",
   "metadata": {},
   "source": [
    "## 1.1 ##"
   ]
  },
  {
   "cell_type": "code",
   "execution_count": 141,
   "id": "1c3aa6f4-dc36-4e7f-8c1c-e43591da08d5",
   "metadata": {},
   "outputs": [],
   "source": [
    "sigma = 0.30\n",
    "a = 0.05\n",
    "deltat = 1/12\n",
    "V = sigma**2 * (1-np.exp(-2*a*deltat))/(2*a)\n",
    "deltau = np.sqrt(3*V)\n",
    "numMonths = 24\n",
    "P = lambda x: np.exp(-0.06 * x * deltat)"
   ]
  },
  {
   "cell_type": "code",
   "execution_count": 93,
   "id": "be3c1482-de63-4127-8a70-2c0a7c234026",
   "metadata": {},
   "outputs": [],
   "source": [
    "OU = np.zeros((numMonths*2 + 1,numMonths))"
   ]
  },
  {
   "cell_type": "code",
   "execution_count": 94,
   "id": "d3105968-6f80-4ad6-88c3-27b4d759bd67",
   "metadata": {},
   "outputs": [],
   "source": [
    "for i in range(int(numMonths)):\n",
    "    index1 = int(numMonths - i - 1)\n",
    "    index2 = int(numMonths + i + 1)\n",
    "    OU[index1][:] = (i+1) * deltau\n",
    "    OU[index2][:] = -(i+1) * deltau"
   ]
  },
  {
   "cell_type": "markdown",
   "id": "42bc6865-f9d6-40e4-bd03-56d4b71c5527",
   "metadata": {},
   "source": [
    "## 1.2 ##"
   ]
  },
  {
   "cell_type": "code",
   "execution_count": 119,
   "id": "085c26c4-3993-4a8c-9197-c13f8a84c710",
   "metadata": {},
   "outputs": [],
   "source": [
    "intermediateParams = np.zeros((numMonths*2 + 1, 6))"
   ]
  },
  {
   "cell_type": "code",
   "execution_count": 120,
   "id": "638a3663-4782-465a-8355-e187452cd14f",
   "metadata": {},
   "outputs": [],
   "source": [
    "intermediateParams[:,0] = np.arange(numMonths, -numMonths-1,-1)\n",
    "intermediateParams[:,1] = np.arange(numMonths, -numMonths-1,-1)"
   ]
  },
  {
   "cell_type": "code",
   "execution_count": 121,
   "id": "28ece8a5-f49f-4fa3-9fbc-5480320122d5",
   "metadata": {},
   "outputs": [],
   "source": [
    "for i in range(numMonths*2 + 1):\n",
    "    intermediateParams[i,2] = intermediateParams[i,0] * np.exp(-a * deltat) - intermediateParams[i,1]"
   ]
  },
  {
   "cell_type": "code",
   "execution_count": 122,
   "id": "dbea2a63-7dc6-4730-9900-19e18da42642",
   "metadata": {},
   "outputs": [],
   "source": [
    "for i in range(numMonths*2 + 1):\n",
    "    Beta = intermediateParams[i,2]\n",
    "    intermediateParams[i,3] = 1/6 + 1/2*(Beta**2 + Beta)"
   ]
  },
  {
   "cell_type": "code",
   "execution_count": 123,
   "id": "41fdc07f-d1cb-4d44-984b-377a0008b98e",
   "metadata": {},
   "outputs": [],
   "source": [
    "for i in range(numMonths*2 + 1):\n",
    "    Beta = intermediateParams[i,2]\n",
    "    intermediateParams[i,4] = 2/3 - Beta**2"
   ]
  },
  {
   "cell_type": "code",
   "execution_count": 124,
   "id": "a943a289-52b2-4bea-8fd6-19d047a16521",
   "metadata": {},
   "outputs": [],
   "source": [
    "for i in range(numMonths*2 + 1):\n",
    "    Beta = intermediateParams[i,2]\n",
    "    intermediateParams[i,5] = 1/6 + 1/2*(Beta**2 - Beta)"
   ]
  },
  {
   "cell_type": "markdown",
   "id": "9a26a3b7-04e1-4baf-8ad4-0cc19dd9d6f8",
   "metadata": {},
   "source": [
    "## 1.3 ##"
   ]
  },
  {
   "cell_type": "code",
   "execution_count": 129,
   "id": "c5226fc3-ceb3-4e8b-85c7-3b510d9dc4e9",
   "metadata": {},
   "outputs": [],
   "source": [
    "AD = np.zeros((numMonths*2 + 1,numMonths))\n",
    "AD[numMonths,0] = 1"
   ]
  },
  {
   "cell_type": "code",
   "execution_count": 140,
   "id": "3053963d-ad66-4acc-a433-15bd2cdc63f8",
   "metadata": {},
   "outputs": [],
   "source": [
    "r = np.zeros((numMonths*2 + 1, numMonths))\n",
    "r[numMonths,0] = -np.log(P(1/12))/(1/12)"
   ]
  },
  {
   "cell_type": "code",
   "execution_count": null,
   "id": "40f2348d-8e73-4e74-9510-096889087d42",
   "metadata": {},
   "outputs": [],
   "source": [
    "P_sumAD += AD[numMonths-j-1,i-1]*np.exp(r0*np.exp(OU[numMonths-j-1,i-1]*deltat)*intermediateParams[numMonths,3]\n",
    "        P_sumAD += AD[numMonths+j+1,i-1]*np.exp(r0*np.exp(OU[numMonths+j+1,i-1]*deltat)*intermediateParams[numMonths,5]"
   ]
  },
  {
   "cell_type": "code",
   "execution_count": 131,
   "id": "534d2ec3-1054-4fff-aa19-0da5b9f942ac",
   "metadata": {},
   "outputs": [
    {
     "name": "stdout",
     "output_type": "stream",
     "text": [
      "1\n",
      "2\n",
      "3\n",
      "4\n",
      "5\n",
      "6\n",
      "7\n",
      "8\n",
      "9\n",
      "10\n",
      "11\n",
      "12\n",
      "13\n",
      "14\n",
      "15\n",
      "16\n",
      "17\n",
      "18\n",
      "19\n",
      "20\n",
      "21\n",
      "22\n",
      "23\n"
     ]
    }
   ],
   "source": [
    "from sympy import symbols, Eq, solve\n",
    "\n",
    "for i in range(1,numMonths):\n",
    "    \n",
    "    r0 = symbols('r0')\n",
    "    P_sumAD = 0\n",
    "    P_sumAD = -P(i) + AD[numMonths,i-1]*np.exp(r0*deltat)*intermediateParams[numMonths,4]\n",
    "    \n",
    "    for j in range(i):\n",
    "        \n",
    "        Pd_down_iter = intermediateParams[numMonths + j,5]\n",
    "        Pm_down_iter = intermediateParams[numMonths + j,4]\n",
    "        Pu_down_iter = intermediateParams[numMonths + j,3]\n",
    "        \n",
    "        Pd_up_iter = intermediateParams[numMonths - j,5]\n",
    "        Pm_up_iter = intermediateParams[numMonths - j,4]\n",
    "        Pu_up_iter = intermediateParams[numMonths - j,3]\n",
    "        \n",
    "        # if i-j == 1\n",
    "        if i-j == 1:\n",
    "            P_sumAD += AD[numMonths-j,i-1]*np.exp(r0*np.exp(OU[numMonths-j,i-1]*deltat)*intermediateParams[numMonths-j,3]\n",
    "            P_sumAD += AD[numMonths+j,i-1]*np.exp(r0*np.exp(OU[numMonths+j,i-1]*deltat)*intermediateParams[numMonths+j,5]\n",
    "        \n",
    "        # if i-j == 2\n",
    "        if i-j == 2:\n",
    "            P_sumAD += AD[numMonths-j,i-1]*np.exp(r0*np.exp(OU[numMonths-j-1,i-1]*deltat)*intermediateParams[numMonths-j,3]\n",
    "            P_sumAD += AD[numMonths+j,i-1]*np.exp(r0*np.exp(OU[numMonths+j+1,i-1]*deltat)*intermediateParams[numMonths+j,5]\n",
    "            \n",
    "            P_sumAD += AD[numMonths-j-1,i-1]*np.exp(r0*np.exp(OU[numMonths-j-1,i-1]*deltat)*intermediateParams[numMonths-j-1,4]\n",
    "            P_sumAD += AD[numMonths+j+1,i-1]*np.exp(r0*np.exp(OU[numMonths+j+1,i-1]*deltat)*intermediateParams[numMonths+j+1,4]\n",
    "        \n",
    "        # if i-j == 3\n",
    "        if i-j == 3:\n",
    "            P_sumAD += AD[numMonths-j-1,i-1]*np.exp(r0*np.exp(OU[numMonths-j-1,i-1]*deltat)*intermediateParams[numMonths,3]\n",
    "            P_sumAD += AD[numMonths+j+1,i-1]*np.exp(r0*np.exp(OU[numMonths+j+1,i-1]*deltat)*intermediateParams[numMonths,5]       \n",
    "        \n",
    "       #Update the r matrix so that the code below works\n",
    "        \n",
    "        \n",
    "        AD[numMonths - j - 1, i ] = AD[numMonths - j , i - 1 ]*Pd_up_iter*np.exp(-r[numMonths - j, i - 1]*deltat) + AD[numMonths - j - 1, i - 1 ]*Pm_up_iter*np.exp(-r[numMonths - j - 1, i - 1]*deltat) + AD[numMonths - j - 2, i - 1 ]*Pu_up_iter*np.exp(-r[numMonths - j - 2, i - 1]*deltat)\n",
    "        AD[numMonths, i ] = AD[numMonths + 1, i-1]*intermediateParams[numMonths,5]*np.exp(-r[numMonths + 1, i - 1]*deltat) + AD[numMonths, i-1]*intermediateParams[numMonths,4]*np.exp(-r[numMonths , i - 1]*deltat) + AD[numMonths +1, i-1]*intermediateParams[numMonths,3]*np.exp(-r[numMonths + 1, i - 1]*deltat)\n",
    "        AD[numMonths + j + 1, i ] = AD[numMonths + j , i - 1 ]*Pd_down_iter*np.exp(-r[numMonths + j, i - 1]*deltat) + AD[numMonths + j + 1, i - 1 ]*Pm_down_iter*np.exp(-r[numMonths + j + 1, i - 1]*deltat) + AD[numMonths + j + 2, i - 1 ]*Pu_down_iter*np.exp(-r[numMonths + j + 2, i - 1]*deltat)\n",
    "        \n",
    "        \n",
    "        #update r matrix based off ri(0) * exp(OUij)\n",
    "        r[numMonths + j + 1 , i ] = r[numMonths, i-1] * \n",
    "        r[numMonths , i ] = r[numMonths, i-1]* np.exp(\n",
    "        r[numMonths - j - 1 , i ] = "
   ]
  },
  {
   "cell_type": "code",
   "execution_count": 172,
   "id": "8eb35619-5b45-4b44-95a8-138d165095a0",
   "metadata": {},
   "outputs": [
    {
     "data": {
      "text/plain": [
       "array([[3.59, 3.59, 3.59, 3.59, 3.59, 3.59, 3.59, 3.59, 3.59, 3.59, 3.59, 3.59, 3.59, 3.59, 3.59, 3.59, 3.59, 3.59, 3.59, 3.59, 3.59, 3.59, 3.59, 3.59],\n",
       "       [3.44, 3.44, 3.44, 3.44, 3.44, 3.44, 3.44, 3.44, 3.44, 3.44, 3.44, 3.44, 3.44, 3.44, 3.44, 3.44, 3.44, 3.44, 3.44, 3.44, 3.44, 3.44, 3.44, 3.44],\n",
       "       [3.29, 3.29, 3.29, 3.29, 3.29, 3.29, 3.29, 3.29, 3.29, 3.29, 3.29, 3.29, 3.29, 3.29, 3.29, 3.29, 3.29, 3.29, 3.29, 3.29, 3.29, 3.29, 3.29, 3.29],\n",
       "       [3.14, 3.14, 3.14, 3.14, 3.14, 3.14, 3.14, 3.14, 3.14, 3.14, 3.14, 3.14, 3.14, 3.14, 3.14, 3.14, 3.14, 3.14, 3.14, 3.14, 3.14, 3.14, 3.14, 3.14],\n",
       "       [2.99, 2.99, 2.99, 2.99, 2.99, 2.99, 2.99, 2.99, 2.99, 2.99, 2.99, 2.99, 2.99, 2.99, 2.99, 2.99, 2.99, 2.99, 2.99, 2.99, 2.99, 2.99, 2.99, 2.99],\n",
       "       [2.84, 2.84, 2.84, 2.84, 2.84, 2.84, 2.84, 2.84, 2.84, 2.84, 2.84, 2.84, 2.84, 2.84, 2.84, 2.84, 2.84, 2.84, 2.84, 2.84, 2.84, 2.84, 2.84, 2.84],\n",
       "       [2.69, 2.69, 2.69, 2.69, 2.69, 2.69, 2.69, 2.69, 2.69, 2.69, 2.69, 2.69, 2.69, 2.69, 2.69, 2.69, 2.69, 2.69, 2.69, 2.69, 2.69, 2.69, 2.69, 2.69],\n",
       "       [2.54, 2.54, 2.54, 2.54, 2.54, 2.54, 2.54, 2.54, 2.54, 2.54, 2.54, 2.54, 2.54, 2.54, 2.54, 2.54, 2.54, 2.54, 2.54, 2.54, 2.54, 2.54, 2.54, 2.54],\n",
       "       [2.4, 2.4, 2.4, 2.4, 2.4, 2.4, 2.4, 2.4, 2.4, 2.4, 2.4, 2.4, 2.4, 2.4, 2.4, 2.4, 2.4, 2.4, 2.4, 2.4, 2.4, 2.4, 2.4, 2.4],\n",
       "       [2.25, 2.25, 2.25, 2.25, 2.25, 2.25, 2.25, 2.25, 2.25, 2.25, 2.25, 2.25, 2.25, 2.25, 2.25, 2.25, 2.25, 2.25, 2.25, 2.25, 2.25, 2.25, 2.25, 2.25],\n",
       "       [2.1, 2.1, 2.1, 2.1, 2.1, 2.1, 2.1, 2.1, 2.1, 2.1, 2.1, 2.1, 2.1, 2.1, 2.1, 2.1, 2.1, 2.1, 2.1, 2.1, 2.1, 2.1, 2.1, 2.1],\n",
       "       [1.95, 1.95, 1.95, 1.95, 1.95, 1.95, 1.95, 1.95, 1.95, 1.95, 1.95, 1.95, 1.95, 1.95, 1.95, 1.95, 1.95, 1.95, 1.95, 1.95, 1.95, 1.95, 1.95, 1.95],\n",
       "       [1.8, 1.8, 1.8, 1.8, 1.8, 1.8, 1.8, 1.8, 1.8, 1.8, 1.8, 1.8, 1.8, 1.8, 1.8, 1.8, 1.8, 1.8, 1.8, 1.8, 1.8, 1.8, 1.8, 1.8],\n",
       "       [1.65, 1.65, 1.65, 1.65, 1.65, 1.65, 1.65, 1.65, 1.65, 1.65, 1.65, 1.65, 1.65, 1.65, 1.65, 1.65, 1.65, 1.65, 1.65, 1.65, 1.65, 1.65, 1.65, 1.65],\n",
       "       [1.5, 1.5, 1.5, 1.5, 1.5, 1.5, 1.5, 1.5, 1.5, 1.5, 1.5, 1.5, 1.5, 1.5, 1.5, 1.5, 1.5, 1.5, 1.5, 1.5, 1.5, 1.5, 1.5, 1.5],\n",
       "       [1.35, 1.35, 1.35, 1.35, 1.35, 1.35, 1.35, 1.35, 1.35, 1.35, 1.35, 1.35, 1.35, 1.35, 1.35, 1.35, 1.35, 1.35, 1.35, 1.35, 1.35, 1.35, 1.35, 1.35],\n",
       "       [1.2, 1.2, 1.2, 1.2, 1.2, 1.2, 1.2, 1.2, 1.2, 1.2, 1.2, 1.2, 1.2, 1.2, 1.2, 1.2, 1.2, 1.2, 1.2, 1.2, 1.2, 1.2, 1.2, 1.2],\n",
       "       [1.05, 1.05, 1.05, 1.05, 1.05, 1.05, 1.05, 1.05, 1.05, 1.05, 1.05, 1.05, 1.05, 1.05, 1.05, 1.05, 1.05, 1.05, 1.05, 1.05, 1.05, 1.05, 1.05, 1.05],\n",
       "       [0.898, 0.898, 0.898, 0.898, 0.898, 0.898, 0.898, 0.898, 0.898, 0.898, 0.898, 0.898, 0.898, 0.898, 0.898, 0.898, 0.898, 0.898, 0.898, 0.898, 0.898, 0.898, 0.898, 0.898],\n",
       "       [0.748, 0.748, 0.748, 0.748, 0.748, 0.748, 0.748, 0.748, 0.748, 0.748, 0.748, 0.748, 0.748, 0.748, 0.748, 0.748, 0.748, 0.748, 0.748, 0.748, 0.748, 0.748, 0.748, 0.748],\n",
       "       [0.599, 0.599, 0.599, 0.599, 0.599, 0.599, 0.599, 0.599, 0.599, 0.599, 0.599, 0.599, 0.599, 0.599, 0.599, 0.599, 0.599, 0.599, 0.599, 0.599, 0.599, 0.599, 0.599, 0.599],\n",
       "       [0.449, 0.449, 0.449, 0.449, 0.449, 0.449, 0.449, 0.449, 0.449, 0.449, 0.449, 0.449, 0.449, 0.449, 0.449, 0.449, 0.449, 0.449, 0.449, 0.449, 0.449, 0.449, 0.449, 0.449],\n",
       "       [0.299, 0.299, 0.299, 0.299, 0.299, 0.299, 0.299, 0.299, 0.299, 0.299, 0.299, 0.299, 0.299, 0.299, 0.299, 0.299, 0.299, 0.299, 0.299, 0.299, 0.299, 0.299, 0.299, 0.299],\n",
       "       [0.15, 0.15, 0.15, 0.15, 0.15, 0.15, 0.15, 0.15, 0.15, 0.15, 0.15, 0.15, 0.15, 0.15, 0.15, 0.15, 0.15, 0.15, 0.15, 0.15, 0.15, 0.15, 0.15, 0.15],\n",
       "       [0, 0, 0, 0, 0, 0, 0, 0, 0, 0, 0, 0, 0, 0, 0, 0, 0, 0, 0, 0, 0, 0, 0, 0],\n",
       "       [-0.15, -0.15, -0.15, -0.15, -0.15, -0.15, -0.15, -0.15, -0.15, -0.15, -0.15, -0.15, -0.15, -0.15, -0.15, -0.15, -0.15, -0.15, -0.15, -0.15, -0.15, -0.15, -0.15, -0.15],\n",
       "       [-0.299, -0.299, -0.299, -0.299, -0.299, -0.299, -0.299, -0.299, -0.299, -0.299, -0.299, -0.299, -0.299, -0.299, -0.299, -0.299, -0.299, -0.299, -0.299, -0.299, -0.299, -0.299, -0.299, -0.299],\n",
       "       [-0.449, -0.449, -0.449, -0.449, -0.449, -0.449, -0.449, -0.449, -0.449, -0.449, -0.449, -0.449, -0.449, -0.449, -0.449, -0.449, -0.449, -0.449, -0.449, -0.449, -0.449, -0.449, -0.449, -0.449],\n",
       "       [-0.599, -0.599, -0.599, -0.599, -0.599, -0.599, -0.599, -0.599, -0.599, -0.599, -0.599, -0.599, -0.599, -0.599, -0.599, -0.599, -0.599, -0.599, -0.599, -0.599, -0.599, -0.599, -0.599, -0.599],\n",
       "       [-0.748, -0.748, -0.748, -0.748, -0.748, -0.748, -0.748, -0.748, -0.748, -0.748, -0.748, -0.748, -0.748, -0.748, -0.748, -0.748, -0.748, -0.748, -0.748, -0.748, -0.748, -0.748, -0.748, -0.748],\n",
       "       [-0.898, -0.898, -0.898, -0.898, -0.898, -0.898, -0.898, -0.898, -0.898, -0.898, -0.898, -0.898, -0.898, -0.898, -0.898, -0.898, -0.898, -0.898, -0.898, -0.898, -0.898, -0.898, -0.898, -0.898],\n",
       "       [-1.05, -1.05, -1.05, -1.05, -1.05, -1.05, -1.05, -1.05, -1.05, -1.05, -1.05, -1.05, -1.05, -1.05, -1.05, -1.05, -1.05, -1.05, -1.05, -1.05, -1.05, -1.05, -1.05, -1.05],\n",
       "       [-1.2, -1.2, -1.2, -1.2, -1.2, -1.2, -1.2, -1.2, -1.2, -1.2, -1.2, -1.2, -1.2, -1.2, -1.2, -1.2, -1.2, -1.2, -1.2, -1.2, -1.2, -1.2, -1.2, -1.2],\n",
       "       [-1.35, -1.35, -1.35, -1.35, -1.35, -1.35, -1.35, -1.35, -1.35, -1.35, -1.35, -1.35, -1.35, -1.35, -1.35, -1.35, -1.35, -1.35, -1.35, -1.35, -1.35, -1.35, -1.35, -1.35],\n",
       "       [-1.5, -1.5, -1.5, -1.5, -1.5, -1.5, -1.5, -1.5, -1.5, -1.5, -1.5, -1.5, -1.5, -1.5, -1.5, -1.5, -1.5, -1.5, -1.5, -1.5, -1.5, -1.5, -1.5, -1.5],\n",
       "       [-1.65, -1.65, -1.65, -1.65, -1.65, -1.65, -1.65, -1.65, -1.65, -1.65, -1.65, -1.65, -1.65, -1.65, -1.65, -1.65, -1.65, -1.65, -1.65, -1.65, -1.65, -1.65, -1.65, -1.65],\n",
       "       [-1.8, -1.8, -1.8, -1.8, -1.8, -1.8, -1.8, -1.8, -1.8, -1.8, -1.8, -1.8, -1.8, -1.8, -1.8, -1.8, -1.8, -1.8, -1.8, -1.8, -1.8, -1.8, -1.8, -1.8],\n",
       "       [-1.95, -1.95, -1.95, -1.95, -1.95, -1.95, -1.95, -1.95, -1.95, -1.95, -1.95, -1.95, -1.95, -1.95, -1.95, -1.95, -1.95, -1.95, -1.95, -1.95, -1.95, -1.95, -1.95, -1.95],\n",
       "       [-2.1, -2.1, -2.1, -2.1, -2.1, -2.1, -2.1, -2.1, -2.1, -2.1, -2.1, -2.1, -2.1, -2.1, -2.1, -2.1, -2.1, -2.1, -2.1, -2.1, -2.1, -2.1, -2.1, -2.1],\n",
       "       [-2.25, -2.25, -2.25, -2.25, -2.25, -2.25, -2.25, -2.25, -2.25, -2.25, -2.25, -2.25, -2.25, -2.25, -2.25, -2.25, -2.25, -2.25, -2.25, -2.25, -2.25, -2.25, -2.25, -2.25],\n",
       "       [-2.4, -2.4, -2.4, -2.4, -2.4, -2.4, -2.4, -2.4, -2.4, -2.4, -2.4, -2.4, -2.4, -2.4, -2.4, -2.4, -2.4, -2.4, -2.4, -2.4, -2.4, -2.4, -2.4, -2.4],\n",
       "       [-2.54, -2.54, -2.54, -2.54, -2.54, -2.54, -2.54, -2.54, -2.54, -2.54, -2.54, -2.54, -2.54, -2.54, -2.54, -2.54, -2.54, -2.54, -2.54, -2.54, -2.54, -2.54, -2.54, -2.54],\n",
       "       [-2.69, -2.69, -2.69, -2.69, -2.69, -2.69, -2.69, -2.69, -2.69, -2.69, -2.69, -2.69, -2.69, -2.69, -2.69, -2.69, -2.69, -2.69, -2.69, -2.69, -2.69, -2.69, -2.69, -2.69],\n",
       "       [-2.84, -2.84, -2.84, -2.84, -2.84, -2.84, -2.84, -2.84, -2.84, -2.84, -2.84, -2.84, -2.84, -2.84, -2.84, -2.84, -2.84, -2.84, -2.84, -2.84, -2.84, -2.84, -2.84, -2.84],\n",
       "       [-2.99, -2.99, -2.99, -2.99, -2.99, -2.99, -2.99, -2.99, -2.99, -2.99, -2.99, -2.99, -2.99, -2.99, -2.99, -2.99, -2.99, -2.99, -2.99, -2.99, -2.99, -2.99, -2.99, -2.99],\n",
       "       [-3.14, -3.14, -3.14, -3.14, -3.14, -3.14, -3.14, -3.14, -3.14, -3.14, -3.14, -3.14, -3.14, -3.14, -3.14, -3.14, -3.14, -3.14, -3.14, -3.14, -3.14, -3.14, -3.14, -3.14],\n",
       "       [-3.29, -3.29, -3.29, -3.29, -3.29, -3.29, -3.29, -3.29, -3.29, -3.29, -3.29, -3.29, -3.29, -3.29, -3.29, -3.29, -3.29, -3.29, -3.29, -3.29, -3.29, -3.29, -3.29, -3.29],\n",
       "       [-3.44, -3.44, -3.44, -3.44, -3.44, -3.44, -3.44, -3.44, -3.44, -3.44, -3.44, -3.44, -3.44, -3.44, -3.44, -3.44, -3.44, -3.44, -3.44, -3.44, -3.44, -3.44, -3.44, -3.44],\n",
       "       [-3.59, -3.59, -3.59, -3.59, -3.59, -3.59, -3.59, -3.59, -3.59, -3.59, -3.59, -3.59, -3.59, -3.59, -3.59, -3.59, -3.59, -3.59, -3.59, -3.59, -3.59, -3.59, -3.59, -3.59]])"
      ]
     },
     "execution_count": 172,
     "metadata": {},
     "output_type": "execute_result"
    }
   ],
   "source": [
    "OU"
   ]
  },
  {
   "cell_type": "code",
   "execution_count": 170,
   "id": "b74c4fd7-f83c-4a01-9a46-fe782f35e95b",
   "metadata": {},
   "outputs": [],
   "source": [
    "from sympy import symbols, Eq, solve\n",
    "\n",
    "x0 = symbols('x0')\n",
    "eq1 = Eq(x0*2 - 5*x0 + 6)\n",
    "\n",
    "sol = solve(eq1)"
   ]
  },
  {
   "cell_type": "code",
   "execution_count": 171,
   "id": "2fdadd66-b90b-4a32-a4ce-389a99a92365",
   "metadata": {},
   "outputs": [
    {
     "data": {
      "text/plain": [
       "[2]"
      ]
     },
     "execution_count": 171,
     "metadata": {},
     "output_type": "execute_result"
    }
   ],
   "source": [
    "sol"
   ]
  },
  {
   "cell_type": "code",
   "execution_count": 163,
   "id": "2bf471eb-8154-4973-9f88-ffae0d321743",
   "metadata": {},
   "outputs": [],
   "source": [
    "sums = 0\n",
    "for i in range(5):\n",
    "    x = symbols('x')\n",
    "    y = symbols('y')\n",
    "    sums =+ i*x + 2"
   ]
  },
  {
   "cell_type": "code",
   "execution_count": 165,
   "id": "c8f35984-7ba9-4255-b61d-93e1584e4e00",
   "metadata": {},
   "outputs": [
    {
     "data": {
      "text/latex": [
       "$\\displaystyle 4 x + 2$"
      ],
      "text/plain": [
       "4*x + 2"
      ]
     },
     "execution_count": 165,
     "metadata": {},
     "output_type": "execute_result"
    }
   ],
   "source": [
    "sums"
   ]
  },
  {
   "cell_type": "code",
   "execution_count": 166,
   "id": "4f0b473a-09ba-44b5-a0f3-616581e2565d",
   "metadata": {},
   "outputs": [
    {
     "data": {
      "text/plain": [
       "[-1/2]"
      ]
     },
     "execution_count": 166,
     "metadata": {},
     "output_type": "execute_result"
    }
   ],
   "source": [
    "solve(sums)"
   ]
  },
  {
   "cell_type": "code",
   "execution_count": null,
   "id": "f835ce18-e84f-4bff-aa0c-88fb9247bb21",
   "metadata": {},
   "outputs": [],
   "source": []
  }
 ],
 "metadata": {
  "kernelspec": {
   "display_name": "Python 3 (ipykernel)",
   "language": "python",
   "name": "python3"
  },
  "language_info": {
   "codemirror_mode": {
    "name": "ipython",
    "version": 3
   },
   "file_extension": ".py",
   "mimetype": "text/x-python",
   "name": "python",
   "nbconvert_exporter": "python",
   "pygments_lexer": "ipython3",
   "version": "3.9.7"
  }
 },
 "nbformat": 4,
 "nbformat_minor": 5
}
