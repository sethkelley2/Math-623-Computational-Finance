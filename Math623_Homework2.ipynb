{
 "cells": [
  {
   "cell_type": "code",
   "execution_count": 1625,
   "id": "9a56ae51-ed48-4b4d-b459-597e85a26650",
   "metadata": {},
   "outputs": [],
   "source": [
    "import numpy as np\n",
    "import math"
   ]
  },
  {
   "cell_type": "code",
   "execution_count": 1626,
   "id": "dc358479-2d67-4866-9cc3-871670b8220f",
   "metadata": {},
   "outputs": [],
   "source": [
    "np.set_printoptions(edgeitems=30, linewidth=100000, formatter=dict(float=lambda x: \"%.3g\" % x))"
   ]
  },
  {
   "cell_type": "markdown",
   "id": "bab42c1c-284b-42d8-96fa-d1597e49fcdd",
   "metadata": {},
   "source": [
    "## 1.1 ##"
   ]
  },
  {
   "cell_type": "code",
   "execution_count": 1987,
   "id": "1c3aa6f4-dc36-4e7f-8c1c-e43591da08d5",
   "metadata": {},
   "outputs": [],
   "source": [
    "sigma = 0.30\n",
    "a = 0.05\n",
    "deltat = 1/12\n",
    "V = sigma**2 * (1-np.exp(-2*a*deltat))/(2*a)\n",
    "deltau = np.sqrt(3*V)\n",
    "numMonths = 24\n",
    "P = lambda x: np.e**(-0.06 * x * deltat)"
   ]
  },
  {
   "cell_type": "code",
   "execution_count": 1988,
   "id": "be3c1482-de63-4127-8a70-2c0a7c234026",
   "metadata": {},
   "outputs": [],
   "source": [
    "OU = np.zeros((numMonths*2 + 1,numMonths))"
   ]
  },
  {
   "cell_type": "code",
   "execution_count": 1989,
   "id": "d3105968-6f80-4ad6-88c3-27b4d759bd67",
   "metadata": {},
   "outputs": [],
   "source": [
    "for i in range(int(numMonths)):\n",
    "    index1 = int(numMonths - i - 1)\n",
    "    index2 = int(numMonths + i + 1)\n",
    "    OU[index1][:] = (i+1) * deltau\n",
    "    OU[index2][:] = -(i+1) * deltau"
   ]
  },
  {
   "cell_type": "markdown",
   "id": "42bc6865-f9d6-40e4-bd03-56d4b71c5527",
   "metadata": {},
   "source": [
    "## 1.2 ##"
   ]
  },
  {
   "cell_type": "code",
   "execution_count": 1990,
   "id": "085c26c4-3993-4a8c-9197-c13f8a84c710",
   "metadata": {},
   "outputs": [],
   "source": [
    "intermediateParams = np.zeros((numMonths*2 + 1, 6))"
   ]
  },
  {
   "cell_type": "code",
   "execution_count": 1991,
   "id": "638a3663-4782-465a-8355-e187452cd14f",
   "metadata": {},
   "outputs": [],
   "source": [
    "intermediateParams[:,0] = np.arange(numMonths, -numMonths-1,-1)\n",
    "intermediateParams[:,1] = np.arange(numMonths, -numMonths-1,-1)"
   ]
  },
  {
   "cell_type": "code",
   "execution_count": 1992,
   "id": "28ece8a5-f49f-4fa3-9fbc-5480320122d5",
   "metadata": {},
   "outputs": [],
   "source": [
    "for i in range(numMonths*2 + 1):\n",
    "    intermediateParams[i,2] = intermediateParams[i,0] * np.exp(-a * deltat) - math.floor(intermediateParams[i,0]*np.exp(-a * deltat) + 1/2)"
   ]
  },
  {
   "cell_type": "code",
   "execution_count": 1993,
   "id": "dbea2a63-7dc6-4730-9900-19e18da42642",
   "metadata": {},
   "outputs": [],
   "source": [
    "for i in range(numMonths*2 + 1):\n",
    "    Beta = intermediateParams[i,2]\n",
    "    intermediateParams[i,3] = 1/6 + 1/2*(Beta**2 + Beta)"
   ]
  },
  {
   "cell_type": "code",
   "execution_count": 1994,
   "id": "41fdc07f-d1cb-4d44-984b-377a0008b98e",
   "metadata": {},
   "outputs": [],
   "source": [
    "for i in range(numMonths*2 + 1):\n",
    "    Beta = intermediateParams[i,2]\n",
    "    intermediateParams[i,4] = 2/3 - (Beta**2)"
   ]
  },
  {
   "cell_type": "code",
   "execution_count": 1995,
   "id": "a943a289-52b2-4bea-8fd6-19d047a16521",
   "metadata": {},
   "outputs": [],
   "source": [
    "for i in range(numMonths*2 + 1):\n",
    "    Beta = intermediateParams[i,2]\n",
    "    intermediateParams[i,5] = 1/6 + 1/2*(Beta**2 - Beta)"
   ]
  },
  {
   "cell_type": "markdown",
   "id": "9a26a3b7-04e1-4baf-8ad4-0cc19dd9d6f8",
   "metadata": {},
   "source": [
    "## 1.3/1.4 ##"
   ]
  },
  {
   "cell_type": "code",
   "execution_count": 1996,
   "id": "c5226fc3-ceb3-4e8b-85c7-3b510d9dc4e9",
   "metadata": {},
   "outputs": [],
   "source": [
    "AD = np.zeros((numMonths*2 + 1,numMonths))\n",
    "AD[numMonths,0] = 1"
   ]
  },
  {
   "cell_type": "code",
   "execution_count": 1997,
   "id": "3053963d-ad66-4acc-a433-15bd2cdc63f8",
   "metadata": {
    "tags": []
   },
   "outputs": [],
   "source": [
    "r = np.zeros((numMonths*2 + 1, numMonths))\n",
    "r[numMonths,0] = -np.log(P(1))/(1/12)"
   ]
  },
  {
   "cell_type": "code",
   "execution_count": 1998,
   "id": "7a9844f2-f3cf-491a-876a-03e7bb0f6107",
   "metadata": {
    "tags": []
   },
   "outputs": [],
   "source": [
    "from sympy import symbols, Eq, solve, lambdify, nsolve\n",
    "\n",
    "for i in range(1,numMonths):\n",
    "#for i in range(1,2):\n",
    "    \n",
    "    r0 = symbols('r0')\n",
    "    P_sumAD = AD[numMonths,i-1]*np.e**(-r0*deltat)*intermediateParams[numMonths,4] + AD[numMonths+1,i-1]*np.e**(-r0*np.e**(OU[numMonths+1,i-1])*deltat)*intermediateParams[numMonths,3] + AD[numMonths-1,i-1]*np.e**(-r0*np.e**(OU[numMonths-1,i-1])*deltat)*intermediateParams[numMonths,5]\n",
    "    #-P(i) +\n",
    "    #update r values for one step ahead\n",
    "    for j in range(i):\n",
    "        # if i-j == 1\n",
    "        if i-j == 1:\n",
    "            P_sumAD += AD[numMonths-j,i-1]*np.e**(-r0*np.e**(OU[numMonths-j,i-1])*deltat)*intermediateParams[numMonths-j,3]\n",
    "            P_sumAD += AD[numMonths+j,i-1]*np.e**(-r0*np.e**(OU[numMonths+j,i-1])*deltat)*intermediateParams[numMonths+j,5]\n",
    "\n",
    "        # if i-j == 2\n",
    "        if i-j == 2:\n",
    "            P_sumAD += AD[numMonths-j,i-1]*np.e**(-r0*np.e**(OU[numMonths-j,i-1])*deltat)*intermediateParams[numMonths-j,3]\n",
    "            P_sumAD += AD[numMonths+j,i-1]*np.e**(-r0*np.e**(OU[numMonths+j,i-1])*deltat)*intermediateParams[numMonths+j,5]\n",
    "\n",
    "            P_sumAD += AD[numMonths-j-1,i-1]*np.e**(-r0*np.e**(OU[numMonths-j-1,i-1])*deltat)*intermediateParams[numMonths-j-1,4]\n",
    "            P_sumAD += AD[numMonths+j+1,i-1]*np.e**(-r0*np.e**(OU[numMonths+j+1,i-1])*deltat)*intermediateParams[numMonths+j+1,4]\n",
    "\n",
    "        # if i-j == 3\n",
    "        if i-j >= 3:\n",
    "            P_sumAD += AD[numMonths-j,i-1]*np.e**(-r0*np.e**(OU[numMonths-j,i-1])*deltat)*intermediateParams[numMonths-j,3]\n",
    "            P_sumAD += AD[numMonths+j,i-1]*np.e**(-r0*np.e**(OU[numMonths+j,i-1])*deltat)*intermediateParams[numMonths+j,5]\n",
    "\n",
    "            P_sumAD += AD[numMonths-j-1,i-1]*np.e**(-r0*np.e**(OU[numMonths-j-1,i-1])*deltat)*intermediateParams[numMonths-j-1,4]\n",
    "            P_sumAD += AD[numMonths+j+1,i-1]*np.e**(-r0*np.e**(OU[numMonths+j+1,i-1])*deltat)*intermediateParams[numMonths+j+1,4] \n",
    "\n",
    "            P_sumAD += AD[numMonths-j-2,i-1]*np.e**(-r0*np.e**(OU[numMonths-j-2,i-1])*deltat)*intermediateParams[numMonths-j-2,5]\n",
    "            P_sumAD += AD[numMonths+j+2,i-1]*np.e**(-r0*np.e**(OU[numMonths+j+2,i-1])*deltat)*intermediateParams[numMonths+j+2,3]\n",
    "      \n",
    "    eq1 = Eq(P_sumAD,P(i))\n",
    "    solution = sympy.nsolve(eq1,0)\n",
    "    \n",
    "    #update ri(0)\n",
    "    r[numMonths, i-1] = solution                                             \n",
    "    #update r matrix based off ri(0) * exp(OUij)\n",
    "    for j in range(i-1):\n",
    "        r[numMonths + j + 1 , i-1 ] = r[numMonths, i-1] * np.exp(OU[numMonths + j + 1, i-1])\n",
    "        r[numMonths - j - 1 , i-1 ] = r[numMonths, i-1] * np.exp(OU[numMonths - j - 1, i-1])\n",
    "        \n",
    "    for j in range(i):\n",
    "        \n",
    "        Pd_down_iter = intermediateParams[numMonths + j,5]\n",
    "        Pm_down_iter = intermediateParams[numMonths + j,4]\n",
    "        Pu_down_iter = intermediateParams[numMonths + j,3]\n",
    "        \n",
    "        Pd_up_iter = intermediateParams[numMonths - j,5]\n",
    "        Pm_up_iter = intermediateParams[numMonths - j,4]\n",
    "        Pu_up_iter = intermediateParams[numMonths - j,3]\n",
    "        \n",
    "        #find one step forward Arrow-Debreu Prices\n",
    "        AD[numMonths - j - 1, i ] = abs(AD[numMonths - j , i - 1 ])*Pd_up_iter*np.exp(-r[numMonths - j, i - 1]*deltat) + abs(AD[numMonths - j - 1, i - 1 ])*Pm_up_iter*np.exp(-r[numMonths - j - 1, i - 1]*deltat) + abs(AD[numMonths - j - 2, i - 1 ])*Pu_up_iter*np.exp(-r[numMonths - j - 2, i - 1]*deltat)\n",
    "        AD[numMonths, i ] = abs(AD[numMonths + 1, i-1])*intermediateParams[numMonths,5]*np.exp(-r[numMonths + 1, i - 1]*deltat) + abs(AD[numMonths, i-1])*intermediateParams[numMonths,4]*np.exp(-r[numMonths , i - 1]*deltat) + abs(AD[numMonths +1, i-1])*intermediateParams[numMonths,3]*np.exp(-r[numMonths + 1, i - 1]*deltat)\n",
    "        AD[numMonths + j + 1, i ] = abs(AD[numMonths + j , i - 1 ])*Pd_down_iter*np.exp(-r[numMonths + j, i - 1]*deltat) + abs(AD[numMonths + j + 1, i - 1 ])*Pm_down_iter*np.exp(-r[numMonths + j + 1, i - 1]*deltat) + abs(AD[numMonths + j + 2, i - 1 ])*Pu_down_iter*np.exp(-r[numMonths + j + 2, i - 1]*deltat)   \n",
    "    "
   ]
  },
  {
   "cell_type": "code",
   "execution_count": 1999,
   "id": "df27216d-6f84-4685-8f51-3aa3221621b5",
   "metadata": {},
   "outputs": [],
   "source": [
    "i = 24\n",
    "r0 = symbols('r0')\n",
    "P_sumAD = AD[numMonths,i-1]*np.e**(-r0*deltat)*intermediateParams[numMonths,4] + AD[numMonths+1,i-1]*np.e**(-r0*np.e**(OU[numMonths+1,i-1])*deltat)*intermediateParams[numMonths,3] + AD[numMonths-1,i-1]*np.e**(-r0*np.e**(OU[numMonths-1,i-1])*deltat)*intermediateParams[numMonths,5]\n",
    "#-P(i) +\n",
    "#update r values for one step ahead\n",
    "for j in range(i):\n",
    "    # if i-j == 1\n",
    "    if i-j == 1:\n",
    "        P_sumAD += AD[numMonths-j,i-1]*np.e**(-r0*np.e**(OU[numMonths-j,i-1])*deltat)*intermediateParams[numMonths-j,3]\n",
    "        P_sumAD += AD[numMonths+j,i-1]*np.e**(-r0*np.e**(OU[numMonths+j,i-1])*deltat)*intermediateParams[numMonths+j,5]\n",
    "\n",
    "        # if i-j == 2\n",
    "    if i-j == 2:\n",
    "        P_sumAD += AD[numMonths-j,i-1]*np.e**(-r0*np.e**(OU[numMonths-j,i-1])*deltat)*intermediateParams[numMonths-j,3]\n",
    "        P_sumAD += AD[numMonths+j,i-1]*np.e**(-r0*np.e**(OU[numMonths+j,i-1])*deltat)*intermediateParams[numMonths+j,5]\n",
    "\n",
    "        P_sumAD += AD[numMonths-j-1,i-1]*np.e**(-r0*np.e**(OU[numMonths-j-1,i-1])*deltat)*intermediateParams[numMonths-j-1,4]\n",
    "        P_sumAD += AD[numMonths+j+1,i-1]*np.e**(-r0*np.e**(OU[numMonths+j+1,i-1])*deltat)*intermediateParams[numMonths+j+1,4]\n",
    "\n",
    "        # if i-j == 3\n",
    "    if i-j >= 3:\n",
    "        P_sumAD += AD[numMonths-j,i-1]*np.e**(-r0*np.e**(OU[numMonths-j,i-1])*deltat)*intermediateParams[numMonths-j,3]\n",
    "        P_sumAD += AD[numMonths+j,i-1]*np.e**(-r0*np.e**(OU[numMonths+j,i-1])*deltat)*intermediateParams[numMonths+j,5]\n",
    "\n",
    "        P_sumAD += AD[numMonths-j-1,i-1]*np.e**(-r0*np.e**(OU[numMonths-j-1,i-1])*deltat)*intermediateParams[numMonths-j-1,4]\n",
    "        P_sumAD += AD[numMonths+j+1,i-1]*np.e**(-r0*np.e**(OU[numMonths+j+1,i-1])*deltat)*intermediateParams[numMonths+j+1,4] \n",
    "\n",
    "        P_sumAD += AD[numMonths-j-2,i-1]*np.e**(-r0*np.e**(OU[numMonths-j-2,i-1])*deltat)*intermediateParams[numMonths-j-2,5]\n",
    "        P_sumAD += AD[numMonths+j+2,i-1]*np.e**(-r0*np.e**(OU[numMonths+j+2,i-1])*deltat)*intermediateParams[numMonths+j+2,3]\n",
    "      \n",
    "eq1 = Eq(P_sumAD,P(i))\n",
    "solution = sympy.nsolve(eq1,0)\n",
    "    \n",
    "    #update ri(0)\n",
    "r[numMonths, i-1] = solution                                             \n",
    "    #update r matrix based off ri(0) * exp(OUij)\n",
    "for j in range(i-1):\n",
    "    r[numMonths + j + 1 , i-1 ] = r[numMonths, i-1] * np.exp(OU[numMonths + j + 1, i-1])\n",
    "    r[numMonths - j - 1 , i-1 ] = r[numMonths, i-1] * np.exp(OU[numMonths - j - 1, i-1])"
   ]
  },
  {
   "cell_type": "markdown",
   "id": "53693578-f6a7-4bac-8f71-9b066cf5402c",
   "metadata": {
    "tags": []
   },
   "source": [
    "## 1.5"
   ]
  },
  {
   "cell_type": "code",
   "execution_count": 2081,
   "id": "e739b4e3-d548-4c21-9ecf-8d46dcbd1768",
   "metadata": {},
   "outputs": [],
   "source": [
    "deltat = 1/4\n",
    "P = lambda x: np.e**(-0.06 * x * deltat)\n",
    "numMonths = 8 #This is actually number of quarters but I am not changing the variable name"
   ]
  },
  {
   "cell_type": "code",
   "execution_count": 2082,
   "id": "e11023a4-dbdf-455c-b4b6-5c7f533c1c14",
   "metadata": {},
   "outputs": [],
   "source": [
    "intermediateParams = np.zeros((numMonths*2 + 1, 6))"
   ]
  },
  {
   "cell_type": "code",
   "execution_count": 2083,
   "id": "28fd89ae-07d9-43cc-932a-1a61733b4234",
   "metadata": {},
   "outputs": [],
   "source": [
    "intermediateParams[:,0] = np.arange(numMonths, -numMonths-1,-1)\n",
    "intermediateParams[:,1] = np.arange(numMonths, -numMonths-1,-1)"
   ]
  },
  {
   "cell_type": "code",
   "execution_count": 2084,
   "id": "079b30a5-00b3-4dac-a4bc-ba1e93e99b83",
   "metadata": {},
   "outputs": [],
   "source": [
    "for i in range(numMonths*2 + 1):\n",
    "    intermediateParams[i,2] = intermediateParams[i,0] * np.exp(-a * deltat) - math.floor(intermediateParams[i,0]*np.exp(-a * deltat) + 1/2)"
   ]
  },
  {
   "cell_type": "code",
   "execution_count": 2085,
   "id": "98746708-c335-48a9-8a00-4a8f1f4eb80f",
   "metadata": {},
   "outputs": [],
   "source": [
    "for i in range(numMonths*2 + 1):\n",
    "    Beta = intermediateParams[i,2]\n",
    "    intermediateParams[i,3] = 1/6 + 1/2*(Beta**2 + Beta)"
   ]
  },
  {
   "cell_type": "code",
   "execution_count": 2086,
   "id": "09b1154f-e91b-4465-af4c-45544f4c36e8",
   "metadata": {},
   "outputs": [],
   "source": [
    "for i in range(numMonths*2 + 1):\n",
    "    Beta = intermediateParams[i,2]\n",
    "    intermediateParams[i,4] = 2/3 - (Beta**2)"
   ]
  },
  {
   "cell_type": "code",
   "execution_count": 2087,
   "id": "44c5f113-0eff-4816-b947-cba28bae06f6",
   "metadata": {},
   "outputs": [],
   "source": [
    "for i in range(numMonths*2 + 1):\n",
    "    Beta = intermediateParams[i,2]\n",
    "    intermediateParams[i,5] = 1/6 + 1/2*(Beta**2 - Beta)"
   ]
  },
  {
   "cell_type": "code",
   "execution_count": 2088,
   "id": "f311a858-c30a-43b7-b228-a7c8dab9bd67",
   "metadata": {},
   "outputs": [],
   "source": [
    "AD = np.zeros((numMonths*2 + 1,numMonths))\n",
    "AD[numMonths,0] = 1"
   ]
  },
  {
   "cell_type": "code",
   "execution_count": 2089,
   "id": "682b4501-7620-4b70-b48f-23b5a2fcf805",
   "metadata": {
    "tags": []
   },
   "outputs": [],
   "source": [
    "r = np.zeros((numMonths*2 + 1, numMonths))\n",
    "r[numMonths,0] = -np.log(P(1))/(1/4)"
   ]
  },
  {
   "cell_type": "code",
   "execution_count": 2090,
   "id": "ecad2521-d9a1-4447-9ea3-1e71e6828feb",
   "metadata": {
    "tags": []
   },
   "outputs": [],
   "source": [
    "from sympy import symbols, Eq, solve, lambdify, nsolve\n",
    "\n",
    "for i in range(1,numMonths):\n",
    "#for i in range(1,2):\n",
    "    \n",
    "    r0 = symbols('r0')\n",
    "    P_sumAD = AD[numMonths,i-1]*np.e**(-r0*deltat)*intermediateParams[numMonths,4] + AD[numMonths+1,i-1]*np.e**(-r0*np.e**(OU[numMonths+1,i-1])*deltat)*intermediateParams[numMonths,3] + AD[numMonths-1,i-1]*np.e**(-r0*np.e**(OU[numMonths-1,i-1])*deltat)*intermediateParams[numMonths,5]\n",
    "    #-P(i) +\n",
    "    #update r values for one step ahead\n",
    "    for j in range(i):\n",
    "        # if i-j == 1\n",
    "        if i-j == 1:\n",
    "            P_sumAD += AD[numMonths-j,i-1]*np.e**(-r0*np.e**(OU[numMonths-j,i-1])*deltat)*intermediateParams[numMonths-j,3]\n",
    "            P_sumAD += AD[numMonths+j,i-1]*np.e**(-r0*np.e**(OU[numMonths+j,i-1])*deltat)*intermediateParams[numMonths+j,5]\n",
    "\n",
    "        # if i-j == 2\n",
    "        if i-j == 2:\n",
    "            P_sumAD += AD[numMonths-j,i-1]*np.e**(-r0*np.e**(OU[numMonths-j,i-1])*deltat)*intermediateParams[numMonths-j,3]\n",
    "            P_sumAD += AD[numMonths+j,i-1]*np.e**(-r0*np.e**(OU[numMonths+j,i-1])*deltat)*intermediateParams[numMonths+j,5]\n",
    "\n",
    "            P_sumAD += AD[numMonths-j-1,i-1]*np.e**(-r0*np.e**(OU[numMonths-j-1,i-1])*deltat)*intermediateParams[numMonths-j-1,4]\n",
    "            P_sumAD += AD[numMonths+j+1,i-1]*np.e**(-r0*np.e**(OU[numMonths+j+1,i-1])*deltat)*intermediateParams[numMonths+j+1,4]\n",
    "\n",
    "        # if i-j == 3\n",
    "        if i-j >= 3:\n",
    "            P_sumAD += AD[numMonths-j,i-1]*np.e**(-r0*np.e**(OU[numMonths-j,i-1])*deltat)*intermediateParams[numMonths-j,3]\n",
    "            P_sumAD += AD[numMonths+j,i-1]*np.e**(-r0*np.e**(OU[numMonths+j,i-1])*deltat)*intermediateParams[numMonths+j,5]\n",
    "\n",
    "            P_sumAD += AD[numMonths-j-1,i-1]*np.e**(-r0*np.e**(OU[numMonths-j-1,i-1])*deltat)*intermediateParams[numMonths-j-1,4]\n",
    "            P_sumAD += AD[numMonths+j+1,i-1]*np.e**(-r0*np.e**(OU[numMonths+j+1,i-1])*deltat)*intermediateParams[numMonths+j+1,4] \n",
    "\n",
    "            P_sumAD += AD[numMonths-j-2,i-1]*np.e**(-r0*np.e**(OU[numMonths-j-2,i-1])*deltat)*intermediateParams[numMonths-j-2,5]\n",
    "            P_sumAD += AD[numMonths+j+2,i-1]*np.e**(-r0*np.e**(OU[numMonths+j+2,i-1])*deltat)*intermediateParams[numMonths+j+2,3]\n",
    "      \n",
    "    eq1 = Eq(P_sumAD,P(i))\n",
    "    solution = sympy.nsolve(eq1,0)\n",
    "    \n",
    "    #update ri(0)\n",
    "    r[numMonths, i-1] = solution                                             \n",
    "    #update r matrix based off ri(0) * exp(OUij)\n",
    "    for j in range(i-1):\n",
    "        r[numMonths + j + 1 , i-1 ] = r[numMonths, i-1] * np.exp(OU[numMonths + j + 1, i-1])\n",
    "        r[numMonths - j - 1 , i-1 ] = r[numMonths, i-1] * np.exp(OU[numMonths - j - 1, i-1])\n",
    "        \n",
    "    for j in range(i):\n",
    "        \n",
    "        Pd_down_iter = intermediateParams[numMonths + j,5]\n",
    "        Pm_down_iter = intermediateParams[numMonths + j,4]\n",
    "        Pu_down_iter = intermediateParams[numMonths + j,3]\n",
    "        \n",
    "        Pd_up_iter = intermediateParams[numMonths - j,5]\n",
    "        Pm_up_iter = intermediateParams[numMonths - j,4]\n",
    "        Pu_up_iter = intermediateParams[numMonths - j,3]\n",
    "        \n",
    "        #find one step forward Arrow-Debreu Prices\n",
    "        AD[numMonths - j - 1, i ] = abs(AD[numMonths - j , i - 1 ])*Pd_up_iter*np.exp(-r[numMonths - j, i - 1]*deltat) + abs(AD[numMonths - j - 1, i - 1 ])*Pm_up_iter*np.exp(-r[numMonths - j - 1, i - 1]*deltat) + abs(AD[numMonths - j - 2, i - 1 ])*Pu_up_iter*np.exp(-r[numMonths - j - 2, i - 1]*deltat)\n",
    "        AD[numMonths, i ] = abs(AD[numMonths + 1, i-1])*intermediateParams[numMonths,5]*np.exp(-r[numMonths + 1, i - 1]*deltat) + abs(AD[numMonths, i-1])*intermediateParams[numMonths,4]*np.exp(-r[numMonths , i - 1]*deltat) + abs(AD[numMonths +1, i-1])*intermediateParams[numMonths,3]*np.exp(-r[numMonths + 1, i - 1]*deltat)\n",
    "        AD[numMonths + j + 1, i ] = abs(AD[numMonths + j , i - 1 ])*Pd_down_iter*np.exp(-r[numMonths + j, i - 1]*deltat) + abs(AD[numMonths + j + 1, i - 1 ])*Pm_down_iter*np.exp(-r[numMonths + j + 1, i - 1]*deltat) + abs(AD[numMonths + j + 2, i - 1 ])*Pu_down_iter*np.exp(-r[numMonths + j + 2, i - 1]*deltat)   \n",
    "    "
   ]
  },
  {
   "cell_type": "code",
   "execution_count": 2091,
   "id": "602818e8-b9f1-4177-874a-cdb1d6b3ce53",
   "metadata": {},
   "outputs": [],
   "source": [
    "i = 8\n",
    "r0 = symbols('r0')\n",
    "P_sumAD = AD[numMonths,i-1]*np.e**(-r0*deltat)*intermediateParams[numMonths,4] + AD[numMonths+1,i-1]*np.e**(-r0*np.e**(OU[numMonths+1,i-1])*deltat)*intermediateParams[numMonths,3] + AD[numMonths-1,i-1]*np.e**(-r0*np.e**(OU[numMonths-1,i-1])*deltat)*intermediateParams[numMonths,5]\n",
    "#-P(i) +\n",
    "#update r values for one step ahead\n",
    "for j in range(i):\n",
    "    # if i-j == 1\n",
    "    if i-j == 1:\n",
    "        P_sumAD += AD[numMonths-j,i-1]*np.e**(-r0*np.e**(OU[numMonths-j,i-1])*deltat)*intermediateParams[numMonths-j,3]\n",
    "        P_sumAD += AD[numMonths+j,i-1]*np.e**(-r0*np.e**(OU[numMonths+j,i-1])*deltat)*intermediateParams[numMonths+j,5]\n",
    "\n",
    "        # if i-j == 2\n",
    "    if i-j == 2:\n",
    "        P_sumAD += AD[numMonths-j,i-1]*np.e**(-r0*np.e**(OU[numMonths-j,i-1])*deltat)*intermediateParams[numMonths-j,3]\n",
    "        P_sumAD += AD[numMonths+j,i-1]*np.e**(-r0*np.e**(OU[numMonths+j,i-1])*deltat)*intermediateParams[numMonths+j,5]\n",
    "\n",
    "        P_sumAD += AD[numMonths-j-1,i-1]*np.e**(-r0*np.e**(OU[numMonths-j-1,i-1])*deltat)*intermediateParams[numMonths-j-1,4]\n",
    "        P_sumAD += AD[numMonths+j+1,i-1]*np.e**(-r0*np.e**(OU[numMonths+j+1,i-1])*deltat)*intermediateParams[numMonths+j+1,4]\n",
    "\n",
    "        # if i-j == 3\n",
    "    if i-j >= 3:\n",
    "        P_sumAD += AD[numMonths-j,i-1]*np.e**(-r0*np.e**(OU[numMonths-j,i-1])*deltat)*intermediateParams[numMonths-j,3]\n",
    "        P_sumAD += AD[numMonths+j,i-1]*np.e**(-r0*np.e**(OU[numMonths+j,i-1])*deltat)*intermediateParams[numMonths+j,5]\n",
    "\n",
    "        P_sumAD += AD[numMonths-j-1,i-1]*np.e**(-r0*np.e**(OU[numMonths-j-1,i-1])*deltat)*intermediateParams[numMonths-j-1,4]\n",
    "        P_sumAD += AD[numMonths+j+1,i-1]*np.e**(-r0*np.e**(OU[numMonths+j+1,i-1])*deltat)*intermediateParams[numMonths+j+1,4] \n",
    "\n",
    "        P_sumAD += AD[numMonths-j-2,i-1]*np.e**(-r0*np.e**(OU[numMonths-j-2,i-1])*deltat)*intermediateParams[numMonths-j-2,5]\n",
    "        P_sumAD += AD[numMonths+j+2,i-1]*np.e**(-r0*np.e**(OU[numMonths+j+2,i-1])*deltat)*intermediateParams[numMonths+j+2,3]\n",
    "      \n",
    "eq1 = Eq(P_sumAD,P(i))\n",
    "solution = sympy.nsolve(eq1,0)\n",
    "    \n",
    "    #update ri(0)\n",
    "r[numMonths, i-1] = solution                                             \n",
    "    #update r matrix based off ri(0) * exp(OUij)\n",
    "for j in range(i-1):\n",
    "    r[numMonths + j + 1 , i-1 ] = r[numMonths, i-1] * np.exp(OU[numMonths + j + 1, i-1])\n",
    "    r[numMonths - j - 1 , i-1 ] = r[numMonths, i-1] * np.exp(OU[numMonths - j - 1, i-1])"
   ]
  },
  {
   "cell_type": "code",
   "execution_count": 2092,
   "id": "ade4f7c6-d02d-4626-bdcd-3f9d86446c5c",
   "metadata": {},
   "outputs": [],
   "source": [
    "#fixed rate bond\n",
    "T = 24\n",
    "Principal = 100\n",
    "quarter = 1/4\n",
    "coupon = 0.06"
   ]
  },
  {
   "cell_type": "code",
   "execution_count": 2093,
   "id": "1379e280-e6ae-43e8-a355-8bae6859e237",
   "metadata": {},
   "outputs": [],
   "source": [
    "fixedRate = np.zeros(AD.shape,dtype = float)\n",
    "\n",
    "for i in range(fixedRate.shape[0]):\n",
    "    fixedRate[i,-1] = Principal + Principal*coupon*quarter"
   ]
  },
  {
   "cell_type": "code",
   "execution_count": 2094,
   "id": "2966de5e-fc03-4ba5-a816-c8d702287566",
   "metadata": {},
   "outputs": [],
   "source": [
    "for i in range(numMonths-1):\n",
    "    fixedRate[numMonths,numMonths-i-2] = fixedRate[numMonths,numMonths-1-i]*intermediateParams[numMonths,4]*np.e**(-r[numMonths,numMonths-i-2]*quarter) + fixedRate[numMonths+1,numMonths-1-i]*intermediateParams[numMonths,5]*np.e**(-r[numMonths,numMonths-i-2]*quarter) + fixedRate[numMonths-1,numMonths-1-i]*intermediateParams[numMonths,3]*np.e**(-r[numMonths,numMonths-i-2]*quarter) + 1.5\n",
    "    for j in range(numMonths-i-1):\n",
    "        fixedRate[numMonths - j -1,numMonths-i-2] = fixedRate[numMonths-j-1,numMonths-1-i]*intermediateParams[numMonths,4]*np.e**(-r[numMonths-j-1,numMonths-i-2]*quarter) + fixedRate[numMonths-j-2,numMonths-1-i]*intermediateParams[numMonths,3]*np.e**(-r[numMonths-j-1,numMonths-i-2]*quarter) + fixedRate[numMonths-j,numMonths-1-i]*intermediateParams[numMonths,5]*np.e**(-r[numMonths-j-1,numMonths-i-2]*quarter) + 1.5\n",
    "        fixedRate[numMonths + j +1,numMonths-i-2] = fixedRate[numMonths+j+1,numMonths-1-i]*intermediateParams[numMonths,4]*np.e**(-r[numMonths+j+1,numMonths-i-2]*quarter) + fixedRate[numMonths+j+2,numMonths-1-i]*intermediateParams[numMonths,5]*np.e**(-r[numMonths+j+1,numMonths-i-2]*quarter) + fixedRate[numMonths+j,numMonths-1-i]*intermediateParams[numMonths,3]*np.e**(-r[numMonths+j+1,numMonths-i-2]*quarter) + 1.5\n",
    "              "
   ]
  },
  {
   "cell_type": "code",
   "execution_count": 2095,
   "id": "fcb097c8-d4d9-42b4-b9e2-3c4bafb7d2a3",
   "metadata": {},
   "outputs": [
    {
     "data": {
      "text/plain": [
       "101.65079932028296"
      ]
     },
     "execution_count": 2095,
     "metadata": {},
     "output_type": "execute_result"
    }
   ],
   "source": [
    "fixedRate[numMonths,0]"
   ]
  },
  {
   "cell_type": "code",
   "execution_count": 2096,
   "id": "bc24c531-2acb-4eb1-a5b5-b64c763ec44b",
   "metadata": {},
   "outputs": [],
   "source": [
    "r = r[1:-1,:]"
   ]
  },
  {
   "cell_type": "code",
   "execution_count": 2118,
   "id": "9eef0f1f-8224-4af0-80c6-51624aab0c76",
   "metadata": {},
   "outputs": [],
   "source": [
    "#Cap Agreement\n",
    "T = 24\n",
    "Principal = 100\n",
    "Rk = 0.07"
   ]
  },
  {
   "cell_type": "code",
   "execution_count": 2119,
   "id": "bda5f2d2-b81d-4d9f-ac84-d6b2046022f3",
   "metadata": {},
   "outputs": [],
   "source": [
    "Cf = np.zeros((15,8),dtype = float)\n",
    "\n",
    "for i in range(Cf.shape[0]):\n",
    "    Cf[i,-1] = 100 + Principal * quarter * max(r[i,-1]-Rk,0)"
   ]
  },
  {
   "cell_type": "code",
   "execution_count": 2123,
   "id": "18f58fc8-e45d-431e-89d3-2f56993d4857",
   "metadata": {},
   "outputs": [],
   "source": [
    "for i in range(numMonths-1):\n",
    "    Cf[numMonths-1,numMonths-i-2] = Cf[numMonths-1,numMonths-1-i]*intermediateParams[numMonths,4]*np.e**(-r[numMonths-1,numMonths-i-2]*quarter) + Cf[numMonths,numMonths-1-i]*intermediateParams[numMonths,5]*np.e**(-r[numMonths-1,numMonths-i-2]*quarter) + Cf[numMonths-2,numMonths-1-i]*intermediateParams[numMonths,3]*np.e**(-r[numMonths-1,numMonths-i-2]*quarter) + Principal*quarter*max(r[numMonths-1,numMonths-i-2],0)\n",
    "    for j in range(numMonths-i-2):\n",
    "        Cf[numMonths - j -2,numMonths-i-2] = Cf[numMonths-j-2,numMonths-1-i]*intermediateParams[numMonths,4]*np.e**(-r[numMonths-j-3,numMonths-i-2]*quarter) + Cf[numMonths-j-3,numMonths-1-i]*intermediateParams[numMonths,3]*np.e**(-r[numMonths-j-2,numMonths-i-2]*quarter) + Cf[numMonths-j-1,numMonths-1-i]*intermediateParams[numMonths,5]*np.e**(-r[numMonths-j-2,numMonths-i-2]*quarter) + Principal*quarter*max(r[numMonths-j-2,numMonths-i-2],0)\n",
    "        Cf[numMonths + j,numMonths-i-2] = Cf[numMonths+j,numMonths-1-i]*intermediateParams[numMonths,4]*np.e**(-r[numMonths+j,numMonths-i-2]*quarter) + Cf[numMonths+j+1,numMonths-1-i]*intermediateParams[numMonths,5]*np.e**(-r[numMonths+j,numMonths-i-2]*quarter) + Cf[numMonths+j-1,numMonths-1-i]*intermediateParams[numMonths,3]*np.e**(-r[numMonths+j,numMonths-i-2]*quarter) + Principal*quarter*max(r[numMonths+j,numMonths-i-2],0)\n",
    "              "
   ]
  },
  {
   "cell_type": "code",
   "execution_count": 2125,
   "id": "2b8b2b8f-1cb2-475c-9c02-5009dfe11a98",
   "metadata": {},
   "outputs": [
    {
     "data": {
      "text/plain": [
       "100.56374970118692"
      ]
     },
     "execution_count": 2125,
     "metadata": {},
     "output_type": "execute_result"
    }
   ],
   "source": [
    "Cf[numMonths-1,0]"
   ]
  },
  {
   "cell_type": "markdown",
   "id": "5f69464b-cb58-4dc4-9183-84131340d7b4",
   "metadata": {},
   "source": [
    "## 2.b ##"
   ]
  },
  {
   "cell_type": "code",
   "execution_count": 1762,
   "id": "ba19cbcf-d597-4a36-ae57-546b22dc5cec",
   "metadata": {},
   "outputs": [],
   "source": [
    "from sympy import symbols , Eq, solve, diff, sqrt, simplify, evalf, log, exp\n",
    "k = symbols('k')\n",
    "T = symbols('T')\n",
    "t = symbols('t')\n",
    "h = sqrt(k**2 + 2*s**2)\n",
    "o = symbols('o')\n",
    "s = symbols('s')\n",
    "r = symbols('r')"
   ]
  },
  {
   "cell_type": "code",
   "execution_count": 1763,
   "id": "8a8134ce-5772-4e89-8e6a-03b8cadc56aa",
   "metadata": {},
   "outputs": [],
   "source": [
    "A = ((2*h * exp((T-t)*(k+h)/2))/(2*h + (k+h)*(exp((T-t)*h)-1)))**(2*k*o/(s**2))\n",
    "A_prime = diff(A,t)"
   ]
  },
  {
   "cell_type": "code",
   "execution_count": 1764,
   "id": "43d7645d-621a-427c-9eca-936307ec1abb",
   "metadata": {},
   "outputs": [
    {
     "data": {
      "text/latex": [
       "$\\displaystyle \\left(\\frac{2 \\sqrt{k^{2} + 2 s^{2}} e^{\\frac{\\left(T - t\\right) \\left(k + \\sqrt{k^{2} + 2 s^{2}}\\right)}{2}}}{\\left(k + \\sqrt{k^{2} + 2 s^{2}}\\right) \\left(e^{\\left(T - t\\right) \\sqrt{k^{2} + 2 s^{2}}} - 1\\right) + 2 \\sqrt{k^{2} + 2 s^{2}}}\\right)^{\\frac{2 k o}{s^{2}}}$"
      ],
      "text/plain": [
       "(2*sqrt(k**2 + 2*s**2)*exp((T - t)*(k + sqrt(k**2 + 2*s**2))/2)/((k + sqrt(k**2 + 2*s**2))*(exp((T - t)*sqrt(k**2 + 2*s**2)) - 1) + 2*sqrt(k**2 + 2*s**2)))**(2*k*o/s**2)"
      ]
     },
     "execution_count": 1764,
     "metadata": {},
     "output_type": "execute_result"
    }
   ],
   "source": [
    "A"
   ]
  },
  {
   "cell_type": "code",
   "execution_count": 1765,
   "id": "22ff124c-d868-402e-a777-ba3bcc4ed3b1",
   "metadata": {},
   "outputs": [
    {
     "data": {
      "text/latex": [
       "$\\displaystyle \\frac{k o \\left(\\frac{2 \\sqrt{k^{2} + 2 s^{2}} e^{\\frac{\\left(T - t\\right) \\left(k + \\sqrt{k^{2} + 2 s^{2}}\\right)}{2}}}{\\left(k + \\sqrt{k^{2} + 2 s^{2}}\\right) \\left(e^{\\left(T - t\\right) \\sqrt{k^{2} + 2 s^{2}}} - 1\\right) + 2 \\sqrt{k^{2} + 2 s^{2}}}\\right)^{\\frac{2 k o}{s^{2}}} \\left(\\left(k + \\sqrt{k^{2} + 2 s^{2}}\\right) \\left(e^{\\left(T - t\\right) \\sqrt{k^{2} + 2 s^{2}}} - 1\\right) + 2 \\sqrt{k^{2} + 2 s^{2}}\\right) \\left(\\frac{2 \\left(- \\frac{k}{2} - \\frac{\\sqrt{k^{2} + 2 s^{2}}}{2}\\right) \\sqrt{k^{2} + 2 s^{2}} e^{\\frac{\\left(T - t\\right) \\left(k + \\sqrt{k^{2} + 2 s^{2}}\\right)}{2}}}{\\left(k + \\sqrt{k^{2} + 2 s^{2}}\\right) \\left(e^{\\left(T - t\\right) \\sqrt{k^{2} + 2 s^{2}}} - 1\\right) + 2 \\sqrt{k^{2} + 2 s^{2}}} + \\frac{2 \\left(k + \\sqrt{k^{2} + 2 s^{2}}\\right) \\left(k^{2} + 2 s^{2}\\right) e^{\\frac{\\left(T - t\\right) \\left(k + \\sqrt{k^{2} + 2 s^{2}}\\right)}{2}} e^{\\left(T - t\\right) \\sqrt{k^{2} + 2 s^{2}}}}{\\left(\\left(k + \\sqrt{k^{2} + 2 s^{2}}\\right) \\left(e^{\\left(T - t\\right) \\sqrt{k^{2} + 2 s^{2}}} - 1\\right) + 2 \\sqrt{k^{2} + 2 s^{2}}\\right)^{2}}\\right) e^{- \\frac{\\left(T - t\\right) \\left(k + \\sqrt{k^{2} + 2 s^{2}}\\right)}{2}}}{s^{2} \\sqrt{k^{2} + 2 s^{2}}}$"
      ],
      "text/plain": [
       "k*o*(2*sqrt(k**2 + 2*s**2)*exp((T - t)*(k + sqrt(k**2 + 2*s**2))/2)/((k + sqrt(k**2 + 2*s**2))*(exp((T - t)*sqrt(k**2 + 2*s**2)) - 1) + 2*sqrt(k**2 + 2*s**2)))**(2*k*o/s**2)*((k + sqrt(k**2 + 2*s**2))*(exp((T - t)*sqrt(k**2 + 2*s**2)) - 1) + 2*sqrt(k**2 + 2*s**2))*(2*(-k/2 - sqrt(k**2 + 2*s**2)/2)*sqrt(k**2 + 2*s**2)*exp((T - t)*(k + sqrt(k**2 + 2*s**2))/2)/((k + sqrt(k**2 + 2*s**2))*(exp((T - t)*sqrt(k**2 + 2*s**2)) - 1) + 2*sqrt(k**2 + 2*s**2)) + 2*(k + sqrt(k**2 + 2*s**2))*(k**2 + 2*s**2)*exp((T - t)*(k + sqrt(k**2 + 2*s**2))/2)*exp((T - t)*sqrt(k**2 + 2*s**2))/((k + sqrt(k**2 + 2*s**2))*(exp((T - t)*sqrt(k**2 + 2*s**2)) - 1) + 2*sqrt(k**2 + 2*s**2))**2)*exp(-(T - t)*(k + sqrt(k**2 + 2*s**2))/2)/(s**2*sqrt(k**2 + 2*s**2))"
      ]
     },
     "execution_count": 1765,
     "metadata": {},
     "output_type": "execute_result"
    }
   ],
   "source": [
    "(A_prime)"
   ]
  },
  {
   "cell_type": "code",
   "execution_count": 1766,
   "id": "81d5ceed-2463-4181-bb14-c193c7c13746",
   "metadata": {},
   "outputs": [],
   "source": [
    "B = (2 * (exp((T-t)*h)-1)) / (2*h + (k + h)*(exp((T-t)*h) - 1))\n",
    "B_prime = diff(B,t)"
   ]
  },
  {
   "cell_type": "code",
   "execution_count": 1767,
   "id": "eed4b904-becf-467e-97fd-dea848e4672b",
   "metadata": {},
   "outputs": [
    {
     "data": {
      "text/latex": [
       "$\\displaystyle \\frac{2 e^{\\left(T - t\\right) \\sqrt{k^{2} + 2 s^{2}}} - 2}{\\left(k + \\sqrt{k^{2} + 2 s^{2}}\\right) \\left(e^{\\left(T - t\\right) \\sqrt{k^{2} + 2 s^{2}}} - 1\\right) + 2 \\sqrt{k^{2} + 2 s^{2}}}$"
      ],
      "text/plain": [
       "(2*exp((T - t)*sqrt(k**2 + 2*s**2)) - 2)/((k + sqrt(k**2 + 2*s**2))*(exp((T - t)*sqrt(k**2 + 2*s**2)) - 1) + 2*sqrt(k**2 + 2*s**2))"
      ]
     },
     "execution_count": 1767,
     "metadata": {},
     "output_type": "execute_result"
    }
   ],
   "source": [
    "B"
   ]
  },
  {
   "cell_type": "code",
   "execution_count": 1768,
   "id": "1bf78902-7273-4312-a24d-ade3817eb268",
   "metadata": {},
   "outputs": [
    {
     "data": {
      "text/latex": [
       "$\\displaystyle \\frac{\\left(k + \\sqrt{k^{2} + 2 s^{2}}\\right) \\sqrt{k^{2} + 2 s^{2}} \\left(2 e^{\\left(T - t\\right) \\sqrt{k^{2} + 2 s^{2}}} - 2\\right) e^{\\left(T - t\\right) \\sqrt{k^{2} + 2 s^{2}}}}{\\left(\\left(k + \\sqrt{k^{2} + 2 s^{2}}\\right) \\left(e^{\\left(T - t\\right) \\sqrt{k^{2} + 2 s^{2}}} - 1\\right) + 2 \\sqrt{k^{2} + 2 s^{2}}\\right)^{2}} - \\frac{2 \\sqrt{k^{2} + 2 s^{2}} e^{\\left(T - t\\right) \\sqrt{k^{2} + 2 s^{2}}}}{\\left(k + \\sqrt{k^{2} + 2 s^{2}}\\right) \\left(e^{\\left(T - t\\right) \\sqrt{k^{2} + 2 s^{2}}} - 1\\right) + 2 \\sqrt{k^{2} + 2 s^{2}}}$"
      ],
      "text/plain": [
       "(k + sqrt(k**2 + 2*s**2))*sqrt(k**2 + 2*s**2)*(2*exp((T - t)*sqrt(k**2 + 2*s**2)) - 2)*exp((T - t)*sqrt(k**2 + 2*s**2))/((k + sqrt(k**2 + 2*s**2))*(exp((T - t)*sqrt(k**2 + 2*s**2)) - 1) + 2*sqrt(k**2 + 2*s**2))**2 - 2*sqrt(k**2 + 2*s**2)*exp((T - t)*sqrt(k**2 + 2*s**2))/((k + sqrt(k**2 + 2*s**2))*(exp((T - t)*sqrt(k**2 + 2*s**2)) - 1) + 2*sqrt(k**2 + 2*s**2))"
      ]
     },
     "execution_count": 1768,
     "metadata": {},
     "output_type": "execute_result"
    }
   ],
   "source": [
    "B_prime"
   ]
  },
  {
   "cell_type": "code",
   "execution_count": 1769,
   "id": "d1c11ff1-7208-4094-b571-812fa77bac11",
   "metadata": {},
   "outputs": [
    {
     "name": "stdout",
     "output_type": "stream",
     "text": [
      "True\n",
      "True\n"
     ]
    }
   ],
   "source": [
    "print(simplify(A_prime - k*o*B*A) == 0)\n",
    "print(simplify(B_prime + 1 - (1/2*(s**2)*B**2 + k*B))==0)"
   ]
  },
  {
   "cell_type": "code",
   "execution_count": 1770,
   "id": "197e8c95-91ab-4c53-b7af-568d9d16aa26",
   "metadata": {},
   "outputs": [
    {
     "name": "stdout",
     "output_type": "stream",
     "text": [
      "1.0\n"
     ]
    }
   ],
   "source": [
    "#terminal condition on A\n",
    "convert = lambdify( ['k','T','t','o','s','r'], A)\n",
    "sol_r = convert(1,30,30,0.03,0.1,0.01)\n",
    "print(sol_r)"
   ]
  },
  {
   "cell_type": "code",
   "execution_count": 1771,
   "id": "5aee487a-ef5d-44eb-8fae-26300c8deb5f",
   "metadata": {},
   "outputs": [
    {
     "name": "stdout",
     "output_type": "stream",
     "text": [
      "0.0\n"
     ]
    }
   ],
   "source": [
    "#terminal condition on B\n",
    "convert = lambdify( ['k','T','t','o','s','r'], -B_prime + 1/2*(s**2)*(B**2) + k*B - 1)\n",
    "sol_r = convert(1,0,0,0.03,0.1,0.01)\n",
    "print(sol_r)"
   ]
  },
  {
   "cell_type": "code",
   "execution_count": 1756,
   "id": "12bffcdf-56c7-40df-85ef-4973d14a3666",
   "metadata": {},
   "outputs": [
    {
     "data": {
      "text/latex": [
       "$\\displaystyle \\log{\\left(\\left(\\frac{2 \\sqrt{k^{2} + 0.02} e^{\\frac{\\left(T - t\\right) \\left(k + \\sqrt{k^{2} + 0.02}\\right)}{2}}}{\\left(k + \\sqrt{k^{2} + 0.02}\\right) \\left(e^{\\left(T - t\\right) \\sqrt{k^{2} + 0.02}} - 1\\right) + 2 \\sqrt{k^{2} + 0.02}}\\right)^{\\frac{2 k o}{s^{2}}} e^{- \\frac{r \\left(2 e^{\\left(T - t\\right) \\sqrt{k^{2} + 0.02}} - 2\\right)}{\\left(k + \\sqrt{k^{2} + 0.02}\\right) \\left(e^{\\left(T - t\\right) \\sqrt{k^{2} + 0.02}} - 1\\right) + 2 \\sqrt{k^{2} + 0.02}}} \\right)}$"
      ],
      "text/plain": [
       "log((2*sqrt(k**2 + 0.02)*exp((T - t)*(k + sqrt(k**2 + 0.02))/2)/((k + sqrt(k**2 + 0.02))*(exp((T - t)*sqrt(k**2 + 0.02)) - 1) + 2*sqrt(k**2 + 0.02)))**(2*k*o/s**2)*exp(-r*(2*exp((T - t)*sqrt(k**2 + 0.02)) - 2)/((k + sqrt(k**2 + 0.02))*(exp((T - t)*sqrt(k**2 + 0.02)) - 1) + 2*sqrt(k**2 + 0.02))))"
      ]
     },
     "execution_count": 1756,
     "metadata": {},
     "output_type": "execute_result"
    }
   ],
   "source": [
    "forwardRate = log(A*exp(-B*r))\n",
    "forwardRate"
   ]
  },
  {
   "cell_type": "code",
   "execution_count": 1757,
   "id": "75b8f007-6603-47aa-8559-afd22bbee8cb",
   "metadata": {},
   "outputs": [],
   "source": [
    "instantFwdRate = -diff(forwardRate,T)\n",
    "simplify(instantFwdRate)\n",
    "\n",
    "instantFwdRateZero = instantFwdRate.subs('t',0)"
   ]
  },
  {
   "cell_type": "code",
   "execution_count": 1758,
   "id": "81294451-9604-484b-8cfc-d94ecd04202e",
   "metadata": {},
   "outputs": [],
   "source": [
    "convert = lambdify( ['k','T','o','s','r'], instantFwdRateZero)\n",
    "\n",
    "storedValues = []\n",
    "x = []\n",
    "for i in range(31):\n",
    "    x.append(i)\n",
    "    storedValues.append(convert(1,i,0.03,0.1,0.01))"
   ]
  },
  {
   "cell_type": "code",
   "execution_count": 1759,
   "id": "261dfda8-38ee-44ae-b305-ca1142eb36f4",
   "metadata": {},
   "outputs": [],
   "source": [
    "import seaborn as sns"
   ]
  },
  {
   "cell_type": "code",
   "execution_count": 1760,
   "id": "8592ff68-4bad-41b3-8a09-f5a27bef4fd9",
   "metadata": {},
   "outputs": [
    {
     "name": "stderr",
     "output_type": "stream",
     "text": [
      "/Users/sethkelley/opt/anaconda3/lib/python3.9/site-packages/seaborn/_decorators.py:36: FutureWarning: Pass the following variables as keyword args: x, y. From version 0.12, the only valid positional argument will be `data`, and passing other arguments without an explicit keyword will result in an error or misinterpretation.\n",
      "  warnings.warn(\n"
     ]
    },
    {
     "data": {
      "image/png": "[encoded data removed]",
      "text/plain": [
       "<Figure size 432x288 with 1 Axes>"
      ]
     },
     "metadata": {
      "needs_background": "light"
     },
     "output_type": "display_data"
    }
   ],
   "source": [
    "ax = sns.lineplot(x,storedValues)\n",
    "ax.set(xlabel = 'Time', ylabel = 'Price of instantaneous forward rate',title = \"Price of Instantaneous Fwd Rate vs. Time\")\n",
    "ax.grid()"
   ]
  },
  {
   "cell_type": "markdown",
   "id": "181553f1-706f-4355-acf1-ddba3e5fa0e6",
   "metadata": {},
   "source": [
    "## 2.c"
   ]
  },
  {
   "cell_type": "code",
   "execution_count": 720,
   "id": "7f9ca589-98bd-43c5-9fc6-8a939ede1147",
   "metadata": {},
   "outputs": [],
   "source": [
    "T = 30\n",
    "N = 1000\n",
    "terminalA = 1\n",
    "terminalB = 0\n",
    "dt = 30/1000\n",
    "k = 1 \n",
    "o = 0.03\n",
    "s = 0.1"
   ]
  },
  {
   "cell_type": "code",
   "execution_count": 721,
   "id": "69534775-3723-4517-9b9b-570f0786d55d",
   "metadata": {},
   "outputs": [
    {
     "name": "stdout",
     "output_type": "stream",
     "text": [
      "The estimated value of A(0,T) is:  0.421\n",
      "The estimated value of B(0,T) is:  0.995\n"
     ]
    }
   ],
   "source": [
    "A = []\n",
    "B = []\n",
    "\n",
    "A.append(terminalA)\n",
    "B.append(terminalB)\n",
    "\n",
    "for i in range(N):\n",
    "    \n",
    "    insertA = A[0] - dt*(k*o*A[0]*B[0])\n",
    "    insertB = B[0] + dt - (1/2*(s**2)*(B[0]**2)+k*B[0])*dt\n",
    "    \n",
    "    A.insert(0,insertA)\n",
    "    B.insert(0,insertB)\n",
    "    \n",
    "print(\"The estimated value of A(0,T) is: \" ,np.round(A[0],3)) \n",
    "print(\"The estimated value of B(0,T) is: \" ,np.round(B[0],3))  "
   ]
  },
  {
   "cell_type": "code",
   "execution_count": 667,
   "id": "92dcf86a-bf16-45da-a987-2170cdae0539",
   "metadata": {},
   "outputs": [],
   "source": [
    "Asym = ((2*h * exp((T-t)*(k+h)/2))/(2*h + (k+h)*(exp((T-t)*h)-1)))**(2*k*o/(s**2))\n",
    "Bsym = (2 * (exp((T-t)*h)-1)) / (2*h + (k + h)*(exp((T-t)*h) - 1))"
   ]
  },
  {
   "cell_type": "code",
   "execution_count": 668,
   "id": "3ea54d7d-e360-40c1-b42e-b293c71e12e1",
   "metadata": {},
   "outputs": [
    {
     "name": "stdout",
     "output_type": "stream",
     "text": [
      "The actual value of A(o,T) is:  0.421\n"
     ]
    }
   ],
   "source": [
    "#terminal condition on A\n",
    "convert = lambdify( ['k','T','t','o','s','r'], Asym)\n",
    "A_zero = convert(1,30,0,0.03,0.1,0.01)\n",
    "print(\"The actual value of A(o,T) is: \",np.round(A_zero,3))"
   ]
  },
  {
   "cell_type": "code",
   "execution_count": 669,
   "id": "cff35e7a-5e06-427a-a678-5e6fb754d058",
   "metadata": {},
   "outputs": [
    {
     "name": "stdout",
     "output_type": "stream",
     "text": [
      "The actual value of B(o,T) is:  0.995\n"
     ]
    }
   ],
   "source": [
    "#terminal condition on B\n",
    "convert = lambdify( ['k','T','t','o','s','r'], Bsym)\n",
    "B_zero = convert(1,30,0,0.03,0.1,0.01)\n",
    "print(\"The actual value of B(o,T) is: \",np.round(B_zero,3))"
   ]
  },
  {
   "cell_type": "code",
   "execution_count": 670,
   "id": "1eb03ac7-1042-4005-9dfd-709628804450",
   "metadata": {},
   "outputs": [
    {
     "name": "stdout",
     "output_type": "stream",
     "text": [
      "The error on A is:  0.00038023432859054894\n",
      "The error on A is:  2.5215874477736136e-14\n"
     ]
    }
   ],
   "source": [
    "print(\"The error on A is: \",np.abs(A_zero-A[0])/A_zero)\n",
    "print(\"The error on A is: \",np.abs(B_zero-B[0])/B_zero)"
   ]
  },
  {
   "cell_type": "markdown",
   "id": "1ea527cf-2929-4cd0-8dab-f66ab2e5bfb4",
   "metadata": {
    "tags": []
   },
   "source": [
    "## 2.d"
   ]
  },
  {
   "cell_type": "code",
   "execution_count": 671,
   "id": "7beef4d5-cdb8-4441-af87-eac4b0bb2fff",
   "metadata": {},
   "outputs": [],
   "source": [
    "T = 30\n",
    "N = 1000\n",
    "terminalA = 1\n",
    "terminalB = 0\n",
    "dt = 30/1000\n",
    "k = 1 \n",
    "o = 0.03\n",
    "s = 0.1"
   ]
  },
  {
   "cell_type": "code",
   "execution_count": 672,
   "id": "d7a38a3f-3b8e-408e-97df-f061ad77a8ff",
   "metadata": {},
   "outputs": [
    {
     "name": "stdout",
     "output_type": "stream",
     "text": [
      "The estimated value of A(0,T) is:  0.421\n",
      "The estimated value of B(0,T) is:  0.995\n"
     ]
    }
   ],
   "source": [
    "A = []\n",
    "B = []\n",
    "\n",
    "A.append(terminalA)\n",
    "B.append(terminalB)\n",
    "\n",
    "for i in range(N):\n",
    "    \n",
    "    insertB = (-(1 + k*dt) + np.sqrt((1 + k*dt)**2 + 4*(1/2 * dt * (s**2))*(B[0]+dt)))/(dt*(s**2))\n",
    "    insertA = A[0]/(1 + dt*k*o*insertB)\n",
    "    \n",
    "    A.insert(0,insertA)\n",
    "    B.insert(0,insertB)\n",
    "    \n",
    "print(\"The estimated value of A(0,T) is: \" ,np.round(A[0],3)) \n",
    "print(\"The estimated value of B(0,T) is: \" ,np.round(B[0],3))  "
   ]
  },
  {
   "cell_type": "code",
   "execution_count": 673,
   "id": "aab9054c-3d75-499b-8907-3b9d821e1deb",
   "metadata": {},
   "outputs": [
    {
     "name": "stdout",
     "output_type": "stream",
     "text": [
      "The error on A is:  0.0003797631052428798\n",
      "The error on A is:  1.4015005349658912e-11\n"
     ]
    }
   ],
   "source": [
    "print(\"The error on A is: \",np.abs(A_zero-A[0])/A_zero)\n",
    "print(\"The error on A is: \",np.abs(B_zero-B[0])/B_zero)"
   ]
  },
  {
   "cell_type": "markdown",
   "id": "8627ab25-4176-459a-bc5b-020045a80681",
   "metadata": {
    "tags": []
   },
   "source": [
    "## 2.e"
   ]
  },
  {
   "cell_type": "code",
   "execution_count": null,
   "id": "ff87fb6e-fbbc-4f76-8e1b-ae9d5d7a95f9",
   "metadata": {},
   "outputs": [],
   "source": []
  },
  {
   "cell_type": "code",
   "execution_count": 791,
   "id": "514857a9-9c2b-40e1-894a-1221b4f1ca11",
   "metadata": {},
   "outputs": [],
   "source": [
    "T = 30\n",
    "k = 12\n",
    "terminalA = 1\n",
    "terminalB = 0\n",
    "o = 0.03\n",
    "k=1\n",
    "s = 0.1"
   ]
  },
  {
   "cell_type": "code",
   "execution_count": 792,
   "id": "1ca26f2e-437d-4a74-86d4-8e480ab97d89",
   "metadata": {},
   "outputs": [],
   "source": [
    "Ak = []\n",
    "Bk = []\n",
    "Akval = []\n",
    "Bkval = []\n",
    "\n",
    "for j in range(1,16):\n",
    "    A = []\n",
    "    B = []\n",
    "\n",
    "    A.append(terminalA)\n",
    "    B.append(terminalB)\n",
    "    \n",
    "    insertA = 0 \n",
    "    insertB = 0\n",
    "    \n",
    "    N = 2**j\n",
    "    dt = T/N\n",
    "\n",
    "    for i in range(N):\n",
    "        insertA = A[0] - dt*(k*o*A[0]*B[0])\n",
    "        insertB = B[0] + dt - (1/2*(s**2)*(B[0]**2)+k*B[0])*dt\n",
    "\n",
    "        A.insert(0,insertA)\n",
    "        B.insert(0,insertB)\n",
    "        \n",
    "    Akval.append(A[0])\n",
    "    Bkval.append(B[0])\n",
    "    Ak.append(\"for k = {}, A[0,T] is {}\".format(j,np.round(A[0],5)))\n",
    "    Bk.append(\"for k = {}, B[0,T] is {}\".format(j,np.round(B[0],5)))"
   ]
  },
  {
   "cell_type": "code",
   "execution_count": 793,
   "id": "c4d3760a-7762-43f2-a302-2760580bb3cc",
   "metadata": {},
   "outputs": [
    {
     "data": {
      "text/plain": [
       "['for k = 1, A[0,T] is -5.75',\n",
       " 'for k = 2, A[0,T] is 356.70171',\n",
       " 'for k = 3, A[0,T] is 2379830.05181',\n",
       " 'for k = 4, A[0,T] is 0.40559',\n",
       " 'for k = 5, A[0,T] is 0.41554',\n",
       " 'for k = 6, A[0,T] is 0.41814',\n",
       " 'for k = 7, A[0,T] is 0.41941',\n",
       " 'for k = 8, A[0,T] is 0.42004',\n",
       " 'for k = 9, A[0,T] is 0.42035',\n",
       " 'for k = 10, A[0,T] is 0.42051',\n",
       " 'for k = 11, A[0,T] is 0.42059',\n",
       " 'for k = 12, A[0,T] is 0.42063',\n",
       " 'for k = 13, A[0,T] is 0.42065',\n",
       " 'for k = 14, A[0,T] is 0.42066',\n",
       " 'for k = 15, A[0,T] is 0.42066']"
      ]
     },
     "execution_count": 793,
     "metadata": {},
     "output_type": "execute_result"
    }
   ],
   "source": [
    "Ak"
   ]
  },
  {
   "cell_type": "code",
   "execution_count": 794,
   "id": "4b9dcadc-954d-48df-9231-c4da514dc81b",
   "metadata": {},
   "outputs": [
    {
     "data": {
      "text/plain": [
       "['for k = 1, B[0,T] is -211.875',\n",
       " 'for k = 2, B[0,T] is -3210.74696',\n",
       " 'for k = 3, B[0,T] is -159029.9237',\n",
       " 'for k = 4, B[0,T] is 0.83123',\n",
       " 'for k = 5, B[0,T] is 0.99505',\n",
       " 'for k = 6, B[0,T] is 0.99505',\n",
       " 'for k = 7, B[0,T] is 0.99505',\n",
       " 'for k = 8, B[0,T] is 0.99505',\n",
       " 'for k = 9, B[0,T] is 0.99505',\n",
       " 'for k = 10, B[0,T] is 0.99505',\n",
       " 'for k = 11, B[0,T] is 0.99505',\n",
       " 'for k = 12, B[0,T] is 0.99505',\n",
       " 'for k = 13, B[0,T] is 0.99505',\n",
       " 'for k = 14, B[0,T] is 0.99505',\n",
       " 'for k = 15, B[0,T] is 0.99505']"
      ]
     },
     "execution_count": 794,
     "metadata": {},
     "output_type": "execute_result"
    }
   ],
   "source": [
    "Bk"
   ]
  },
  {
   "cell_type": "code",
   "execution_count": 806,
   "id": "aa86ceda-7151-414e-a58e-da3a17380490",
   "metadata": {},
   "outputs": [
    {
     "data": {
      "text/plain": [
       "array([7.73, 11.7, 21.2, -2.6, -7.61, -8.63, -9.64, -10.6, -11.6, -12.6, -13.6, -14.6, -15.6, -16.6, -17.6])"
      ]
     },
     "execution_count": 806,
     "metadata": {},
     "output_type": "execute_result"
    }
   ],
   "source": [
    "logError = 1/np.log(2) * np.log(np.sqrt((Akval-A_zero)**2 + (Bkval-B_zero)**2))\n",
    "logError"
   ]
  },
  {
   "cell_type": "code",
   "execution_count": 810,
   "id": "53f5e415-37e2-43ed-b3ba-5a4f13cdd68d",
   "metadata": {},
   "outputs": [
    {
     "name": "stderr",
     "output_type": "stream",
     "text": [
      "/Users/sethkelley/opt/anaconda3/lib/python3.9/site-packages/seaborn/_decorators.py:36: FutureWarning: Pass the following variables as keyword args: x, y. From version 0.12, the only valid positional argument will be `data`, and passing other arguments without an explicit keyword will result in an error or misinterpretation.\n",
      "  warnings.warn(\n"
     ]
    },
    {
     "data": {
      "image/png": "[encoded data removed]",
      "text/plain": [
       "<Figure size 432x288 with 1 Axes>"
      ]
     },
     "metadata": {
      "needs_background": "light"
     },
     "output_type": "display_data"
    }
   ],
   "source": [
    "ax2 = sns.lineplot([i for i in range(1,16)],logError)\n",
    "ax2.set(xlabel = 'k', ylabel = 'Logarithmic Error',title = \"Logarithmic Error vs. k\")\n",
    "ax2.grid()"
   ]
  },
  {
   "cell_type": "code",
   "execution_count": 811,
   "id": "f5aae151-c00f-4f29-b1c2-f9d5593343ca",
   "metadata": {},
   "outputs": [
    {
     "name": "stderr",
     "output_type": "stream",
     "text": [
      "/Users/sethkelley/opt/anaconda3/lib/python3.9/site-packages/seaborn/_decorators.py:36: FutureWarning: Pass the following variables as keyword args: x, y. From version 0.12, the only valid positional argument will be `data`, and passing other arguments without an explicit keyword will result in an error or misinterpretation.\n",
      "  warnings.warn(\n"
     ]
    },
    {
     "data": {
      "image/png": "[encoded data removed]",
      "text/plain": [
       "<Figure size 432x288 with 1 Axes>"
      ]
     },
     "metadata": {
      "needs_background": "light"
     },
     "output_type": "display_data"
    }
   ],
   "source": [
    "ax3 = sns.lineplot([2**i for i in range(1,16)],np.sqrt((Akval-A_zero)**2 + (Bkval-B_zero)**2))\n",
    "ax3.set(xlabel = 'N', ylabel = 'Error',title = \"Error vs. N\")\n",
    "ax3.grid()"
   ]
  },
  {
   "cell_type": "code",
   "execution_count": 824,
   "id": "a81810cc-7fb4-4de6-be77-43eb72d8ed8d",
   "metadata": {},
   "outputs": [
    {
     "name": "stderr",
     "output_type": "stream",
     "text": [
      "/Users/sethkelley/opt/anaconda3/lib/python3.9/site-packages/seaborn/_decorators.py:36: FutureWarning: Pass the following variables as keyword args: x, y. From version 0.12, the only valid positional argument will be `data`, and passing other arguments without an explicit keyword will result in an error or misinterpretation.\n",
      "  warnings.warn(\n"
     ]
    },
    {
     "data": {
      "image/png": "[encoded data removed]",
      "text/plain": [
       "<Figure size 432x288 with 1 Axes>"
      ]
     },
     "metadata": {
      "needs_background": "light"
     },
     "output_type": "display_data"
    }
   ],
   "source": [
    "test = np.sqrt((Akval-A_zero)**2 + (Bkval-B_zero)**2)\n",
    "ax4 = sns.lineplot([2**i for i in range(10,16)],test[9:])\n",
    "ax4.set(xlabel = 'N', ylabel = 'Error',title = \"Error vs. N\")\n",
    "ax4.grid()"
   ]
  },
  {
   "cell_type": "markdown",
   "id": "893eec35-f981-4017-a1ec-6b77fb9792c7",
   "metadata": {},
   "source": [
    "The local truncation error of backward Euler Method is O(h^2). This seems to be confirmed by what we see when we analyze the graph of Error vs. N."
   ]
  },
  {
   "cell_type": "markdown",
   "id": "43e76cbb-06b1-459b-882c-19bc5a734756",
   "metadata": {},
   "source": [
    "## 2.f"
   ]
  },
  {
   "cell_type": "code",
   "execution_count": 882,
   "id": "57e0acdb-f29c-42f6-976c-9abfbda1a271",
   "metadata": {},
   "outputs": [],
   "source": [
    "T = 30\n",
    "N = 1000\n",
    "terminalA = 1\n",
    "terminalB = 0\n",
    "dt = 30/1000\n",
    "k = 1\n",
    "t = np.arange(0,30,30/1000)\n",
    "st = 0.1 + 0.05*np.sin(2*np.pi*t/T)\n",
    "ot = 0.02 + 0.06*t/30"
   ]
  },
  {
   "cell_type": "code",
   "execution_count": 883,
   "id": "750023ad-1331-41c2-84c5-1f0da3af7d7d",
   "metadata": {},
   "outputs": [
    {
     "name": "stdout",
     "output_type": "stream",
     "text": [
      "The estimated value of A(0,T) is:  0.243\n",
      "The estimated value of B(0,T) is:  0.994\n"
     ]
    }
   ],
   "source": [
    "A = []\n",
    "B = []\n",
    "\n",
    "A.append(terminalA)\n",
    "B.append(terminalB)\n",
    "\n",
    "for i in range(N):\n",
    "    \n",
    "    s = st[N-i-1]\n",
    "    o = ot[N-i-1]\n",
    "    \n",
    "    insertA = A[0] - dt*(k*o*A[0]*B[0])\n",
    "    insertB = B[0] + dt - (1/2*(s**2)*(B[0]**2)+k*B[0])*dt\n",
    "    \n",
    "    A.insert(0,insertA)\n",
    "    B.insert(0,insertB)\n",
    "    \n",
    "print(\"The estimated value of A(0,T) is: \" ,np.round(A[0],3)) \n",
    "print(\"The estimated value of B(0,T) is: \" ,np.round(B[0],3))  "
   ]
  },
  {
   "cell_type": "markdown",
   "id": "c9cdbf9a-618b-4a46-8a53-ecfaed61283f",
   "metadata": {},
   "source": [
    "## 2.g"
   ]
  },
  {
   "cell_type": "code",
   "execution_count": 889,
   "id": "0fb29ca6-3f4d-4f80-a9dc-731b6416a843",
   "metadata": {},
   "outputs": [],
   "source": [
    "T = np.array([dt*i for i in range(1,1001)])\n",
    "N = 1000\n",
    "terminalA = 1\n",
    "terminalB = 0\n",
    "dt = 30/1000\n",
    "o = 0.03\n",
    "k=1\n",
    "s = 0.1\n",
    "r0 = 0.01"
   ]
  },
  {
   "cell_type": "code",
   "execution_count": 895,
   "id": "4ab903d8-4fbd-4f77-a971-ef9c956392b1",
   "metadata": {},
   "outputs": [],
   "source": [
    "Ak = []\n",
    "Bk = []\n",
    "Pk = []\n",
    "\n",
    "Akval = []\n",
    "Bkval = []\n",
    "Pkval = []\n",
    "\n",
    "diffLogP = []\n",
    "\n",
    "for maturity in T:\n",
    "    A = []\n",
    "    B = []\n",
    "    P = []\n",
    "    \n",
    "    A.append(terminalA)\n",
    "    B.append(terminalB)\n",
    "    P.append(terminalA * np.exp(-terminalB*r0))\n",
    "    \n",
    "    for i in range(int(maturity/(30/1000))):\n",
    "        insertA = A[0] - dt*(k*o*A[0]*B[0])\n",
    "        insertB = B[0] + dt - (1/2*(s**2)*(B[0]**2)+k*B[0])*dt\n",
    "        \n",
    "        P.insert(0,insertA*np.exp(-insertB * r0))     \n",
    "        A.insert(0,insertA)\n",
    "        B.insert(0,insertB)\n",
    "    \n",
    "    for e in range(len(P)-1):\n",
    "        diffLogP.insert(0,(np.log(P[len(P)-1-e]) - np.log(P[len(P)-e-2]))/dt)\n",
    "    \n",
    "    Pkval.append(diffLogP[0])\n",
    "    Akval.append(A[0])\n",
    "    Bkval.append(B[0])\n",
    "    Ak.append(\"for T = {}*dt, A[0,{}*dt] is {}\".format(int(maturity/(30/1000)),int(maturity/(30/1000)),np.round(A[0],5)))\n",
    "    Bk.append(\"for k = {}, B[0,{}*dt] is {}\".format(int(maturity/(30/1000)),int(maturity/(30/1000)),np.round(B[0],5)))"
   ]
  },
  {
   "cell_type": "code",
   "execution_count": 891,
   "id": "574aab79-6081-4e1b-8796-d481ae4e5294",
   "metadata": {},
   "outputs": [
    {
     "data": {
      "text/plain": [
       "(['for T = 1*dt, A[0,1*dt] is 1.0',\n",
       "  'for T = 2*dt, A[0,2*dt] is 0.99997',\n",
       "  'for T = 3*dt, A[0,3*dt] is 0.99992',\n",
       "  'for T = 4*dt, A[0,4*dt] is 0.99984',\n",
       "  'for T = 5*dt, A[0,5*dt] is 0.99974',\n",
       "  'for T = 6*dt, A[0,6*dt] is 0.99961',\n",
       "  'for T = 7*dt, A[0,7*dt] is 0.99946',\n",
       "  'for T = 8*dt, A[0,8*dt] is 0.99929',\n",
       "  'for T = 9*dt, A[0,9*dt] is 0.99909',\n",
       "  'for T = 10*dt, A[0,10*dt] is 0.99888'],\n",
       " ['for T = 991*dt, A[0,991*dt] is 0.42391',\n",
       "  'for T = 992*dt, A[0,992*dt] is 0.42353',\n",
       "  'for T = 993*dt, A[0,993*dt] is 0.42315',\n",
       "  'for T = 994*dt, A[0,994*dt] is 0.42277',\n",
       "  'for T = 995*dt, A[0,995*dt] is 0.42239',\n",
       "  'for T = 996*dt, A[0,996*dt] is 0.42202',\n",
       "  'for T = 997*dt, A[0,997*dt] is 0.42164',\n",
       "  'for T = 998*dt, A[0,998*dt] is 0.42126',\n",
       "  'for T = 999*dt, A[0,999*dt] is 0.42088',\n",
       "  'for T = 1000*dt, A[0,1000*dt] is 0.42051'])"
      ]
     },
     "execution_count": 891,
     "metadata": {},
     "output_type": "execute_result"
    }
   ],
   "source": [
    "Ak[:10],Ak[990:]"
   ]
  },
  {
   "cell_type": "code",
   "execution_count": 892,
   "id": "223bf7fc-ebea-47f0-a335-21d53f97c281",
   "metadata": {},
   "outputs": [
    {
     "data": {
      "text/plain": [
       "(['for k = 1, B[0,1*dt] is 0.03',\n",
       "  'for k = 2, B[0,2*dt] is 0.0591',\n",
       "  'for k = 3, B[0,3*dt] is 0.08733',\n",
       "  'for k = 4, B[0,4*dt] is 0.11471',\n",
       "  'for k = 5, B[0,5*dt] is 0.14126',\n",
       "  'for k = 6, B[0,6*dt] is 0.16702',\n",
       "  'for k = 7, B[0,7*dt] is 0.19201',\n",
       "  'for k = 8, B[0,8*dt] is 0.21624',\n",
       "  'for k = 9, B[0,9*dt] is 0.23975',\n",
       "  'for k = 10, B[0,10*dt] is 0.26255'],\n",
       " ['for k = 991, B[0,991*dt] is 0.99505',\n",
       "  'for k = 992, B[0,992*dt] is 0.99505',\n",
       "  'for k = 993, B[0,993*dt] is 0.99505',\n",
       "  'for k = 994, B[0,994*dt] is 0.99505',\n",
       "  'for k = 995, B[0,995*dt] is 0.99505',\n",
       "  'for k = 996, B[0,996*dt] is 0.99505',\n",
       "  'for k = 997, B[0,997*dt] is 0.99505',\n",
       "  'for k = 998, B[0,998*dt] is 0.99505',\n",
       "  'for k = 999, B[0,999*dt] is 0.99505',\n",
       "  'for k = 1000, B[0,1000*dt] is 0.99505'])"
      ]
     },
     "execution_count": 892,
     "metadata": {},
     "output_type": "execute_result"
    }
   ],
   "source": [
    "Bk[:10],Bk[990:]"
   ]
  },
  {
   "cell_type": "code",
   "execution_count": 896,
   "id": "6f215fc8-eba0-48db-8fd9-c9cbd136dcdf",
   "metadata": {},
   "outputs": [
    {
     "name": "stderr",
     "output_type": "stream",
     "text": [
      "/Users/sethkelley/opt/anaconda3/lib/python3.9/site-packages/seaborn/_decorators.py:36: FutureWarning: Pass the following variables as keyword args: x, y. From version 0.12, the only valid positional argument will be `data`, and passing other arguments without an explicit keyword will result in an error or misinterpretation.\n",
      "  warnings.warn(\n"
     ]
    },
    {
     "data": {
      "image/png": "[encoded data removed]",
      "text/plain": [
       "<Figure size 432x288 with 1 Axes>"
      ]
     },
     "metadata": {
      "needs_background": "light"
     },
     "output_type": "display_data"
    }
   ],
   "source": [
    "ax5 = sns.lineplot(T,Pkval)\n",
    "ax5.set(xlabel = 'Time', ylabel = 'Price of instantaneous forward rate',title = \"Estimated Price of Instantaneous Fwd Rate vs. Time\")\n",
    "ax5.grid()"
   ]
  },
  {
   "cell_type": "markdown",
   "id": "f8419fdc-d171-44cd-9ef3-d3589f10f8a8",
   "metadata": {},
   "source": [
    "## 3.e"
   ]
  },
  {
   "cell_type": "code",
   "execution_count": 1150,
   "id": "3ea81e5b-b0b1-445d-b6ff-5b30e74d189e",
   "metadata": {},
   "outputs": [],
   "source": [
    "T = 1\n",
    "K = 1\n",
    "r = 0.02\n",
    "delta = 0.3\n",
    "N = 1000\n",
    "\n",
    "S0 = K*np.exp(3*delta*np.sqrt(T/K))\n",
    "sLower = K*np.exp(-3*delta*np.sqrt(T/K))\n",
    "M = int(1/((S0/1000)**2))\n",
    "dx = sBar/N\n",
    "dt = T/M\n",
    "\n",
    "S = np.arange(S0,sLower,-dx)"
   ]
  },
  {
   "cell_type": "code",
   "execution_count": 1151,
   "id": "c2fb05f6-fac0-4a88-8d14-ff6d5af01d9b",
   "metadata": {},
   "outputs": [],
   "source": [
    "V = np.zeros((len(S),M))"
   ]
  },
  {
   "cell_type": "code",
   "execution_count": 1152,
   "id": "aecb547b-2fa8-4032-a86a-7a705455980c",
   "metadata": {},
   "outputs": [],
   "source": [
    "for i in range(M):\n",
    "    V[-1,i] = K*np.exp(-r*(T-i*dt)) - K*np.exp(-3*delta*np.sqrt(T/K))"
   ]
  },
  {
   "cell_type": "code",
   "execution_count": 1153,
   "id": "09e45691-f4b8-40db-b485-8984dcf445f3",
   "metadata": {},
   "outputs": [],
   "source": [
    "V[:,-1] = K - S"
   ]
  },
  {
   "cell_type": "code",
   "execution_count": 1154,
   "id": "8eba1bb6-10fe-4799-97cf-44bc1f5d0e32",
   "metadata": {},
   "outputs": [],
   "source": [
    "for i in range(len(V[:,-1])):\n",
    "    V[i,-1] = max(V[i,-1],0)"
   ]
  },
  {
   "cell_type": "code",
   "execution_count": 1156,
   "id": "72a9ff35-c45e-4cda-9b6e-d39be746d5ed",
   "metadata": {},
   "outputs": [],
   "source": [
    "for i in range(V.shape[1]-1):\n",
    "    for j in range(V.shape[0]-2):\n",
    "        sigma = delta * S[j]**(-1/2)\n",
    "        pUp = (sigma**2)*dt/(2*(dx**2)) + (r - (sigma**2)/2)*dt/(2*dx)\n",
    "        p = 1 - (sigma**2)*dt/(dx**2)\n",
    "        pDown = (sigma**2)*dt/(2*(dx**2)) - (r - (sigma**2)/2)*dt/(2*dx)\n",
    "        \n",
    "        V[1+j,V.shape[1]-2-i] = V[j,V.shape[1]-1-i]*(pUp) + V[1+j,V.shape[1]-1-i]*(p-r*dt) + V[2+j,V.shape[1]-1-i]*(pDown)"
   ]
  },
  {
   "cell_type": "code",
   "execution_count": 1157,
   "id": "bb596437-8fb1-42f4-93ee-e730a676aaa2",
   "metadata": {},
   "outputs": [
    {
     "name": "stderr",
     "output_type": "stream",
     "text": [
      "/Users/sethkelley/opt/anaconda3/lib/python3.9/site-packages/seaborn/_decorators.py:36: FutureWarning: Pass the following variables as keyword args: x, y. From version 0.12, the only valid positional argument will be `data`, and passing other arguments without an explicit keyword will result in an error or misinterpretation.\n",
      "  warnings.warn(\n"
     ]
    },
    {
     "data": {
      "image/png": "[encoded data removed]",
      "text/plain": [
       "<Figure size 432x288 with 1 Axes>"
      ]
     },
     "metadata": {
      "needs_background": "light"
     },
     "output_type": "display_data"
    }
   ],
   "source": [
    "ax6 = sns.lineplot(S,V[:,0])\n",
    "ax6.set(xlabel = 'Time', ylabel = 'Price of instantaneous forward rate',title = \"Estimated Price of Instantaneous Fwd Rate vs. Time\")\n",
    "ax6.grid()"
   ]
  },
  {
   "cell_type": "markdown",
   "id": "7e89a155-cb2b-467d-bad9-d5b58b9f7b07",
   "metadata": {
    "tags": []
   },
   "source": [
    "## 3.f"
   ]
  },
  {
   "cell_type": "code",
   "execution_count": 1158,
   "id": "65b61e58-73ac-4d72-8118-8dbdef1813cf",
   "metadata": {},
   "outputs": [],
   "source": [
    "T = 1\n",
    "K = 1\n",
    "r = 0.02\n",
    "delta = 0.3\n",
    "N = 1000\n",
    "\n",
    "S0 = K*np.exp(3*delta*np.sqrt(T/K))\n",
    "sLower = K*np.exp(-3*delta*np.sqrt(T/K))\n",
    "M = 1000\n",
    "dx = sBar/N\n",
    "dt = T/M\n",
    "\n",
    "S = np.arange(S0,sLower,-dx)"
   ]
  },
  {
   "cell_type": "code",
   "execution_count": 1159,
   "id": "a7ad23fa-f244-4136-bec4-1e6bbb1f39c3",
   "metadata": {},
   "outputs": [],
   "source": [
    "V = np.zeros((len(S),M))"
   ]
  },
  {
   "cell_type": "code",
   "execution_count": 1160,
   "id": "12e330ab-6ef9-43d3-8951-4b8e483bc5fc",
   "metadata": {},
   "outputs": [],
   "source": [
    "for i in range(M):\n",
    "    V[-1,i] = K*np.exp(-r*(T-i*dt)) - K*np.exp(-3*delta*np.sqrt(T/K))"
   ]
  },
  {
   "cell_type": "code",
   "execution_count": 1161,
   "id": "1d500473-3ac0-4616-8759-f45934ee81dc",
   "metadata": {},
   "outputs": [],
   "source": [
    "V[:,-1] = K - S"
   ]
  },
  {
   "cell_type": "code",
   "execution_count": 1162,
   "id": "00f67085-5246-468a-8c88-9b7ac96fbb02",
   "metadata": {},
   "outputs": [],
   "source": [
    "for i in range(len(V[:,-1])):\n",
    "    V[i,-1] = max(V[i,-1],0)"
   ]
  },
  {
   "cell_type": "code",
   "execution_count": 1163,
   "id": "14a172e1-2085-47fe-a77b-aaa756f5584b",
   "metadata": {},
   "outputs": [
    {
     "name": "stderr",
     "output_type": "stream",
     "text": [
      "/var/folders/bv/j678dvtd34bc5mtymgsd2c6w0000gn/T/ipykernel_9023/2722469056.py:8: RuntimeWarning: overflow encountered in double_scalars\n",
      "  V[1+j,V.shape[1]-2-i] = V[j,V.shape[1]-1-i]*(pUp) + V[1+j,V.shape[1]-1-i]*(p-r*dt) + V[2+j,V.shape[1]-1-i]*(pDown)\n",
      "/var/folders/bv/j678dvtd34bc5mtymgsd2c6w0000gn/T/ipykernel_9023/2722469056.py:8: RuntimeWarning: invalid value encountered in double_scalars\n",
      "  V[1+j,V.shape[1]-2-i] = V[j,V.shape[1]-1-i]*(pUp) + V[1+j,V.shape[1]-1-i]*(p-r*dt) + V[2+j,V.shape[1]-1-i]*(pDown)\n"
     ]
    }
   ],
   "source": [
    "for i in range(V.shape[1]-1):\n",
    "    for j in range(V.shape[0]-2):\n",
    "        sigma = delta * S[j]**(-1/2)\n",
    "        pUp = (sigma**2)*dt/(2*(dx**2)) + (r - (sigma**2)/2)*dt/(2*dx)\n",
    "        p = 1 - (sigma**2)*dt/(dx**2)\n",
    "        pDown = (sigma**2)*dt/(2*(dx**2)) - (r - (sigma**2)/2)*dt/(2*dx)\n",
    "        \n",
    "        V[1+j,V.shape[1]-2-i] = V[j,V.shape[1]-1-i]*(pUp) + V[1+j,V.shape[1]-1-i]*(p-r*dt) + V[2+j,V.shape[1]-1-i]*(pDown)"
   ]
  },
  {
   "cell_type": "code",
   "execution_count": 1164,
   "id": "3b3f45d0-1b46-479a-aa6e-c4b2b7824e02",
   "metadata": {},
   "outputs": [
    {
     "data": {
      "text/plain": [
       "array([[0, 0, 0, 0, 0, 0, 0, 0, 0, 0, 0, 0, 0, 0, 0, 0, 0, 0, 0, 0, 0, 0, 0, 0, 0, 0, 0, 0, 0, 0, ..., 0, 0, 0, 0, 0, 0, 0, 0, 0, 0, 0, 0, 0, 0, 0, 0, 0, 0, 0, 0, 0, 0, 0, 0, 0, 0, 0, 0, 0, 0],\n",
       "       [0, 0, 0, 0, 0, 0, 0, 0, 0, 0, 0, 0, 0, 0, 0, 0, 0, 0, 0, 0, 0, 0, 0, 0, 0, 0, 0, 0, 0, 0, ..., 0, 0, 0, 0, 0, 0, 0, 0, 0, 0, 0, 0, 0, 0, 0, 0, 0, 0, 0, 0, 0, 0, 0, 0, 0, 0, 0, 0, 0, 0],\n",
       "       [0, 0, 0, 0, 0, 0, 0, 0, 0, 0, 0, 0, 0, 0, 0, 0, 0, 0, 0, 0, 0, 0, 0, 0, 0, 0, 0, 0, 0, 0, ..., 0, 0, 0, 0, 0, 0, 0, 0, 0, 0, 0, 0, 0, 0, 0, 0, 0, 0, 0, 0, 0, 0, 0, 0, 0, 0, 0, 0, 0, 0],\n",
       "       [0, 0, 0, 0, 0, 0, 0, 0, 0, 0, 0, 0, 0, 0, 0, 0, 0, 0, 0, 0, 0, 0, 0, 0, 0, 0, 0, 0, 0, 0, ..., 0, 0, 0, 0, 0, 0, 0, 0, 0, 0, 0, 0, 0, 0, 0, 0, 0, 0, 0, 0, 0, 0, 0, 0, 0, 0, 0, 0, 0, 0],\n",
       "       [0, 0, 0, 0, 0, 0, 0, 0, 0, 0, 0, 0, 0, 0, 0, 0, 0, 0, 0, 0, 0, 0, 0, 0, 0, 0, 0, 0, 0, 0, ..., 0, 0, 0, 0, 0, 0, 0, 0, 0, 0, 0, 0, 0, 0, 0, 0, 0, 0, 0, 0, 0, 0, 0, 0, 0, 0, 0, 0, 0, 0],\n",
       "       [0, 0, 0, 0, 0, 0, 0, 0, 0, 0, 0, 0, 0, 0, 0, 0, 0, 0, 0, 0, 0, 0, 0, 0, 0, 0, 0, 0, 0, 0, ..., 0, 0, 0, 0, 0, 0, 0, 0, 0, 0, 0, 0, 0, 0, 0, 0, 0, 0, 0, 0, 0, 0, 0, 0, 0, 0, 0, 0, 0, 0],\n",
       "       [0, 0, 0, 0, 0, 0, 0, 0, 0, 0, 0, 0, 0, 0, 0, 0, 0, 0, 0, 0, 0, 0, 0, 0, 0, 0, 0, 0, 0, 0, ..., 0, 0, 0, 0, 0, 0, 0, 0, 0, 0, 0, 0, 0, 0, 0, 0, 0, 0, 0, 0, 0, 0, 0, 0, 0, 0, 0, 0, 0, 0],\n",
       "       [0, 0, 0, 0, 0, 0, 0, 0, 0, 0, 0, 0, 0, 0, 0, 0, 0, 0, 0, 0, 0, 0, 0, 0, 0, 0, 0, 0, 0, 0, ..., 0, 0, 0, 0, 0, 0, 0, 0, 0, 0, 0, 0, 0, 0, 0, 0, 0, 0, 0, 0, 0, 0, 0, 0, 0, 0, 0, 0, 0, 0],\n",
       "       [0, 0, 0, 0, 0, 0, 0, 0, 0, 0, 0, 0, 0, 0, 0, 0, 0, 0, 0, 0, 0, 0, 0, 0, 0, 0, 0, 0, 0, 0, ..., 0, 0, 0, 0, 0, 0, 0, 0, 0, 0, 0, 0, 0, 0, 0, 0, 0, 0, 0, 0, 0, 0, 0, 0, 0, 0, 0, 0, 0, 0],\n",
       "       [0, 0, 0, 0, 0, 0, 0, 0, 0, 0, 0, 0, 0, 0, 0, 0, 0, 0, 0, 0, 0, 0, 0, 0, 0, 0, 0, 0, 0, 0, ..., 0, 0, 0, 0, 0, 0, 0, 0, 0, 0, 0, 0, 0, 0, 0, 0, 0, 0, 0, 0, 0, 0, 0, 0, 0, 0, 0, 0, 0, 0],\n",
       "       [0, 0, 0, 0, 0, 0, 0, 0, 0, 0, 0, 0, 0, 0, 0, 0, 0, 0, 0, 0, 0, 0, 0, 0, 0, 0, 0, 0, 0, 0, ..., 0, 0, 0, 0, 0, 0, 0, 0, 0, 0, 0, 0, 0, 0, 0, 0, 0, 0, 0, 0, 0, 0, 0, 0, 0, 0, 0, 0, 0, 0],\n",
       "       [0, 0, 0, 0, 0, 0, 0, 0, 0, 0, 0, 0, 0, 0, 0, 0, 0, 0, 0, 0, 0, 0, 0, 0, 0, 0, 0, 0, 0, 0, ..., 0, 0, 0, 0, 0, 0, 0, 0, 0, 0, 0, 0, 0, 0, 0, 0, 0, 0, 0, 0, 0, 0, 0, 0, 0, 0, 0, 0, 0, 0],\n",
       "       [0, 0, 0, 0, 0, 0, 0, 0, 0, 0, 0, 0, 0, 0, 0, 0, 0, 0, 0, 0, 0, 0, 0, 0, 0, 0, 0, 0, 0, 0, ..., 0, 0, 0, 0, 0, 0, 0, 0, 0, 0, 0, 0, 0, 0, 0, 0, 0, 0, 0, 0, 0, 0, 0, 0, 0, 0, 0, 0, 0, 0],\n",
       "       [0, 0, 0, 0, 0, 0, 0, 0, 0, 0, 0, 0, 0, 0, 0, 0, 0, 0, 0, 0, 0, 0, 0, 0, 0, 0, 0, 0, 0, 0, ..., 0, 0, 0, 0, 0, 0, 0, 0, 0, 0, 0, 0, 0, 0, 0, 0, 0, 0, 0, 0, 0, 0, 0, 0, 0, 0, 0, 0, 0, 0],\n",
       "       [0, 0, 0, 0, 0, 0, 0, 0, 0, 0, 0, 0, 0, 0, 0, 0, 0, 0, 0, 0, 0, 0, 0, 0, 0, 0, 0, 0, 0, 0, ..., 0, 0, 0, 0, 0, 0, 0, 0, 0, 0, 0, 0, 0, 0, 0, 0, 0, 0, 0, 0, 0, 0, 0, 0, 0, 0, 0, 0, 0, 0],\n",
       "       [0, 0, 0, 0, 0, 0, 0, 0, 0, 0, 0, 0, 0, 0, 0, 0, 0, 0, 0, 0, 0, 0, 0, 0, 0, 0, 0, 0, 0, 0, ..., 0, 0, 0, 0, 0, 0, 0, 0, 0, 0, 0, 0, 0, 0, 0, 0, 0, 0, 0, 0, 0, 0, 0, 0, 0, 0, 0, 0, 0, 0],\n",
       "       [0, 0, 0, 0, 0, 0, 0, 0, 0, 0, 0, 0, 0, 0, 0, 0, 0, 0, 0, 0, 0, 0, 0, 0, 0, 0, 0, 0, 0, 0, ..., 0, 0, 0, 0, 0, 0, 0, 0, 0, 0, 0, 0, 0, 0, 0, 0, 0, 0, 0, 0, 0, 0, 0, 0, 0, 0, 0, 0, 0, 0],\n",
       "       [0, 0, 0, 0, 0, 0, 0, 0, 0, 0, 0, 0, 0, 0, 0, 0, 0, 0, 0, 0, 0, 0, 0, 0, 0, 0, 0, 0, 0, 0, ..., 0, 0, 0, 0, 0, 0, 0, 0, 0, 0, 0, 0, 0, 0, 0, 0, 0, 0, 0, 0, 0, 0, 0, 0, 0, 0, 0, 0, 0, 0],\n",
       "       [0, 0, 0, 0, 0, 0, 0, 0, 0, 0, 0, 0, 0, 0, 0, 0, 0, 0, 0, 0, 0, 0, 0, 0, 0, 0, 0, 0, 0, 0, ..., 0, 0, 0, 0, 0, 0, 0, 0, 0, 0, 0, 0, 0, 0, 0, 0, 0, 0, 0, 0, 0, 0, 0, 0, 0, 0, 0, 0, 0, 0],\n",
       "       [0, 0, 0, 0, 0, 0, 0, 0, 0, 0, 0, 0, 0, 0, 0, 0, 0, 0, 0, 0, 0, 0, 0, 0, 0, 0, 0, 0, 0, 0, ..., 0, 0, 0, 0, 0, 0, 0, 0, 0, 0, 0, 0, 0, 0, 0, 0, 0, 0, 0, 0, 0, 0, 0, 0, 0, 0, 0, 0, 0, 0],\n",
       "       [inf, 0, 0, 0, 0, 0, 0, 0, 0, 0, 0, 0, 0, 0, 0, 0, 0, 0, 0, 0, 0, 0, 0, 0, 0, 0, 0, 0, 0, 0, ..., 0, 0, 0, 0, 0, 0, 0, 0, 0, 0, 0, 0, 0, 0, 0, 0, 0, 0, 0, 0, 0, 0, 0, 0, 0, 0, 0, 0, 0, 0],\n",
       "       [-inf, inf, 0, 0, 0, 0, 0, 0, 0, 0, 0, 0, 0, 0, 0, 0, 0, 0, 0, 0, 0, 0, 0, 0, 0, 0, 0, 0, 0, 0, ..., 0, 0, 0, 0, 0, 0, 0, 0, 0, 0, 0, 0, 0, 0, 0, 0, 0, 0, 0, 0, 0, 0, 0, 0, 0, 0, 0, 0, 0, 0],\n",
       "       [inf, -inf, inf, 0, 0, 0, 0, 0, 0, 0, 0, 0, 0, 0, 0, 0, 0, 0, 0, 0, 0, 0, 0, 0, 0, 0, 0, 0, 0, 0, ..., 0, 0, 0, 0, 0, 0, 0, 0, 0, 0, 0, 0, 0, 0, 0, 0, 0, 0, 0, 0, 0, 0, 0, 0, 0, 0, 0, 0, 0, 0],\n",
       "       [-inf, inf, -inf, inf, 0, 0, 0, 0, 0, 0, 0, 0, 0, 0, 0, 0, 0, 0, 0, 0, 0, 0, 0, 0, 0, 0, 0, 0, 0, 0, ..., 0, 0, 0, 0, 0, 0, 0, 0, 0, 0, 0, 0, 0, 0, 0, 0, 0, 0, 0, 0, 0, 0, 0, 0, 0, 0, 0, 0, 0, 0],\n",
       "       [inf, -inf, inf, -inf, inf, 0, 0, 0, 0, 0, 0, 0, 0, 0, 0, 0, 0, 0, 0, 0, 0, 0, 0, 0, 0, 0, 0, 0, 0, 0, ..., 0, 0, 0, 0, 0, 0, 0, 0, 0, 0, 0, 0, 0, 0, 0, 0, 0, 0, 0, 0, 0, 0, 0, 0, 0, 0, 0, 0, 0, 0],\n",
       "       [-inf, inf, -inf, inf, -inf, inf, 0, 0, 0, 0, 0, 0, 0, 0, 0, 0, 0, 0, 0, 0, 0, 0, 0, 0, 0, 0, 0, 0, 0, 0, ..., 0, 0, 0, 0, 0, 0, 0, 0, 0, 0, 0, 0, 0, 0, 0, 0, 0, 0, 0, 0, 0, 0, 0, 0, 0, 0, 0, 0, 0, 0],\n",
       "       [inf, -inf, inf, -inf, inf, -inf, inf, 0, 0, 0, 0, 0, 0, 0, 0, 0, 0, 0, 0, 0, 0, 0, 0, 0, 0, 0, 0, 0, 0, 0, ..., 0, 0, 0, 0, 0, 0, 0, 0, 0, 0, 0, 0, 0, 0, 0, 0, 0, 0, 0, 0, 0, 0, 0, 0, 0, 0, 0, 0, 0, 0],\n",
       "       [-inf, inf, -inf, inf, -inf, inf, -inf, inf, 0, 0, 0, 0, 0, 0, 0, 0, 0, 0, 0, 0, 0, 0, 0, 0, 0, 0, 0, 0, 0, 0, ..., 0, 0, 0, 0, 0, 0, 0, 0, 0, 0, 0, 0, 0, 0, 0, 0, 0, 0, 0, 0, 0, 0, 0, 0, 0, 0, 0, 0, 0, 0],\n",
       "       [inf, -inf, inf, -inf, inf, -inf, inf, -inf, inf, 0, 0, 0, 0, 0, 0, 0, 0, 0, 0, 0, 0, 0, 0, 0, 0, 0, 0, 0, 0, 0, ..., 0, 0, 0, 0, 0, 0, 0, 0, 0, 0, 0, 0, 0, 0, 0, 0, 0, 0, 0, 0, 0, 0, 0, 0, 0, 0, 0, 0, 0, 0],\n",
       "       [-inf, inf, -inf, inf, -inf, inf, -inf, inf, -inf, inf, 0, 0, 0, 0, 0, 0, 0, 0, 0, 0, 0, 0, 0, 0, 0, 0, 0, 0, 0, 0, ..., 0, 0, 0, 0, 0, 0, 0, 0, 0, 0, 0, 0, 0, 0, 0, 0, 0, 0, 0, 0, 0, 0, 0, 0, 0, 0, 0, 0, 0, 0],\n",
       "       ...,\n",
       "       [nan, nan, nan, nan, nan, nan, nan, nan, nan, nan, nan, nan, nan, nan, nan, nan, nan, nan, nan, nan, nan, nan, nan, nan, nan, nan, nan, nan, nan, nan, ..., 1.09e+49, -5.68e+46, 2.96e+44, -1.54e+42, 8.06e+39, -4.21e+37, 2.2e+35, -1.15e+33, 6.01e+30, -3.15e+28, 1.65e+26, -8.66e+23, 4.55e+21, -2.4e+19, 1.27e+17, -6.7e+14, 3.55e+12, -1.89e+10, 1.01e+08, -5.45e+05, 2.95e+03, -15.5, 0.64, 0.551, 0.551, 0.551, 0.551, 0.551, 0.551, 0.551],\n",
       "       [nan, nan, nan, nan, nan, nan, nan, nan, nan, nan, nan, nan, nan, nan, nan, nan, nan, nan, nan, nan, nan, nan, nan, nan, nan, nan, nan, nan, nan, nan, ..., -1.13e+49, 5.83e+46, -3.02e+44, 1.56e+42, -8.09e+39, 4.19e+37, -2.17e+35, 1.12e+33, -5.8e+30, 3e+28, -1.55e+26, 8.03e+23, -4.15e+21, 2.15e+19, -1.11e+17, 5.76e+14, -2.99e+12, 1.55e+10, -8.07e+07, 4.21e+05, -2.21e+03, 12.3, 0.49, 0.553, 0.553, 0.553, 0.553, 0.553, 0.553, 0.552],\n",
       "       [nan, nan, nan, nan, nan, nan, nan, nan, nan, nan, nan, nan, nan, nan, nan, nan, nan, nan, nan, nan, nan, nan, nan, nan, nan, nan, nan, nan, nan, nan, ..., 1.14e+49, -5.86e+46, 3.01e+44, -1.55e+42, 7.95e+39, -4.08e+37, 2.09e+35, -1.07e+33, 5.48e+30, -2.8e+28, 1.43e+26, -7.25e+23, 3.68e+21, -1.86e+19, 9.36e+16, -4.69e+14, 2.34e+12, -1.16e+10, 5.67e+07, -2.75e+05, 1.31e+03, -5.54, 0.582, 0.554, 0.554, 0.554, 0.554, 0.554, 0.554, 0.554],\n",
       "       [nan, nan, nan, nan, nan, nan, nan, nan, nan, nan, nan, nan, nan, nan, nan, nan, nan, nan, nan, nan, nan, nan, nan, nan, nan, nan, nan, nan, nan, nan, ..., -1.06e+49, 5.77e+46, -2.98e+44, 1.53e+42, -7.8e+39, 3.98e+37, -2.03e+35, 1.03e+33, -5.24e+30, 2.65e+28, -1.34e+26, 6.74e+23, -3.38e+21, 1.68e+19, -8.31e+16, 4.07e+14, -1.97e+12, 9.35e+09, -4.33e+07, 1.93e+05, -806, 3.51, 0.548, 0.556, 0.556, 0.556, 0.556, 0.555, 0.555, 0.555],\n",
       "       [nan, nan, nan, nan, nan, nan, nan, nan, nan, nan, nan, nan, nan, nan, nan, nan, nan, nan, nan, nan, nan, nan, nan, nan, nan, nan, nan, nan, nan, nan, ..., -2.21e+48, -4.35e+46, 2.84e+44, -1.5e+42, 7.68e+39, -3.92e+37, 2e+35, -1.02e+33, 5.16e+30, -2.62e+28, 1.33e+26, -6.69e+23, 3.37e+21, -1.69e+19, 8.42e+16, -4.18e+14, 2.05e+12, -9.98e+09, 4.79e+07, -2.25e+05, 1.03e+03, -3.93, 0.575, 0.557, 0.557, 0.557, 0.557, 0.557, 0.557, 0.557],\n",
       "       [nan, nan, nan, nan, nan, nan, nan, nan, nan, nan, nan, nan, nan, nan, nan, nan, nan, nan, nan, nan, nan, nan, nan, nan, nan, nan, nan, nan, nan, nan, ..., 1.67e+50, -1.88e+47, -2.2e+43, 1.27e+42, -7.46e+39, 3.86e+37, -1.97e+35, 1.01e+33, -5.15e+30, 2.63e+28, -1.35e+26, 6.9e+23, -3.54e+21, 1.81e+19, -9.29e+16, 4.76e+14, -2.44e+12, 1.25e+10, -6.45e+07, 3.33e+05, -1.72e+03, 9.56, 0.511, 0.559, 0.559, 0.558, 0.558, 0.558, 0.558, 0.558],\n",
       "       [nan, nan, nan, nan, nan, nan, nan, nan, nan, nan, nan, nan, nan, nan, nan, nan, nan, nan, nan, nan, nan, nan, nan, nan, nan, nan, nan, nan, nan, nan, ..., -1.83e+51, 3.05e+48, -4.14e+45, 3.57e+42, 3.28e+39, -3.55e+37, 1.9e+35, -9.76e+32, 5.02e+30, -2.58e+28, 1.34e+26, -6.92e+23, 3.6e+21, -1.88e+19, 9.84e+16, -5.18e+14, 2.74e+12, -1.46e+10, 7.82e+07, -4.22e+05, 2.29e+03, -12, 0.63, 0.56, 0.56, 0.56, 0.56, 0.56, 0.56, 0.56],\n",
       "       [nan, nan, nan, nan, nan, nan, nan, nan, nan, nan, nan, nan, nan, nan, nan, nan, nan, nan, nan, nan, nan, nan, nan, nan, nan, nan, nan, nan, nan, nan, ..., 1.56e+52, -3.07e+49, 5.33e+46, -7.76e+43, 8.59e+40, -4.27e+37, -1.42e+35, 8.98e+32, -4.6e+30, 2.36e+28, -1.22e+26, 6.32e+23, -3.29e+21, 1.73e+19, -9.09e+16, 4.82e+14, -2.58e+12, 1.39e+10, -7.5e+07, 4.09e+05, -2.24e+03, 12.9, 0.494, 0.562, 0.561, 0.561, 0.561, 0.561, 0.561, 0.561],\n",
       "       [nan, nan, nan, nan, nan, nan, nan, nan, nan, nan, nan, nan, nan, nan, nan, nan, nan, nan, nan, nan, nan, nan, nan, nan, nan, nan, nan, nan, nan, nan, ..., -1.1e+53, 2.49e+50, -5.08e+47, 9.13e+44, -1.39e+42, 1.68e+39, -1.33e+36, -9.18e+31, 3.93e+30, -1.98e+28, 1e+26, -5.08e+23, 2.59e+21, -1.33e+19, 6.83e+16, -3.55e+14, 1.85e+12, -9.75e+09, 5.17e+07, -2.77e+05, 1.49e+03, -7.5, 0.607, 0.563, 0.563, 0.563, 0.563, 0.563, 0.563, 0.562],\n",
       "       [nan, nan, nan, nan, nan, nan, nan, nan, nan, nan, nan, nan, nan, nan, nan, nan, nan, nan, nan, nan, nan, nan, nan, nan, nan, nan, nan, nan, nan, nan, ..., 6.69e+53, -1.69e+51, 3.92e+48, -8.28e+45, 1.54e+43, -2.45e+40, 3.11e+37, -2.77e+34, 1.05e+31, 1.59e+28, -7.67e+25, 3.68e+23, -1.76e+21, 8.34e+18, -3.94e+16, 1.85e+14, -8.6e+11, 3.96e+09, -1.8e+07, 8.05e+04, -354, 2.12, 0.558, 0.564, 0.564, 0.564, 0.564, 0.564, 0.564, 0.564],\n",
       "       [nan, nan, nan, nan, nan, nan, nan, nan, nan, nan, nan, nan, nan, nan, nan, nan, nan, nan, nan, nan, nan, nan, nan, nan, nan, nan, nan, nan, nan, nan, ..., -3.52e+54, 9.76e+51, -2.54e+49, 6.1e+46, -1.33e+44, 2.58e+41, -4.26e+38, 5.65e+35, -5.35e+32, 2.62e+29, 6.65e+25, -2.96e+23, 1.28e+21, -5.29e+18, 2.02e+16, -6.65e+13, 1.38e+11, 4.12e+08, -8.28e+06, 7.67e+04, -582, 4.6, 0.539, 0.566, 0.566, 0.566, 0.566, 0.565, 0.565, 0.565],\n",
       "       [nan, nan, nan, nan, nan, nan, nan, nan, nan, nan, nan, nan, nan, nan, nan, nan, nan, nan, nan, nan, nan, nan, nan, nan, nan, nan, nan, nan, nan, nan, ..., 1.63e+55, -4.9e+52, 1.4e+50, -3.75e+47, 9.34e+44, -2.12e+42, 4.26e+39, -7.34e+36, 1.02e+34, -1.01e+31, 5.41e+27, 3.69e+23, -1.6e+21, 6.65e+18, -2.57e+16, 8.62e+13, -1.92e+11, -4.01e+08, 9.76e+06, -9.34e+04, 727, -4.58, 0.602, 0.567, 0.567, 0.567, 0.567, 0.567, 0.567, 0.567],\n",
       "       [nan, nan, nan, nan, nan, nan, nan, nan, nan, nan, nan, nan, nan, nan, nan, nan, nan, nan, nan, nan, nan, nan, nan, nan, nan, nan, nan, nan, nan, nan, ..., -6.7e+55, 2.16e+53, -6.7e+50, 1.97e+48, -5.46e+45, 1.41e+43, -3.31e+40, 6.93e+37, -1.25e+35, 1.81e+32, -1.9e+29, 1.08e+26, 2.87e+21, -1.33e+19, 6.08e+16, -2.73e+14, 1.19e+12, -5e+09, 1.97e+07, -6.79e+04, 167, 0.739, 0.562, 0.569, 0.569, 0.569, 0.568, 0.568, 0.568, 0.568],\n",
       "       [nan, nan, nan, nan, nan, nan, nan, nan, nan, nan, nan, nan, nan, nan, nan, nan, nan, nan, nan, nan, nan, nan, nan, nan, nan, nan, nan, nan, nan, nan, ..., 2.46e+56, -8.46e+53, 2.81e+51, -8.96e+48, 2.72e+46, -7.8e+43, 2.08e+41, -5.09e+38, 1.11e+36, -2.1e+33, 3.2e+30, -3.55e+27, 2.15e+24, 2.37e+19, -1.17e+17, 5.75e+14, -2.84e+12, 1.41e+10, -6.97e+07, 3.47e+05, -1.74e+03, 9.34, 0.525, 0.57, 0.57, 0.57, 0.57, 0.57, 0.57, 0.57],\n",
       "       [nan, nan, nan, nan, nan, nan, nan, nan, nan, nan, nan, nan, nan, nan, nan, nan, nan, nan, nan, nan, nan, nan, nan, nan, nan, nan, nan, nan, nan, nan, ..., -8.12e+56, 2.95e+54, -1.04e+52, 3.57e+49, -1.17e+47, 3.68e+44, -1.09e+42, 3.02e+39, -7.7e+36, 1.76e+34, -3.47e+31, 5.59e+28, -6.56e+25, 4.24e+22, 1.75e+17, -8.87e+14, 4.52e+12, -2.31e+10, 1.19e+08, -6.18e+05, 3.23e+03, -16.5, 0.662, 0.571, 0.571, 0.571, 0.571, 0.571, 0.571, 0.571],\n",
       "       [nan, nan, nan, nan, nan, nan, nan, nan, nan, nan, nan, nan, nan, nan, nan, nan, nan, nan, nan, nan, nan, nan, nan, nan, nan, nan, nan, nan, nan, nan, ..., 2.42e+57, -9.25e+54, 3.45e+52, -1.25e+50, 4.41e+47, -1.49e+45, 4.85e+42, -1.49e+40, 4.3e+37, -1.14e+35, 2.73e+32, -5.68e+29, 9.66e+26, -1.2e+24, 8.32e+20, 1.1e+15, -5.63e+12, 2.88e+10, -1.49e+08, 7.69e+05, -4e+03, 21.5, 0.463, 0.574, 0.573, 0.573, 0.573, 0.573, 0.573, 0.573],\n",
       "       [nan, nan, nan, nan, nan, nan, nan, nan, nan, nan, nan, nan, nan, nan, nan, nan, nan, nan, nan, nan, nan, nan, nan, nan, nan, nan, nan, nan, nan, nan, ..., -6.56e+57, 2.61e+55, -1.02e+53, 3.92e+50, -1.46e+48, 5.3e+45, -1.86e+43, 6.23e+40, -1.99e+38, 5.98e+35, -1.66e+33, 4.17e+30, -9.13e+27, 1.65e+25, -2.19e+22, 1.63e+19, 5.91e+12, -2.99e+10, 1.51e+08, -7.67e+05, 3.9e+03, -19.3, 0.675, 0.574, 0.574, 0.574, 0.574, 0.574, 0.574, 0.574],\n",
       "       [nan, nan, nan, nan, nan, nan, nan, nan, nan, nan, nan, nan, nan, nan, nan, nan, nan, nan, nan, nan, nan, nan, nan, nan, nan, nan, nan, nan, nan, nan, ..., 1.61e+58, -6.69e+55, 2.73e+53, -1.09e+51, 4.3e+48, -1.65e+46, 6.17e+43, -2.23e+41, 7.78e+38, -2.58e+36, 8.1e+33, -2.36e+31, 6.22e+28, -1.44e+26, 2.77e+23, -3.95e+20, 3.18e+17, 2.74e+10, -1.35e+08, 6.62e+05, -3.24e+03, 16.4, 0.499, 0.576, 0.576, 0.576, 0.576, 0.576, 0.575, 0.575],\n",
       "       [nan, nan, nan, nan, nan, nan, nan, nan, nan, nan, nan, nan, nan, nan, nan, nan, nan, nan, nan, nan, nan, nan, nan, nan, nan, nan, nan, nan, nan, nan, ..., -3.62e+58, 1.55e+56, -6.57e+53, 2.75e+51, -1.13e+49, 4.56e+46, -1.8e+44, 6.95e+41, -2.6e+39, 9.41e+36, -3.25e+34, 1.07e+32, -3.25e+29, 9.07e+26, -2.23e+24, 4.58e+21, -7.05e+18, 6.17e+15, 1.15e+08, -5.43e+05, 2.55e+03, -11.3, 0.632, 0.577, 0.577, 0.577, 0.577, 0.577, 0.577, 0.577],\n",
       "       [nan, nan, nan, nan, nan, nan, nan, nan, nan, nan, nan, nan, nan, nan, nan, nan, nan, nan, nan, nan, nan, nan, nan, nan, nan, nan, nan, nan, nan, nan, ..., 7.43e+58, -3.28e+56, 1.43e+54, -6.2e+51, 2.65e+49, -1.12e+47, 4.64e+44, -1.89e+42, 7.54e+39, -2.92e+37, 1.1e+35, -3.96e+32, 1.36e+30, -4.36e+27, 1.29e+25, -3.38e+22, 7.45e+19, -1.24e+17, 1.2e+14, 4.84e+05, -2.23e+03, 10.7, 0.534, 0.579, 0.579, 0.579, 0.578, 0.578, 0.578, 0.578],\n",
       "       [nan, nan, nan, nan, nan, nan, nan, nan, nan, nan, nan, nan, nan, nan, nan, nan, nan, nan, nan, nan, nan, nan, nan, nan, nan, nan, nan, nan, nan, nan, ..., -1.39e+59, 6.3e+56, -2.83e+54, 1.26e+52, -5.6e+49, 2.45e+47, -1.06e+45, 4.53e+42, -1.9e+40, 7.82e+37, -3.14e+35, 1.23e+33, -4.63e+30, 1.67e+28, -5.65e+25, 1.77e+23, -4.97e+20, 1.19e+18, -2.16e+15, 2.31e+12, 2.4e+03, -10.6, 0.632, 0.58, 0.58, 0.58, 0.58, 0.58, 0.58, 0.58],\n",
       "       [nan, nan, nan, nan, nan, nan, nan, nan, nan, nan, nan, nan, nan, nan, nan, nan, nan, nan, nan, nan, nan, nan, nan, nan, nan, nan, nan, nan, nan, nan, ..., 2.38e+59, -1.1e+57, 5.08e+54, -2.33e+52, 1.06e+50, -4.8e+47, 2.15e+45, -9.55e+42, 4.19e+40, -1.81e+38, 7.73e+35, -3.22e+33, 1.31e+31, -5.17e+28, 1.96e+26, -7.03e+23, 2.35e+21, -7.09e+18, 1.84e+16, -3.71e+13, 4.44e+10, 14.4, 0.514, 0.582, 0.581, 0.581, 0.581, 0.581, 0.581, 0.581],\n",
       "       [nan, nan, nan, nan, nan, nan, nan, nan, nan, nan, nan, nan, nan, nan, nan, nan, nan, nan, nan, nan, nan, nan, nan, nan, nan, nan, nan, nan, nan, nan, ..., -3.71e+59, 1.75e+57, -8.24e+54, 3.86e+52, -1.8e+50, 8.39e+47, -3.88e+45, 1.78e+43, -8.11e+40, 3.66e+38, -1.64e+36, 7.2e+33, -3.12e+31, 1.32e+29, -5.47e+26, 2.18e+24, -8.32e+21, 2.98e+19, -9.74e+16, 2.77e+14, -6.23e+11, 8.51e+08, 0.662, 0.583, 0.583, 0.583, 0.583, 0.583, 0.583, 0.583],\n",
       "       [nan, nan, nan, nan, nan, nan, nan, nan, nan, nan, nan, nan, nan, nan, nan, nan, nan, nan, nan, nan, nan, nan, nan, nan, nan, nan, nan, nan, nan, nan, ..., 5.24e+59, -2.52e+57, 1.21e+55, -5.76e+52, 2.75e+50, -1.31e+48, 6.2e+45, -2.93e+43, 1.38e+41, -6.44e+38, 2.99e+36, -1.38e+34, 6.28e+31, -2.83e+29, 1.25e+27, -5.43e+24, 2.29e+22, -9.3e+19, 3.58e+17, -1.28e+15, 4.02e+12, -1.02e+10, 1.63e+07, 0.585, 0.584, 0.584, 0.584, 0.584, 0.584, 0.584],\n",
       "       [nan, nan, nan, nan, nan, nan, nan, nan, nan, nan, nan, nan, nan, nan, nan, nan, nan, nan, nan, nan, nan, nan, nan, nan, nan, nan, nan, nan, nan, nan, ..., -6.69e+59, 3.25e+57, -1.58e+55, 7.68e+52, -3.73e+50, 1.81e+48, -8.75e+45, 4.23e+43, -2.04e+41, 9.81e+38, -4.7e+36, 2.25e+34, -1.07e+32, 5.04e+29, -2.36e+27, 1.09e+25, -4.97e+22, 2.22e+20, -9.64e+17, 4.02e+15, -1.57e+13, 5.55e+10, -1.62e+08, 3.1e+05, 0.586, 0.586, 0.586, 0.586, 0.585, 0.585],\n",
       "       [nan, nan, nan, nan, nan, nan, nan, nan, nan, nan, nan, nan, nan, nan, nan, nan, nan, nan, nan, nan, nan, nan, nan, nan, nan, nan, nan, nan, nan, nan, ..., 7.6e+59, -3.74e+57, 1.84e+55, -9.05e+52, 4.45e+50, -2.19e+48, 1.08e+46, -5.31e+43, 2.61e+41, -1.29e+39, 6.32e+36, -3.1e+34, 1.52e+32, -7.46e+29, 3.64e+27, -1.77e+25, 8.56e+22, -4.11e+20, 1.95e+18, -9.07e+15, 4.11e+13, -1.78e+11, 7.15e+08, -2.47e+06, 5.87e+03, 0.587, 0.587, 0.587, 0.587, 0.587],\n",
       "       [nan, nan, nan, nan, nan, nan, nan, nan, nan, nan, nan, nan, nan, nan, nan, nan, nan, nan, nan, nan, nan, nan, nan, nan, nan, nan, nan, nan, nan, nan, ..., -7.52e+59, 3.73e+57, -1.85e+55, 9.19e+52, -4.57e+50, 2.27e+48, -1.13e+46, 5.66e+43, -2.83e+41, 1.42e+39, -7.09e+36, 3.56e+34, -1.79e+32, 9.01e+29, -4.54e+27, 2.29e+25, -1.16e+23, 5.84e+20, -2.95e+18, 1.49e+16, -7.44e+13, 3.69e+11, -1.79e+09, 8.32e+06, -3.5e+04, 112, 0.589, 0.588, 0.588, 0.588],\n",
       "       [nan, nan, nan, nan, nan, nan, nan, nan, nan, nan, nan, nan, nan, nan, nan, nan, nan, nan, nan, nan, nan, nan, nan, nan, nan, nan, nan, nan, nan, nan, ..., 6.13e+59, -3.05e+57, 1.53e+55, -7.63e+52, 3.82e+50, -1.92e+48, 9.64e+45, -4.86e+43, 2.46e+41, -1.24e+39, 6.31e+36, -3.22e+34, 1.64e+32, -8.44e+29, 4.35e+27, -2.25e+25, 1.17e+23, -6.13e+20, 3.23e+18, -1.71e+16, 9.16e+13, -4.94e+11, 2.69e+09, -1.48e+07, 8.15e+04, -440, 2.68, 0.59, 0.59, 0.59],\n",
       "       [nan, nan, nan, nan, nan, nan, nan, nan, nan, nan, nan, nan, nan, nan, nan, nan, nan, nan, nan, nan, nan, nan, nan, nan, nan, nan, nan, nan, nan, nan, ..., -3.46e+59, 1.73e+57, -8.69e+54, 4.36e+52, -2.19e+50, 1.11e+48, -5.59e+45, 2.84e+43, -1.44e+41, 7.35e+38, -3.76e+36, 1.93e+34, -9.98e+31, 5.18e+29, -2.7e+27, 1.42e+25, -7.52e+22, 4.02e+20, -2.17e+18, 1.19e+16, -6.58e+13, 3.73e+11, -2.16e+09, 1.3e+07, -8.15e+04, 549, -3.53, 0.631, 0.591, 0.591],\n",
       "       [0.574, 0.574, 0.574, 0.574, 0.574, 0.574, 0.574, 0.574, 0.574, 0.574, 0.574, 0.574, 0.574, 0.574, 0.574, 0.574, 0.574, 0.574, 0.574, 0.574, 0.574, 0.574, 0.574, 0.574, 0.574, 0.574, 0.574, 0.574, 0.574, 0.574, ..., 0.593, 0.593, 0.593, 0.593, 0.593, 0.593, 0.593, 0.593, 0.593, 0.593, 0.593, 0.593, 0.593, 0.593, 0.593, 0.593, 0.593, 0.593, 0.593, 0.593, 0.593, 0.593, 0.593, 0.593, 0.593, 0.593, 0.593, 0.593, 0.593, 0.593]])"
      ]
     },
     "execution_count": 1164,
     "metadata": {},
     "output_type": "execute_result"
    }
   ],
   "source": [
    "V"
   ]
  },
  {
   "cell_type": "code",
   "execution_count": null,
   "id": "f3d676fd-1fe5-483b-ad3f-7d74a90b7846",
   "metadata": {},
   "outputs": [],
   "source": []
  },
  {
   "cell_type": "markdown",
   "id": "543dbdaa-65b4-424a-a01b-dd5e6119d813",
   "metadata": {},
   "source": [
    "We can see that if M is not suitable for producing stability then we have errors in computing the option price. More generally, we will not have convergence to the true solution."
   ]
  },
  {
   "cell_type": "markdown",
   "id": "9ef5a01a-86ac-476a-8448-4d3d33e08a06",
   "metadata": {},
   "source": [
    "In some instances we have nan's as our values and in other instances we have produced extremely large numbers that eventually lead to overflow errors."
   ]
  },
  {
   "cell_type": "code",
   "execution_count": null,
   "id": "8f38ea3d-c597-4dc1-a64e-2d298971ce00",
   "metadata": {},
   "outputs": [],
   "source": []
  },
  {
   "cell_type": "code",
   "execution_count": null,
   "id": "43d64b0a-d6e5-42dc-904c-fe3031e92603",
   "metadata": {},
   "outputs": [],
   "source": []
  }
 ],
 "metadata": {
  "kernelspec": {
   "display_name": "Python 3 (ipykernel)",
   "language": "python",
   "name": "python3"
  },
  "language_info": {
   "codemirror_mode": {
    "name": "ipython",
    "version": 3
   },
   "file_extension": ".py",
   "mimetype": "text/x-python",
   "name": "python",
   "nbconvert_exporter": "python",
   "pygments_lexer": "ipython3",
   "version": "3.9.7"
  }
 },
 "nbformat": 4,
 "nbformat_minor": 5
}
