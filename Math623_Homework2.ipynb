{
 "cells": [
  {
   "cell_type": "code",
   "execution_count": 463,
   "id": "9a56ae51-ed48-4b4d-b459-597e85a26650",
   "metadata": {},
   "outputs": [],
   "source": [
    "import numpy as np"
   ]
  },
  {
   "cell_type": "code",
   "execution_count": 464,
   "id": "dc358479-2d67-4866-9cc3-871670b8220f",
   "metadata": {},
   "outputs": [],
   "source": [
    "np.set_printoptions(edgeitems=30, linewidth=100000, formatter=dict(float=lambda x: \"%.3g\" % x))"
   ]
  },
  {
   "cell_type": "markdown",
   "id": "bab42c1c-284b-42d8-96fa-d1597e49fcdd",
   "metadata": {},
   "source": [
    "## 1.1 ##"
   ]
  },
  {
   "cell_type": "code",
   "execution_count": 465,
   "id": "1c3aa6f4-dc36-4e7f-8c1c-e43591da08d5",
   "metadata": {},
   "outputs": [],
   "source": [
    "sigma = 0.30\n",
    "a = 0.05\n",
    "deltat = 1/12\n",
    "V = sigma**2 * (1-np.exp(-2*a*deltat))/(2*a)\n",
    "deltau = np.sqrt(3*V)\n",
    "numMonths = 24\n",
    "P = lambda x: np.e**(-0.06 * x * deltat)"
   ]
  },
  {
   "cell_type": "code",
   "execution_count": 466,
   "id": "be3c1482-de63-4127-8a70-2c0a7c234026",
   "metadata": {},
   "outputs": [],
   "source": [
    "OU = np.zeros((numMonths*2 + 1,numMonths))"
   ]
  },
  {
   "cell_type": "code",
   "execution_count": 467,
   "id": "d3105968-6f80-4ad6-88c3-27b4d759bd67",
   "metadata": {},
   "outputs": [],
   "source": [
    "for i in range(int(numMonths)):\n",
    "    index1 = int(numMonths - i - 1)\n",
    "    index2 = int(numMonths + i + 1)\n",
    "    OU[index1][:] = (i+1) * deltau\n",
    "    OU[index2][:] = -(i+1) * deltau"
   ]
  },
  {
   "cell_type": "markdown",
   "id": "42bc6865-f9d6-40e4-bd03-56d4b71c5527",
   "metadata": {},
   "source": [
    "## 1.2 ##"
   ]
  },
  {
   "cell_type": "code",
   "execution_count": 468,
   "id": "085c26c4-3993-4a8c-9197-c13f8a84c710",
   "metadata": {},
   "outputs": [],
   "source": [
    "intermediateParams = np.zeros((numMonths*2 + 1, 6))"
   ]
  },
  {
   "cell_type": "code",
   "execution_count": 469,
   "id": "638a3663-4782-465a-8355-e187452cd14f",
   "metadata": {},
   "outputs": [],
   "source": [
    "intermediateParams[:,0] = np.arange(numMonths, -numMonths-1,-1)\n",
    "intermediateParams[:,1] = np.arange(numMonths, -numMonths-1,-1)"
   ]
  },
  {
   "cell_type": "code",
   "execution_count": 470,
   "id": "28ece8a5-f49f-4fa3-9fbc-5480320122d5",
   "metadata": {},
   "outputs": [],
   "source": [
    "for i in range(numMonths*2 + 1):\n",
    "    intermediateParams[i,2] = intermediateParams[i,0] * np.exp(-a * deltat) - intermediateParams[i,1]"
   ]
  },
  {
   "cell_type": "code",
   "execution_count": 471,
   "id": "dbea2a63-7dc6-4730-9900-19e18da42642",
   "metadata": {},
   "outputs": [],
   "source": [
    "for i in range(numMonths*2 + 1):\n",
    "    Beta = intermediateParams[i,2]\n",
    "    intermediateParams[i,3] = 1/6 + 1/2*(Beta**2 + Beta)"
   ]
  },
  {
   "cell_type": "code",
   "execution_count": 472,
   "id": "41fdc07f-d1cb-4d44-984b-377a0008b98e",
   "metadata": {},
   "outputs": [],
   "source": [
    "for i in range(numMonths*2 + 1):\n",
    "    Beta = intermediateParams[i,2]\n",
    "    intermediateParams[i,4] = 2/3 - Beta**2"
   ]
  },
  {
   "cell_type": "code",
   "execution_count": 473,
   "id": "a943a289-52b2-4bea-8fd6-19d047a16521",
   "metadata": {},
   "outputs": [],
   "source": [
    "for i in range(numMonths*2 + 1):\n",
    "    Beta = intermediateParams[i,2]\n",
    "    intermediateParams[i,5] = 1/6 + 1/2*(Beta**2 - Beta)"
   ]
  },
  {
   "cell_type": "markdown",
   "id": "9a26a3b7-04e1-4baf-8ad4-0cc19dd9d6f8",
   "metadata": {},
   "source": [
    "## 1.3 ##"
   ]
  },
  {
   "cell_type": "code",
   "execution_count": 479,
   "id": "c5226fc3-ceb3-4e8b-85c7-3b510d9dc4e9",
   "metadata": {},
   "outputs": [],
   "source": [
    "AD = np.zeros((numMonths*2 + 1,numMonths))\n",
    "AD[numMonths,0] = 1"
   ]
  },
  {
   "cell_type": "code",
   "execution_count": 480,
   "id": "3053963d-ad66-4acc-a433-15bd2cdc63f8",
   "metadata": {},
   "outputs": [],
   "source": [
    "r = np.zeros((numMonths*2 + 1, numMonths))\n",
    "r[numMonths,0] = -np.log(P(1))/(1/12)"
   ]
  },
  {
   "cell_type": "code",
   "execution_count": null,
   "id": "72e0958b-bf22-4e50-9a54-45c369c623de",
   "metadata": {},
   "outputs": [],
   "source": []
  },
  {
   "cell_type": "code",
   "execution_count": 481,
   "id": "534d2ec3-1054-4fff-aa19-0da5b9f942ac",
   "metadata": {
    "tags": []
   },
   "outputs": [],
   "source": [
    "from sympy import symbols, Eq, solve, lambdify\n",
    "\n",
    "for i in range(1,numMonths):\n",
    "#for i in range(1,2):\n",
    "    \n",
    "    r0 = symbols('r0')\n",
    "    P_sumAD = 0\n",
    "    P_sumAD = -P(i) + AD[numMonths,i-1]*np.e**(-r0*deltat)*intermediateParams[numMonths,4] + AD[numMonths+1,i-1]*np.e**(-r0*deltat)*intermediateParams[numMonths,3] + AD[numMonths-1,i-1]*np.e**(-r0*deltat)*intermediateParams[numMonths,5]\n",
    "    \n",
    "    for j in range(i):\n",
    "        \n",
    "        Pd_down_iter = intermediateParams[numMonths + j,5]\n",
    "        Pm_down_iter = intermediateParams[numMonths + j,4]\n",
    "        Pu_down_iter = intermediateParams[numMonths + j,3]\n",
    "        \n",
    "        Pd_up_iter = intermediateParams[numMonths - j,5]\n",
    "        Pm_up_iter = intermediateParams[numMonths - j,4]\n",
    "        Pu_up_iter = intermediateParams[numMonths - j,3]\n",
    "        \n",
    "        #find one step forward Arrow-Debreu Prices\n",
    "        AD[numMonths - j - 1, i ] = AD[numMonths - j , i - 1 ]*Pd_up_iter*np.exp(-r[numMonths - j, i - 1]*deltat) + AD[numMonths - j - 1, i - 1 ]*Pm_up_iter*np.exp(-r[numMonths - j - 1, i - 1]*deltat) + AD[numMonths - j - 2, i - 1 ]*Pu_up_iter*np.exp(-r[numMonths - j - 2, i - 1]*deltat)\n",
    "        AD[numMonths, i ] = AD[numMonths + 1, i-1]*intermediateParams[numMonths,5]*np.exp(-r[numMonths + 1, i - 1]*deltat) + AD[numMonths, i-1]*intermediateParams[numMonths,4]*np.exp(-r[numMonths , i - 1]*deltat) + AD[numMonths +1, i-1]*intermediateParams[numMonths,3]*np.exp(-r[numMonths + 1, i - 1]*deltat)\n",
    "        AD[numMonths + j + 1, i ] = AD[numMonths + j , i - 1 ]*Pd_down_iter*np.exp(-r[numMonths + j, i - 1]*deltat) + AD[numMonths + j + 1, i - 1 ]*Pm_down_iter*np.exp(-r[numMonths + j + 1, i - 1]*deltat) + AD[numMonths + j + 2, i - 1 ]*Pu_down_iter*np.exp(-r[numMonths + j + 2, i - 1]*deltat)   \n",
    "        \n",
    "    #update r values for one step ahead\n",
    "    for j in range(i):\n",
    "        # if i-j == 1\n",
    "        if i-j == 1:\n",
    "            P_sumAD += AD[numMonths-j,i-1]*np.e**(-r0*np.e**(OU[numMonths-j,i-1])*deltat)*intermediateParams[numMonths-j,3]\n",
    "            P_sumAD += AD[numMonths+j,i-1]*np.e**(-r0*np.e**(OU[numMonths+j,i-1])*deltat)*intermediateParams[numMonths+j,5]\n",
    "\n",
    "        # if i-j == 2\n",
    "        if i-j == 2:\n",
    "            P_sumAD += AD[numMonths-j,i-1]*np.e**(-r0*np.e**(OU[numMonths-j-1,i-1])*deltat)*intermediateParams[numMonths-j,3]\n",
    "            P_sumAD += AD[numMonths+j,i-1]*np.e**(-r0*np.e**(OU[numMonths+j+1,i-1])*deltat)*intermediateParams[numMonths+j,5]\n",
    "\n",
    "            P_sumAD += AD[numMonths-j-1,i-1]*np.e**(-r0*np.e**(OU[numMonths-j-1,i-1])*deltat)*intermediateParams[numMonths-j-1,4]\n",
    "            P_sumAD += AD[numMonths+j+1,i-1]*np.e**(-r0*np.e**(OU[numMonths+j+1,i-1])*deltat)*intermediateParams[numMonths+j+1,4]\n",
    "\n",
    "        # if i-j == 3\n",
    "        if i-j == 3:\n",
    "            P_sumAD += AD[numMonths-j,i-1]*np.e**(-r0*np.e**(OU[numMonths-j-1,i-1])*deltat)*intermediateParams[numMonths-j,3]\n",
    "            P_sumAD += AD[numMonths+j,i-1]*np.e**(-r0*np.e**(OU[numMonths+j+1,i-1])*deltat)*intermediateParams[numMonths+j,5]\n",
    "\n",
    "            P_sumAD += AD[numMonths-j-1,i-1]*np.e**(-r0*np.e**(OU[numMonths-j-1,i-1])*deltat)*intermediateParams[numMonths-j-1,4]\n",
    "            P_sumAD += AD[numMonths+j+1,i-1]*np.e**(-r0*np.e**(OU[numMonths+j+1,i-1])*deltat)*intermediateParams[numMonths+j+1,4] \n",
    "\n",
    "            P_sumAD += AD[numMonths-j-2,i-1]*np.e**(-r0*np.e**(OU[numMonths-j-2,i-1])*deltat)*intermediateParams[numMonths-j-2,5]\n",
    "            P_sumAD += AD[numMonths+j+2,i-1]*np.e**(-r0*np.e**(OU[numMonths+j+2,i-1])*deltat)*intermediateParams[numMonths+j+2,3]\n",
    "      \n",
    "    eq1 = Eq(P_sumAD)\n",
    "    convert = lambdify('r0',P_sumAD)\n",
    "    sol_r = convert(0)\n",
    "    \n",
    "    #update ri(0)\n",
    "    r[numMonths, i] = sol_r                                              \n",
    "    #update r matrix based off ri(0) * exp(OUij)\n",
    "    for j in range(i):\n",
    "        r[numMonths + j + 1 , i ] = r[numMonths, i] * np.exp(OU[numMonths + j + 1, i])\n",
    "        r[numMonths - j - 1 , i ] = r[numMonths, i] * np.exp(OU[numMonths - j - 1, i])"
   ]
  },
  {
   "cell_type": "code",
   "execution_count": 482,
   "id": "c705cb7f-923d-4443-96b3-e44c3b47de85",
   "metadata": {},
   "outputs": [
    {
     "data": {
      "text/plain": [
       "array([[0, 0, 0, 0, 0, 0, 0, 0, 0, 0, 0, 0, 0, 0, 0, 0, 0, 0, 0, 0, 0, 0, 0, 0],\n",
       "       [0, 0, 0, 0, 0, 0, 0, 0, 0, 0, 0, 0, 0, 0, 0, 0, 0, 0, 0, 0, 0, 0, 0, -17.4],\n",
       "       [0, 0, 0, 0, 0, 0, 0, 0, 0, 0, 0, 0, 0, 0, 0, 0, 0, 0, 0, 0, 0, 0, -15.3, -15],\n",
       "       [0, 0, 0, 0, 0, 0, 0, 0, 0, 0, 0, 0, 0, 0, 0, 0, 0, 0, 0, 0, 0, -13.4, -13.1, -12.9],\n",
       "       [0, 0, 0, 0, 0, 0, 0, 0, 0, 0, 0, 0, 0, 0, 0, 0, 0, 0, 0, 0, -11.7, -11.5, -11.3, -11.1],\n",
       "       [0, 0, 0, 0, 0, 0, 0, 0, 0, 0, 0, 0, 0, 0, 0, 0, 0, 0, 0, -10.3, -10.1, -9.93, -9.74, -9.56],\n",
       "       [0, 0, 0, 0, 0, 0, 0, 0, 0, 0, 0, 0, 0, 0, 0, 0, 0, 0, -9, -8.85, -8.7, -8.55, -8.39, -8.23],\n",
       "       [0, 0, 0, 0, 0, 0, 0, 0, 0, 0, 0, 0, 0, 0, 0, 0, 0, -7.87, -7.75, -7.62, -7.49, -7.36, -7.22, -7.09],\n",
       "       [0, 0, 0, 0, 0, 0, 0, 0, 0, 0, 0, 0, 0, 0, 0, 0, -6.88, -6.78, -6.67, -6.56, -6.45, -6.34, -6.22, -6.1],\n",
       "       [0, 0, 0, 0, 0, 0, 0, 0, 0, 0, 0, 0, 0, 0, 0, -6.01, -5.93, -5.84, -5.74, -5.65, -5.55, -5.45, -5.35, -5.25],\n",
       "       [0, 0, 0, 0, 0, 0, 0, 0, 0, 0, 0, 0, 0, 0, -5.25, -5.18, -5.1, -5.03, -4.95, -4.86, -4.78, -4.7, -4.61, -4.52],\n",
       "       [0, 0, 0, 0, 0, 0, 0, 0, 0, 0, 0, 0, 0, -4.57, -4.52, -4.46, -4.39, -4.33, -4.26, -4.19, -4.12, -4.04, -3.97, -3.89],\n",
       "       [0, 0, 0, 0, 0, 0, 0, 0, 0, 0, 0, 0, -3.98, -3.94, -3.89, -3.84, -3.78, -3.73, -3.67, -3.61, -3.54, -3.48, -3.42, -3.35],\n",
       "       [0, 0, 0, 0, 0, 0, 0, 0, 0, 0, 0, -3.46, -3.43, -3.39, -3.35, -3.3, -3.26, -3.21, -3.16, -3.1, -3.05, -3, -2.94, -2.89],\n",
       "       [0, 0, 0, 0, 0, 0, 0, 0, 0, 0, -3.01, -2.98, -2.95, -2.92, -2.88, -2.84, -2.8, -2.76, -2.72, -2.67, -2.63, -2.58, -2.53, -2.49],\n",
       "       [0, 0, 0, 0, 0, 0, 0, 0, 0, -2.61, -2.59, -2.57, -2.54, -2.51, -2.48, -2.45, -2.41, -2.38, -2.34, -2.3, -2.26, -2.22, -2.18, -2.14],\n",
       "       [0, 0, 0, 0, 0, 0, 0, 0, -2.25, -2.25, -2.23, -2.21, -2.19, -2.16, -2.14, -2.11, -2.08, -2.05, -2.01, -1.98, -1.95, -1.91, -1.88, -1.84],\n",
       "       [0, 0, 0, 0, 0, 0, 0, -1.94, -1.94, -1.93, -1.92, -1.9, -1.88, -1.86, -1.84, -1.82, -1.79, -1.76, -1.73, -1.71, -1.68, -1.65, -1.62, -1.59],\n",
       "       [0, 0, 0, 0, 0, 0, -1.64, -1.67, -1.67, -1.66, -1.65, -1.64, -1.62, -1.6, -1.58, -1.56, -1.54, -1.52, -1.49, -1.47, -1.44, -1.42, -1.39, -1.37],\n",
       "       [0, 0, 0, 0, 0, -1.31, -1.41, -1.43, -1.44, -1.43, -1.42, -1.41, -1.4, -1.38, -1.36, -1.35, -1.33, -1.31, -1.29, -1.26, -1.24, -1.22, -1.2, -1.18],\n",
       "       [0, 0, 0, 0, -0.826, -1.13, -1.21, -1.24, -1.24, -1.23, -1.23, -1.22, -1.2, -1.19, -1.17, -1.16, -1.14, -1.12, -1.11, -1.09, -1.07, -1.05, -1.03, -1.01],\n",
       "       [0, 0, 0, 0.0134, -0.711, -0.97, -1.04, -1.06, -1.07, -1.06, -1.06, -1.05, -1.04, -1.02, -1.01, -0.997, -0.983, -0.968, -0.953, -0.937, -0.921, -0.905, -0.888, -0.872],\n",
       "       [0, 0, 0.00576, 0.0116, -0.612, -0.835, -0.899, -0.916, -0.918, -0.915, -0.909, -0.901, -0.892, -0.881, -0.87, -0.859, -0.847, -0.834, -0.821, -0.807, -0.793, -0.779, -0.765, -0.75],\n",
       "       [0, 0.00579, 0.00496, 0.00995, -0.527, -0.719, -0.774, -0.788, -0.79, -0.787, -0.782, -0.776, -0.768, -0.759, -0.749, -0.739, -0.729, -0.718, -0.707, -0.695, -0.683, -0.671, -0.659, -0.646],\n",
       "       [0.06, 0.00499, 0.00427, 0.00857, -0.454, -0.619, -0.666, -0.679, -0.68, -0.678, -0.674, -0.668, -0.661, -0.653, -0.645, -0.637, -0.628, -0.618, -0.608, -0.598, -0.588, -0.578, -0.567, -0.556],\n",
       "       [0, 0.00429, 0.00368, 0.00738, -0.391, -0.533, -0.574, -0.584, -0.586, -0.584, -0.58, -0.575, -0.569, -0.563, -0.556, -0.548, -0.54, -0.532, -0.524, -0.515, -0.506, -0.497, -0.488, -0.479],\n",
       "       [0, 0, 0.00317, 0.00635, -0.336, -0.459, -0.494, -0.503, -0.504, -0.503, -0.499, -0.495, -0.49, -0.484, -0.478, -0.472, -0.465, -0.458, -0.451, -0.443, -0.436, -0.428, -0.42, -0.412],\n",
       "       [0, 0, 0, 0.00547, -0.29, -0.395, -0.425, -0.433, -0.434, -0.433, -0.43, -0.426, -0.422, -0.417, -0.412, -0.406, -0.4, -0.394, -0.388, -0.382, -0.375, -0.369, -0.362, -0.355],\n",
       "       [0, 0, 0, 0, -0.249, -0.34, -0.366, -0.373, -0.374, -0.373, -0.37, -0.367, -0.363, -0.359, -0.355, -0.35, -0.345, -0.34, -0.334, -0.329, -0.323, -0.317, -0.312, -0.306],\n",
       "       [0, 0, 0, 0, 0, -0.293, -0.315, -0.321, -0.322, -0.321, -0.319, -0.316, -0.313, -0.309, -0.305, -0.301, -0.297, -0.292, -0.288, -0.283, -0.278, -0.273, -0.268, -0.263],\n",
       "       [0, 0, 0, 0, 0, 0, -0.271, -0.276, -0.277, -0.276, -0.274, -0.272, -0.269, -0.266, -0.263, -0.259, -0.256, -0.252, -0.248, -0.244, -0.24, -0.235, -0.231, -0.227],\n",
       "       [0, 0, 0, 0, 0, 0, 0, -0.238, -0.239, -0.238, -0.236, -0.234, -0.232, -0.229, -0.226, -0.223, -0.22, -0.217, -0.213, -0.21, -0.206, -0.203, -0.199, -0.195],\n",
       "       [0, 0, 0, 0, 0, 0, 0, 0, -0.205, -0.205, -0.203, -0.202, -0.2, -0.197, -0.195, -0.192, -0.189, -0.187, -0.184, -0.181, -0.178, -0.174, -0.171, -0.168],\n",
       "       [0, 0, 0, 0, 0, 0, 0, 0, 0, -0.176, -0.175, -0.174, -0.172, -0.17, -0.168, -0.165, -0.163, -0.161, -0.158, -0.156, -0.153, -0.15, -0.147, -0.145],\n",
       "       [0, 0, 0, 0, 0, 0, 0, 0, 0, 0, -0.151, -0.149, -0.148, -0.146, -0.144, -0.142, -0.14, -0.138, -0.136, -0.134, -0.132, -0.129, -0.127, -0.125],\n",
       "       [0, 0, 0, 0, 0, 0, 0, 0, 0, 0, 0, -0.129, -0.127, -0.126, -0.124, -0.123, -0.121, -0.119, -0.117, -0.115, -0.113, -0.111, -0.109, -0.107],\n",
       "       [0, 0, 0, 0, 0, 0, 0, 0, 0, 0, 0, 0, -0.11, -0.108, -0.107, -0.106, -0.104, -0.103, -0.101, -0.0993, -0.0976, -0.0958, -0.0941, -0.0923],\n",
       "       [0, 0, 0, 0, 0, 0, 0, 0, 0, 0, 0, 0, 0, -0.0933, -0.0922, -0.0909, -0.0896, -0.0883, -0.0869, -0.0855, -0.084, -0.0825, -0.081, -0.0795],\n",
       "       [0, 0, 0, 0, 0, 0, 0, 0, 0, 0, 0, 0, 0, 0, -0.0794, -0.0783, -0.0772, -0.076, -0.0748, -0.0736, -0.0723, -0.071, -0.0697, -0.0684],\n",
       "       [0, 0, 0, 0, 0, 0, 0, 0, 0, 0, 0, 0, 0, 0, 0, -0.0674, -0.0664, -0.0654, -0.0644, -0.0634, -0.0623, -0.0612, -0.06, -0.0589],\n",
       "       [0, 0, 0, 0, 0, 0, 0, 0, 0, 0, 0, 0, 0, 0, 0, 0, -0.0572, -0.0563, -0.0555, -0.0545, -0.0536, -0.0527, -0.0517, -0.0507],\n",
       "       [0, 0, 0, 0, 0, 0, 0, 0, 0, 0, 0, 0, 0, 0, 0, 0, 0, -0.0485, -0.0477, -0.047, -0.0462, -0.0453, -0.0445, -0.0437],\n",
       "       [0, 0, 0, 0, 0, 0, 0, 0, 0, 0, 0, 0, 0, 0, 0, 0, 0, 0, -0.0411, -0.0404, -0.0397, -0.039, -0.0383, -0.0376],\n",
       "       [0, 0, 0, 0, 0, 0, 0, 0, 0, 0, 0, 0, 0, 0, 0, 0, 0, 0, 0, -0.0348, -0.0342, -0.0336, -0.033, -0.0324],\n",
       "       [0, 0, 0, 0, 0, 0, 0, 0, 0, 0, 0, 0, 0, 0, 0, 0, 0, 0, 0, 0, -0.0295, -0.0289, -0.0284, -0.0279],\n",
       "       [0, 0, 0, 0, 0, 0, 0, 0, 0, 0, 0, 0, 0, 0, 0, 0, 0, 0, 0, 0, 0, -0.0249, -0.0245, -0.024],\n",
       "       [0, 0, 0, 0, 0, 0, 0, 0, 0, 0, 0, 0, 0, 0, 0, 0, 0, 0, 0, 0, 0, 0, -0.0211, -0.0207],\n",
       "       [0, 0, 0, 0, 0, 0, 0, 0, 0, 0, 0, 0, 0, 0, 0, 0, 0, 0, 0, 0, 0, 0, 0, -0.0178],\n",
       "       [0, 0, 0, 0, 0, 0, 0, 0, 0, 0, 0, 0, 0, 0, 0, 0, 0, 0, 0, 0, 0, 0, 0, 0]])"
      ]
     },
     "execution_count": 482,
     "metadata": {},
     "output_type": "execute_result"
    }
   ],
   "source": [
    "r"
   ]
  },
  {
   "cell_type": "markdown",
   "id": "5f69464b-cb58-4dc4-9183-84131340d7b4",
   "metadata": {},
   "source": [
    "## 2.b ##"
   ]
  },
  {
   "cell_type": "code",
   "execution_count": 483,
   "id": "ba19cbcf-d597-4a36-ae57-546b22dc5cec",
   "metadata": {},
   "outputs": [],
   "source": [
    "from sympy import symbols , Eq, solve, diff, sqrt, simplify, evalf, log, exp\n",
    "k = symbols('k')\n",
    "T = symbols('T')\n",
    "t = symbols('t')\n",
    "h = sqrt(k**2 + 2*s**2)\n",
    "o = symbols('o')\n",
    "s = symbols('s')\n",
    "r = symbols('r')"
   ]
  },
  {
   "cell_type": "code",
   "execution_count": 484,
   "id": "8a8134ce-5772-4e89-8e6a-03b8cadc56aa",
   "metadata": {},
   "outputs": [],
   "source": [
    "A = ((2*h * exp((T-t)*(k+h)/2))/(2*h + (k+h)*(exp((T-t)*h)-1)))**(2*k*o/(s**2))\n",
    "A_prime = diff(A,t)"
   ]
  },
  {
   "cell_type": "code",
   "execution_count": 485,
   "id": "43d7645d-621a-427c-9eca-936307ec1abb",
   "metadata": {},
   "outputs": [
    {
     "data": {
      "text/latex": [
       "$\\displaystyle \\left(\\frac{2 \\sqrt{k^{2} + 2 s^{2}} e^{\\frac{\\left(T - t\\right) \\left(k + \\sqrt{k^{2} + 2 s^{2}}\\right)}{2}}}{\\left(k + \\sqrt{k^{2} + 2 s^{2}}\\right) \\left(e^{\\left(T - t\\right) \\sqrt{k^{2} + 2 s^{2}}} - 1\\right) + 2 \\sqrt{k^{2} + 2 s^{2}}}\\right)^{\\frac{2 k o}{s^{2}}}$"
      ],
      "text/plain": [
       "(2*sqrt(k**2 + 2*s**2)*exp((T - t)*(k + sqrt(k**2 + 2*s**2))/2)/((k + sqrt(k**2 + 2*s**2))*(exp((T - t)*sqrt(k**2 + 2*s**2)) - 1) + 2*sqrt(k**2 + 2*s**2)))**(2*k*o/s**2)"
      ]
     },
     "execution_count": 485,
     "metadata": {},
     "output_type": "execute_result"
    }
   ],
   "source": [
    "A"
   ]
  },
  {
   "cell_type": "code",
   "execution_count": 486,
   "id": "22ff124c-d868-402e-a777-ba3bcc4ed3b1",
   "metadata": {},
   "outputs": [
    {
     "data": {
      "text/latex": [
       "$\\displaystyle \\frac{k o \\left(\\frac{2 \\sqrt{k^{2} + 2 s^{2}} e^{\\frac{\\left(T - t\\right) \\left(k + \\sqrt{k^{2} + 2 s^{2}}\\right)}{2}}}{\\left(k + \\sqrt{k^{2} + 2 s^{2}}\\right) \\left(e^{\\left(T - t\\right) \\sqrt{k^{2} + 2 s^{2}}} - 1\\right) + 2 \\sqrt{k^{2} + 2 s^{2}}}\\right)^{\\frac{2 k o}{s^{2}}} \\left(\\left(k + \\sqrt{k^{2} + 2 s^{2}}\\right) \\left(e^{\\left(T - t\\right) \\sqrt{k^{2} + 2 s^{2}}} - 1\\right) + 2 \\sqrt{k^{2} + 2 s^{2}}\\right) \\left(\\frac{2 \\left(- \\frac{k}{2} - \\frac{\\sqrt{k^{2} + 2 s^{2}}}{2}\\right) \\sqrt{k^{2} + 2 s^{2}} e^{\\frac{\\left(T - t\\right) \\left(k + \\sqrt{k^{2} + 2 s^{2}}\\right)}{2}}}{\\left(k + \\sqrt{k^{2} + 2 s^{2}}\\right) \\left(e^{\\left(T - t\\right) \\sqrt{k^{2} + 2 s^{2}}} - 1\\right) + 2 \\sqrt{k^{2} + 2 s^{2}}} + \\frac{2 \\left(k + \\sqrt{k^{2} + 2 s^{2}}\\right) \\left(k^{2} + 2 s^{2}\\right) e^{\\frac{\\left(T - t\\right) \\left(k + \\sqrt{k^{2} + 2 s^{2}}\\right)}{2}} e^{\\left(T - t\\right) \\sqrt{k^{2} + 2 s^{2}}}}{\\left(\\left(k + \\sqrt{k^{2} + 2 s^{2}}\\right) \\left(e^{\\left(T - t\\right) \\sqrt{k^{2} + 2 s^{2}}} - 1\\right) + 2 \\sqrt{k^{2} + 2 s^{2}}\\right)^{2}}\\right) e^{- \\frac{\\left(T - t\\right) \\left(k + \\sqrt{k^{2} + 2 s^{2}}\\right)}{2}}}{s^{2} \\sqrt{k^{2} + 2 s^{2}}}$"
      ],
      "text/plain": [
       "k*o*(2*sqrt(k**2 + 2*s**2)*exp((T - t)*(k + sqrt(k**2 + 2*s**2))/2)/((k + sqrt(k**2 + 2*s**2))*(exp((T - t)*sqrt(k**2 + 2*s**2)) - 1) + 2*sqrt(k**2 + 2*s**2)))**(2*k*o/s**2)*((k + sqrt(k**2 + 2*s**2))*(exp((T - t)*sqrt(k**2 + 2*s**2)) - 1) + 2*sqrt(k**2 + 2*s**2))*(2*(-k/2 - sqrt(k**2 + 2*s**2)/2)*sqrt(k**2 + 2*s**2)*exp((T - t)*(k + sqrt(k**2 + 2*s**2))/2)/((k + sqrt(k**2 + 2*s**2))*(exp((T - t)*sqrt(k**2 + 2*s**2)) - 1) + 2*sqrt(k**2 + 2*s**2)) + 2*(k + sqrt(k**2 + 2*s**2))*(k**2 + 2*s**2)*exp((T - t)*(k + sqrt(k**2 + 2*s**2))/2)*exp((T - t)*sqrt(k**2 + 2*s**2))/((k + sqrt(k**2 + 2*s**2))*(exp((T - t)*sqrt(k**2 + 2*s**2)) - 1) + 2*sqrt(k**2 + 2*s**2))**2)*exp(-(T - t)*(k + sqrt(k**2 + 2*s**2))/2)/(s**2*sqrt(k**2 + 2*s**2))"
      ]
     },
     "execution_count": 486,
     "metadata": {},
     "output_type": "execute_result"
    }
   ],
   "source": [
    "(A_prime)"
   ]
  },
  {
   "cell_type": "code",
   "execution_count": 487,
   "id": "81d5ceed-2463-4181-bb14-c193c7c13746",
   "metadata": {},
   "outputs": [],
   "source": [
    "B = (2 * (exp((T-t)*h)-1)) / (2*h + (k + h)*(exp((T-t)*h) - 1))\n",
    "B_prime = diff(B,t)"
   ]
  },
  {
   "cell_type": "code",
   "execution_count": 488,
   "id": "eed4b904-becf-467e-97fd-dea848e4672b",
   "metadata": {},
   "outputs": [
    {
     "data": {
      "text/latex": [
       "$\\displaystyle \\frac{2 e^{\\left(T - t\\right) \\sqrt{k^{2} + 2 s^{2}}} - 2}{\\left(k + \\sqrt{k^{2} + 2 s^{2}}\\right) \\left(e^{\\left(T - t\\right) \\sqrt{k^{2} + 2 s^{2}}} - 1\\right) + 2 \\sqrt{k^{2} + 2 s^{2}}}$"
      ],
      "text/plain": [
       "(2*exp((T - t)*sqrt(k**2 + 2*s**2)) - 2)/((k + sqrt(k**2 + 2*s**2))*(exp((T - t)*sqrt(k**2 + 2*s**2)) - 1) + 2*sqrt(k**2 + 2*s**2))"
      ]
     },
     "execution_count": 488,
     "metadata": {},
     "output_type": "execute_result"
    }
   ],
   "source": [
    "B"
   ]
  },
  {
   "cell_type": "code",
   "execution_count": 489,
   "id": "1bf78902-7273-4312-a24d-ade3817eb268",
   "metadata": {},
   "outputs": [
    {
     "data": {
      "text/latex": [
       "$\\displaystyle \\frac{\\left(k + \\sqrt{k^{2} + 2 s^{2}}\\right) \\sqrt{k^{2} + 2 s^{2}} \\left(2 e^{\\left(T - t\\right) \\sqrt{k^{2} + 2 s^{2}}} - 2\\right) e^{\\left(T - t\\right) \\sqrt{k^{2} + 2 s^{2}}}}{\\left(\\left(k + \\sqrt{k^{2} + 2 s^{2}}\\right) \\left(e^{\\left(T - t\\right) \\sqrt{k^{2} + 2 s^{2}}} - 1\\right) + 2 \\sqrt{k^{2} + 2 s^{2}}\\right)^{2}} - \\frac{2 \\sqrt{k^{2} + 2 s^{2}} e^{\\left(T - t\\right) \\sqrt{k^{2} + 2 s^{2}}}}{\\left(k + \\sqrt{k^{2} + 2 s^{2}}\\right) \\left(e^{\\left(T - t\\right) \\sqrt{k^{2} + 2 s^{2}}} - 1\\right) + 2 \\sqrt{k^{2} + 2 s^{2}}}$"
      ],
      "text/plain": [
       "(k + sqrt(k**2 + 2*s**2))*sqrt(k**2 + 2*s**2)*(2*exp((T - t)*sqrt(k**2 + 2*s**2)) - 2)*exp((T - t)*sqrt(k**2 + 2*s**2))/((k + sqrt(k**2 + 2*s**2))*(exp((T - t)*sqrt(k**2 + 2*s**2)) - 1) + 2*sqrt(k**2 + 2*s**2))**2 - 2*sqrt(k**2 + 2*s**2)*exp((T - t)*sqrt(k**2 + 2*s**2))/((k + sqrt(k**2 + 2*s**2))*(exp((T - t)*sqrt(k**2 + 2*s**2)) - 1) + 2*sqrt(k**2 + 2*s**2))"
      ]
     },
     "execution_count": 489,
     "metadata": {},
     "output_type": "execute_result"
    }
   ],
   "source": [
    "B_prime"
   ]
  },
  {
   "cell_type": "code",
   "execution_count": 501,
   "id": "d1c11ff1-7208-4094-b571-812fa77bac11",
   "metadata": {},
   "outputs": [
    {
     "name": "stdout",
     "output_type": "stream",
     "text": [
      "True\n",
      "True\n"
     ]
    }
   ],
   "source": [
    "print(simplify(A_prime - k*o*B*A) == 0)\n",
    "print(simplify(B_prime + 1 - (1/2*(s**2)*B**2 + k*B))==0)"
   ]
  },
  {
   "cell_type": "code",
   "execution_count": 502,
   "id": "197e8c95-91ab-4c53-b7af-568d9d16aa26",
   "metadata": {},
   "outputs": [
    {
     "name": "stdout",
     "output_type": "stream",
     "text": [
      "1.0\n"
     ]
    }
   ],
   "source": [
    "#terminal condition on A\n",
    "convert = lambdify( ['k','T','t','o','s','r'], A)\n",
    "sol_r = convert(1,30,30,0.03,0.1,0.01)\n",
    "print(sol_r)"
   ]
  },
  {
   "cell_type": "code",
   "execution_count": 503,
   "id": "5aee487a-ef5d-44eb-8fae-26300c8deb5f",
   "metadata": {},
   "outputs": [
    {
     "name": "stdout",
     "output_type": "stream",
     "text": [
      "0.0\n"
     ]
    }
   ],
   "source": [
    "#terminal condition on B\n",
    "convert = lambdify( ['k','T','t','o','s','r'], -B_prime + 1/2*(s**2)*(B**2) + k*B - 1)\n",
    "sol_r = convert(1,0,0,0.03,0.1,0.01)\n",
    "print(sol_r)"
   ]
  },
  {
   "cell_type": "code",
   "execution_count": 504,
   "id": "12bffcdf-56c7-40df-85ef-4973d14a3666",
   "metadata": {},
   "outputs": [
    {
     "data": {
      "text/latex": [
       "$\\displaystyle \\log{\\left(\\left(\\frac{2 \\sqrt{k^{2} + 2 s^{2}} e^{\\frac{\\left(T - t\\right) \\left(k + \\sqrt{k^{2} + 2 s^{2}}\\right)}{2}}}{\\left(k + \\sqrt{k^{2} + 2 s^{2}}\\right) \\left(e^{\\left(T - t\\right) \\sqrt{k^{2} + 2 s^{2}}} - 1\\right) + 2 \\sqrt{k^{2} + 2 s^{2}}}\\right)^{\\frac{2 k o}{s^{2}}} e^{- \\frac{r \\left(2 e^{\\left(T - t\\right) \\sqrt{k^{2} + 2 s^{2}}} - 2\\right)}{\\left(k + \\sqrt{k^{2} + 2 s^{2}}\\right) \\left(e^{\\left(T - t\\right) \\sqrt{k^{2} + 2 s^{2}}} - 1\\right) + 2 \\sqrt{k^{2} + 2 s^{2}}}} \\right)}$"
      ],
      "text/plain": [
       "log((2*sqrt(k**2 + 2*s**2)*exp((T - t)*(k + sqrt(k**2 + 2*s**2))/2)/((k + sqrt(k**2 + 2*s**2))*(exp((T - t)*sqrt(k**2 + 2*s**2)) - 1) + 2*sqrt(k**2 + 2*s**2)))**(2*k*o/s**2)*exp(-r*(2*exp((T - t)*sqrt(k**2 + 2*s**2)) - 2)/((k + sqrt(k**2 + 2*s**2))*(exp((T - t)*sqrt(k**2 + 2*s**2)) - 1) + 2*sqrt(k**2 + 2*s**2))))"
      ]
     },
     "execution_count": 504,
     "metadata": {},
     "output_type": "execute_result"
    }
   ],
   "source": [
    "forwardRate = log(A*exp(-B*r))\n",
    "forwardRate"
   ]
  },
  {
   "cell_type": "code",
   "execution_count": 505,
   "id": "75b8f007-6603-47aa-8559-afd22bbee8cb",
   "metadata": {},
   "outputs": [],
   "source": [
    "instantFwdRate = -diff(forwardRate,T)\n",
    "simplify(instantFwdRate)\n",
    "\n",
    "instantFwdRateZero = instantFwdRate.subs('t',0)"
   ]
  },
  {
   "cell_type": "code",
   "execution_count": 506,
   "id": "81294451-9604-484b-8cfc-d94ecd04202e",
   "metadata": {},
   "outputs": [],
   "source": [
    "convert = lambdify( ['k','T','o','s','r'], instantFwdRateZero)\n",
    "\n",
    "storedValues = []\n",
    "x = []\n",
    "for i in range(31):\n",
    "    x.append(i)\n",
    "    storedValues.append(convert(1,i,0.03,0.1,0.01))"
   ]
  },
  {
   "cell_type": "code",
   "execution_count": 507,
   "id": "261dfda8-38ee-44ae-b305-ca1142eb36f4",
   "metadata": {},
   "outputs": [],
   "source": [
    "import seaborn as sns"
   ]
  },
  {
   "cell_type": "code",
   "execution_count": 508,
   "id": "8592ff68-4bad-41b3-8a09-f5a27bef4fd9",
   "metadata": {},
   "outputs": [
    {
     "name": "stderr",
     "output_type": "stream",
     "text": [
      "/Users/sethkelley/opt/anaconda3/lib/python3.9/site-packages/seaborn/_decorators.py:36: FutureWarning: Pass the following variables as keyword args: x, y. From version 0.12, the only valid positional argument will be `data`, and passing other arguments without an explicit keyword will result in an error or misinterpretation.\n",
      "  warnings.warn(\n"
     ]
    },
    {
     "data": {
      "image/png": "[encoded data removed]",
      "text/plain": [
       "<Figure size 432x288 with 1 Axes>"
      ]
     },
     "metadata": {
      "needs_background": "light"
     },
     "output_type": "display_data"
    }
   ],
   "source": [
    "ax = sns.lineplot(x,storedValues)\n",
    "ax.set(xlabel = 'Time', ylabel = 'Price of instantaneous forward rate',title = \"Price of Instantaneous Fwd Rate vs. Time\")\n",
    "ax.grid()"
   ]
  },
  {
   "cell_type": "markdown",
   "id": "181553f1-706f-4355-acf1-ddba3e5fa0e6",
   "metadata": {},
   "source": [
    "## 2.c"
   ]
  },
  {
   "cell_type": "code",
   "execution_count": 720,
   "id": "7f9ca589-98bd-43c5-9fc6-8a939ede1147",
   "metadata": {},
   "outputs": [],
   "source": [
    "T = 30\n",
    "N = 1000\n",
    "terminalA = 1\n",
    "terminalB = 0\n",
    "dt = 30/1000\n",
    "k = 1 \n",
    "o = 0.03\n",
    "s = 0.1"
   ]
  },
  {
   "cell_type": "code",
   "execution_count": 721,
   "id": "69534775-3723-4517-9b9b-570f0786d55d",
   "metadata": {},
   "outputs": [
    {
     "name": "stdout",
     "output_type": "stream",
     "text": [
      "The estimated value of A(0,T) is:  0.421\n",
      "The estimated value of B(0,T) is:  0.995\n"
     ]
    }
   ],
   "source": [
    "A = []\n",
    "B = []\n",
    "\n",
    "A.append(terminalA)\n",
    "B.append(terminalB)\n",
    "\n",
    "for i in range(N):\n",
    "    \n",
    "    insertA = A[0] - dt*(k*o*A[0]*B[0])\n",
    "    insertB = B[0] + dt - (1/2*(s**2)*(B[0]**2)+k*B[0])*dt\n",
    "    \n",
    "    A.insert(0,insertA)\n",
    "    B.insert(0,insertB)\n",
    "    \n",
    "print(\"The estimated value of A(0,T) is: \" ,np.round(A[0],3)) \n",
    "print(\"The estimated value of B(0,T) is: \" ,np.round(B[0],3))  "
   ]
  },
  {
   "cell_type": "code",
   "execution_count": 667,
   "id": "92dcf86a-bf16-45da-a987-2170cdae0539",
   "metadata": {},
   "outputs": [],
   "source": [
    "Asym = ((2*h * exp((T-t)*(k+h)/2))/(2*h + (k+h)*(exp((T-t)*h)-1)))**(2*k*o/(s**2))\n",
    "Bsym = (2 * (exp((T-t)*h)-1)) / (2*h + (k + h)*(exp((T-t)*h) - 1))"
   ]
  },
  {
   "cell_type": "code",
   "execution_count": 668,
   "id": "3ea54d7d-e360-40c1-b42e-b293c71e12e1",
   "metadata": {},
   "outputs": [
    {
     "name": "stdout",
     "output_type": "stream",
     "text": [
      "The actual value of A(o,T) is:  0.421\n"
     ]
    }
   ],
   "source": [
    "#terminal condition on A\n",
    "convert = lambdify( ['k','T','t','o','s','r'], Asym)\n",
    "A_zero = convert(1,30,0,0.03,0.1,0.01)\n",
    "print(\"The actual value of A(o,T) is: \",np.round(A_zero,3))"
   ]
  },
  {
   "cell_type": "code",
   "execution_count": 669,
   "id": "cff35e7a-5e06-427a-a678-5e6fb754d058",
   "metadata": {},
   "outputs": [
    {
     "name": "stdout",
     "output_type": "stream",
     "text": [
      "The actual value of B(o,T) is:  0.995\n"
     ]
    }
   ],
   "source": [
    "#terminal condition on B\n",
    "convert = lambdify( ['k','T','t','o','s','r'], Bsym)\n",
    "B_zero = convert(1,30,0,0.03,0.1,0.01)\n",
    "print(\"The actual value of B(o,T) is: \",np.round(B_zero,3))"
   ]
  },
  {
   "cell_type": "code",
   "execution_count": 670,
   "id": "1eb03ac7-1042-4005-9dfd-709628804450",
   "metadata": {},
   "outputs": [
    {
     "name": "stdout",
     "output_type": "stream",
     "text": [
      "The error on A is:  0.00038023432859054894\n",
      "The error on A is:  2.5215874477736136e-14\n"
     ]
    }
   ],
   "source": [
    "print(\"The error on A is: \",np.abs(A_zero-A[0])/A_zero)\n",
    "print(\"The error on A is: \",np.abs(B_zero-B[0])/B_zero)"
   ]
  },
  {
   "cell_type": "markdown",
   "id": "1ea527cf-2929-4cd0-8dab-f66ab2e5bfb4",
   "metadata": {
    "tags": []
   },
   "source": [
    "## 2.d"
   ]
  },
  {
   "cell_type": "code",
   "execution_count": 671,
   "id": "7beef4d5-cdb8-4441-af87-eac4b0bb2fff",
   "metadata": {},
   "outputs": [],
   "source": [
    "T = 30\n",
    "N = 1000\n",
    "terminalA = 1\n",
    "terminalB = 0\n",
    "dt = 30/1000\n",
    "k = 1 \n",
    "o = 0.03\n",
    "s = 0.1"
   ]
  },
  {
   "cell_type": "code",
   "execution_count": 672,
   "id": "d7a38a3f-3b8e-408e-97df-f061ad77a8ff",
   "metadata": {},
   "outputs": [
    {
     "name": "stdout",
     "output_type": "stream",
     "text": [
      "The estimated value of A(0,T) is:  0.421\n",
      "The estimated value of B(0,T) is:  0.995\n"
     ]
    }
   ],
   "source": [
    "A = []\n",
    "B = []\n",
    "\n",
    "A.append(terminalA)\n",
    "B.append(terminalB)\n",
    "\n",
    "for i in range(N):\n",
    "    \n",
    "    insertB = (-(1 + k*dt) + np.sqrt((1 + k*dt)**2 + 4*(1/2 * dt * (s**2))*(B[0]+dt)))/(dt*(s**2))\n",
    "    insertA = A[0]/(1 + dt*k*o*insertB)\n",
    "    \n",
    "    A.insert(0,insertA)\n",
    "    B.insert(0,insertB)\n",
    "    \n",
    "print(\"The estimated value of A(0,T) is: \" ,np.round(A[0],3)) \n",
    "print(\"The estimated value of B(0,T) is: \" ,np.round(B[0],3))  "
   ]
  },
  {
   "cell_type": "code",
   "execution_count": 673,
   "id": "aab9054c-3d75-499b-8907-3b9d821e1deb",
   "metadata": {},
   "outputs": [
    {
     "name": "stdout",
     "output_type": "stream",
     "text": [
      "The error on A is:  0.0003797631052428798\n",
      "The error on A is:  1.4015005349658912e-11\n"
     ]
    }
   ],
   "source": [
    "print(\"The error on A is: \",np.abs(A_zero-A[0])/A_zero)\n",
    "print(\"The error on A is: \",np.abs(B_zero-B[0])/B_zero)"
   ]
  },
  {
   "cell_type": "markdown",
   "id": "8627ab25-4176-459a-bc5b-020045a80681",
   "metadata": {
    "tags": []
   },
   "source": [
    "## 2.e"
   ]
  },
  {
   "cell_type": "code",
   "execution_count": null,
   "id": "ff87fb6e-fbbc-4f76-8e1b-ae9d5d7a95f9",
   "metadata": {},
   "outputs": [],
   "source": []
  },
  {
   "cell_type": "code",
   "execution_count": 791,
   "id": "514857a9-9c2b-40e1-894a-1221b4f1ca11",
   "metadata": {},
   "outputs": [],
   "source": [
    "T = 30\n",
    "k = 12\n",
    "terminalA = 1\n",
    "terminalB = 0\n",
    "o = 0.03\n",
    "k=1\n",
    "s = 0.1"
   ]
  },
  {
   "cell_type": "code",
   "execution_count": 792,
   "id": "1ca26f2e-437d-4a74-86d4-8e480ab97d89",
   "metadata": {},
   "outputs": [],
   "source": [
    "Ak = []\n",
    "Bk = []\n",
    "Akval = []\n",
    "Bkval = []\n",
    "\n",
    "for j in range(1,16):\n",
    "    A = []\n",
    "    B = []\n",
    "\n",
    "    A.append(terminalA)\n",
    "    B.append(terminalB)\n",
    "    \n",
    "    insertA = 0 \n",
    "    insertB = 0\n",
    "    \n",
    "    N = 2**j\n",
    "    dt = T/N\n",
    "\n",
    "    for i in range(N):\n",
    "        insertA = A[0] - dt*(k*o*A[0]*B[0])\n",
    "        insertB = B[0] + dt - (1/2*(s**2)*(B[0]**2)+k*B[0])*dt\n",
    "\n",
    "        A.insert(0,insertA)\n",
    "        B.insert(0,insertB)\n",
    "        \n",
    "    Akval.append(A[0])\n",
    "    Bkval.append(B[0])\n",
    "    Ak.append(\"for k = {}, A[0,T] is {}\".format(j,np.round(A[0],5)))\n",
    "    Bk.append(\"for k = {}, B[0,T] is {}\".format(j,np.round(B[0],5)))"
   ]
  },
  {
   "cell_type": "code",
   "execution_count": 793,
   "id": "c4d3760a-7762-43f2-a302-2760580bb3cc",
   "metadata": {},
   "outputs": [
    {
     "data": {
      "text/plain": [
       "['for k = 1, A[0,T] is -5.75',\n",
       " 'for k = 2, A[0,T] is 356.70171',\n",
       " 'for k = 3, A[0,T] is 2379830.05181',\n",
       " 'for k = 4, A[0,T] is 0.40559',\n",
       " 'for k = 5, A[0,T] is 0.41554',\n",
       " 'for k = 6, A[0,T] is 0.41814',\n",
       " 'for k = 7, A[0,T] is 0.41941',\n",
       " 'for k = 8, A[0,T] is 0.42004',\n",
       " 'for k = 9, A[0,T] is 0.42035',\n",
       " 'for k = 10, A[0,T] is 0.42051',\n",
       " 'for k = 11, A[0,T] is 0.42059',\n",
       " 'for k = 12, A[0,T] is 0.42063',\n",
       " 'for k = 13, A[0,T] is 0.42065',\n",
       " 'for k = 14, A[0,T] is 0.42066',\n",
       " 'for k = 15, A[0,T] is 0.42066']"
      ]
     },
     "execution_count": 793,
     "metadata": {},
     "output_type": "execute_result"
    }
   ],
   "source": [
    "Ak"
   ]
  },
  {
   "cell_type": "code",
   "execution_count": 794,
   "id": "4b9dcadc-954d-48df-9231-c4da514dc81b",
   "metadata": {},
   "outputs": [
    {
     "data": {
      "text/plain": [
       "['for k = 1, B[0,T] is -211.875',\n",
       " 'for k = 2, B[0,T] is -3210.74696',\n",
       " 'for k = 3, B[0,T] is -159029.9237',\n",
       " 'for k = 4, B[0,T] is 0.83123',\n",
       " 'for k = 5, B[0,T] is 0.99505',\n",
       " 'for k = 6, B[0,T] is 0.99505',\n",
       " 'for k = 7, B[0,T] is 0.99505',\n",
       " 'for k = 8, B[0,T] is 0.99505',\n",
       " 'for k = 9, B[0,T] is 0.99505',\n",
       " 'for k = 10, B[0,T] is 0.99505',\n",
       " 'for k = 11, B[0,T] is 0.99505',\n",
       " 'for k = 12, B[0,T] is 0.99505',\n",
       " 'for k = 13, B[0,T] is 0.99505',\n",
       " 'for k = 14, B[0,T] is 0.99505',\n",
       " 'for k = 15, B[0,T] is 0.99505']"
      ]
     },
     "execution_count": 794,
     "metadata": {},
     "output_type": "execute_result"
    }
   ],
   "source": [
    "Bk"
   ]
  },
  {
   "cell_type": "code",
   "execution_count": 806,
   "id": "aa86ceda-7151-414e-a58e-da3a17380490",
   "metadata": {},
   "outputs": [
    {
     "data": {
      "text/plain": [
       "array([7.73, 11.7, 21.2, -2.6, -7.61, -8.63, -9.64, -10.6, -11.6, -12.6, -13.6, -14.6, -15.6, -16.6, -17.6])"
      ]
     },
     "execution_count": 806,
     "metadata": {},
     "output_type": "execute_result"
    }
   ],
   "source": [
    "logError = 1/np.log(2) * np.log(np.sqrt((Akval-A_zero)**2 + (Bkval-B_zero)**2))\n",
    "logError"
   ]
  },
  {
   "cell_type": "code",
   "execution_count": 810,
   "id": "53f5e415-37e2-43ed-b3ba-5a4f13cdd68d",
   "metadata": {},
   "outputs": [
    {
     "name": "stderr",
     "output_type": "stream",
     "text": [
      "/Users/sethkelley/opt/anaconda3/lib/python3.9/site-packages/seaborn/_decorators.py:36: FutureWarning: Pass the following variables as keyword args: x, y. From version 0.12, the only valid positional argument will be `data`, and passing other arguments without an explicit keyword will result in an error or misinterpretation.\n",
      "  warnings.warn(\n"
     ]
    },
    {
     "data": {
      "image/png": "[encoded data removed]",
      "text/plain": [
       "<Figure size 432x288 with 1 Axes>"
      ]
     },
     "metadata": {
      "needs_background": "light"
     },
     "output_type": "display_data"
    }
   ],
   "source": [
    "ax2 = sns.lineplot([i for i in range(1,16)],logError)\n",
    "ax2.set(xlabel = 'k', ylabel = 'Logarithmic Error',title = \"Logarithmic Error vs. k\")\n",
    "ax2.grid()"
   ]
  },
  {
   "cell_type": "code",
   "execution_count": 811,
   "id": "f5aae151-c00f-4f29-b1c2-f9d5593343ca",
   "metadata": {},
   "outputs": [
    {
     "name": "stderr",
     "output_type": "stream",
     "text": [
      "/Users/sethkelley/opt/anaconda3/lib/python3.9/site-packages/seaborn/_decorators.py:36: FutureWarning: Pass the following variables as keyword args: x, y. From version 0.12, the only valid positional argument will be `data`, and passing other arguments without an explicit keyword will result in an error or misinterpretation.\n",
      "  warnings.warn(\n"
     ]
    },
    {
     "data": {
      "image/png": "[encoded data removed]",
      "text/plain": [
       "<Figure size 432x288 with 1 Axes>"
      ]
     },
     "metadata": {
      "needs_background": "light"
     },
     "output_type": "display_data"
    }
   ],
   "source": [
    "ax3 = sns.lineplot([2**i for i in range(1,16)],np.sqrt((Akval-A_zero)**2 + (Bkval-B_zero)**2))\n",
    "ax3.set(xlabel = 'N', ylabel = 'Error',title = \"Error vs. N\")\n",
    "ax3.grid()"
   ]
  },
  {
   "cell_type": "code",
   "execution_count": 824,
   "id": "a81810cc-7fb4-4de6-be77-43eb72d8ed8d",
   "metadata": {},
   "outputs": [
    {
     "name": "stderr",
     "output_type": "stream",
     "text": [
      "/Users/sethkelley/opt/anaconda3/lib/python3.9/site-packages/seaborn/_decorators.py:36: FutureWarning: Pass the following variables as keyword args: x, y. From version 0.12, the only valid positional argument will be `data`, and passing other arguments without an explicit keyword will result in an error or misinterpretation.\n",
      "  warnings.warn(\n"
     ]
    },
    {
     "data": {
      "image/png": "[encoded data removed]",
      "text/plain": [
       "<Figure size 432x288 with 1 Axes>"
      ]
     },
     "metadata": {
      "needs_background": "light"
     },
     "output_type": "display_data"
    }
   ],
   "source": [
    "test = np.sqrt((Akval-A_zero)**2 + (Bkval-B_zero)**2)\n",
    "ax4 = sns.lineplot([2**i for i in range(10,16)],test[9:])\n",
    "ax4.set(xlabel = 'N', ylabel = 'Error',title = \"Error vs. N\")\n",
    "ax4.grid()"
   ]
  },
  {
   "cell_type": "markdown",
   "id": "893eec35-f981-4017-a1ec-6b77fb9792c7",
   "metadata": {},
   "source": [
    "The local truncation error of backward Euler Method is O(h^2). This seems to be confirmed by what we see when we analyze the graph of Error vs. N."
   ]
  },
  {
   "cell_type": "markdown",
   "id": "43e76cbb-06b1-459b-882c-19bc5a734756",
   "metadata": {},
   "source": [
    "## 2.f"
   ]
  },
  {
   "cell_type": "code",
   "execution_count": null,
   "id": "402efab3-e766-4d51-b069-5745d3d6650e",
   "metadata": {},
   "outputs": [],
   "source": []
  },
  {
   "cell_type": "code",
   "execution_count": null,
   "id": "976504e5-50f0-489a-8cd4-7ee0d69c59af",
   "metadata": {},
   "outputs": [],
   "source": []
  },
  {
   "cell_type": "code",
   "execution_count": null,
   "id": "ef440a0d-93cf-4fe4-a66d-8a4a42685a84",
   "metadata": {},
   "outputs": [],
   "source": []
  },
  {
   "cell_type": "code",
   "execution_count": null,
   "id": "c3f055fd-8227-4f88-90d2-2f8a1869b975",
   "metadata": {},
   "outputs": [],
   "source": []
  },
  {
   "cell_type": "code",
   "execution_count": null,
   "id": "66f8804e-1323-4fc0-a0c6-7029be7cae8b",
   "metadata": {},
   "outputs": [],
   "source": []
  },
  {
   "cell_type": "code",
   "execution_count": null,
   "id": "8eba1bb6-10fe-4799-97cf-44bc1f5d0e32",
   "metadata": {},
   "outputs": [],
   "source": []
  }
 ],
 "metadata": {
  "kernelspec": {
   "display_name": "Python 3 (ipykernel)",
   "language": "python",
   "name": "python3"
  },
  "language_info": {
   "codemirror_mode": {
    "name": "ipython",
    "version": 3
   },
   "file_extension": ".py",
   "mimetype": "text/x-python",
   "name": "python",
   "nbconvert_exporter": "python",
   "pygments_lexer": "ipython3",
   "version": "3.9.7"
  }
 },
 "nbformat": 4,
 "nbformat_minor": 5
}
