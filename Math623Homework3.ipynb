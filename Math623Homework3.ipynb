{
 "cells": [
  {
   "cell_type": "markdown",
   "id": "6d3f5d89-b649-42ea-9427-91cbdadd4442",
   "metadata": {},
   "source": [
    "# Problem 2"
   ]
  },
  {
   "cell_type": "code",
   "execution_count": 306,
   "id": "a2a4ca89-a1f6-4360-a537-eb9721603844",
   "metadata": {},
   "outputs": [],
   "source": [
    "import numpy as np\n",
    "import math\n",
    "import seaborn as sns\n",
    "import pandas as pd\n",
    "import matplotlib.pyplot as plt\n",
    "from scipy.optimize import fsolve"
   ]
  },
  {
   "cell_type": "code",
   "execution_count": 344,
   "id": "25725630-5592-4a02-b2d4-4affb453e74e",
   "metadata": {},
   "outputs": [],
   "source": [
    "theta = 0.9\n",
    "lambd = 0.25\n",
    "mew = 0.5\n",
    "n = 100000\n",
    "m = int(n/2)"
   ]
  },
  {
   "cell_type": "code",
   "execution_count": 345,
   "id": "321e79ca-253d-4b82-a7b6-ef7125830613",
   "metadata": {},
   "outputs": [],
   "source": [
    "X = list()\n",
    "Y = list()\n",
    "\n",
    "for i in range(n):\n",
    "    V = np.random.uniform()\n",
    "    W = np.random.uniform()\n",
    "    \n",
    "    U = fsolve(lambda u: theta*(u-1)*u*(2*V-1) + u - W,0)[0]\n",
    "    \n",
    "    X.append(-np.log(1-U)/lambd)\n",
    "    Y.append(-np.log(1-V)/mew)"
   ]
  },
  {
   "cell_type": "code",
   "execution_count": 346,
   "id": "534aa2db-d164-4812-8351-611c9ce9e4be",
   "metadata": {},
   "outputs": [
    {
     "data": {
      "text/plain": [
       "array([[1.        , 0.22194739],\n",
       "       [0.22194739, 1.        ]])"
      ]
     },
     "execution_count": 346,
     "metadata": {},
     "output_type": "execute_result"
    }
   ],
   "source": [
    "np.corrcoef(X,Y)"
   ]
  },
  {
   "cell_type": "code",
   "execution_count": 347,
   "id": "2a7dae2a-34f6-45ff-8039-e4ee49cf987f",
   "metadata": {},
   "outputs": [
    {
     "name": "stdout",
     "output_type": "stream",
     "text": [
      "The correlation coefficient between X and Y is:  0.2219473929907042\n"
     ]
    }
   ],
   "source": [
    "print(\"The correlation coefficient between X and Y is: \", np.corrcoef(X,Y)[0][1])"
   ]
  },
  {
   "cell_type": "markdown",
   "id": "6f716e98-062d-4d8b-a953-b34dfcd07033",
   "metadata": {},
   "source": [
    "# Problem 3"
   ]
  },
  {
   "cell_type": "code",
   "execution_count": 63,
   "id": "05d40e67-a69d-4372-a9c5-89da2668ca9c",
   "metadata": {},
   "outputs": [],
   "source": [
    "A = 1\n",
    "B = np.sqrt(2/np.pi) * 1/(1-math.erf(A/np.sqrt(2)))"
   ]
  },
  {
   "cell_type": "code",
   "execution_count": 115,
   "id": "e1b75d03-8b3b-42f1-a479-ecd97fe2c031",
   "metadata": {},
   "outputs": [],
   "source": [
    "n = 0\n",
    "c = 2\n",
    "X = list()\n",
    "numSamples = 1000\n",
    "count=0\n",
    "\n",
    "while n < numSamples:\n",
    "    Y = -np.log(1-np.random.uniform())/A + A\n",
    "    U = np.random.uniform()\n",
    "    \n",
    "    ratio = B*np.exp(-Y**2 / 2) / (c*(A + np.exp(-Y)/A))\n",
    "    \n",
    "    if U <= ratio:\n",
    "        X.append(Y)\n",
    "        n+=1\n",
    "    \n",
    "    count+=1\n",
    "    \n",
    "    if ratio > 1:\n",
    "        print(\"Make c bigger\")"
   ]
  },
  {
   "cell_type": "code",
   "execution_count": 116,
   "id": "e5809701-e1a1-4308-b602-4a2b9a09789f",
   "metadata": {},
   "outputs": [
    {
     "name": "stderr",
     "output_type": "stream",
     "text": [
      "/Users/sethkelley/opt/anaconda3/lib/python3.9/site-packages/seaborn/distributions.py:2619: FutureWarning: `distplot` is a deprecated function and will be removed in a future version. Please adapt your code to use either `displot` (a figure-level function with similar flexibility) or `histplot` (an axes-level function for histograms).\n",
      "  warnings.warn(msg, FutureWarning)\n"
     ]
    },
    {
     "data": {
      "text/plain": [
       "(-0.25, 2.0)"
      ]
     },
     "execution_count": 116,
     "metadata": {},
     "output_type": "execute_result"
    },
    {
     "data": {
      "image/png": "[encoded data removed]",
      "text/plain": [
       "<Figure size 432x288 with 1 Axes>"
      ]
     },
     "metadata": {
      "needs_background": "light"
     },
     "output_type": "display_data"
    }
   ],
   "source": [
    "zero = [0 for i in range(len(X))]\n",
    "df = pd.DataFrame(zero,X)\n",
    "fig2 = sns.scatterplot(data = df,marker = '^',palette = ['r'])\n",
    "fig2 = sns.distplot(X)\n",
    "plt.ylim(-.25,2)"
   ]
  },
  {
   "cell_type": "markdown",
   "id": "c5301920-c96e-41dd-a7c6-b9cbd9d5ca83",
   "metadata": {},
   "source": [
    "# Problem 4"
   ]
  },
  {
   "cell_type": "code",
   "execution_count": 285,
   "id": "0a0dad17-7cc9-4e6d-bfd3-be8b7bb7cca0",
   "metadata": {},
   "outputs": [],
   "source": [
    "r = 0.01\n",
    "theta = 0.08\n",
    "k = 2\n",
    "Beta = 0.2\n",
    "rho = -0.7\n",
    "Y0 = 0.04\n",
    "S0 = 50 \n",
    "A = 80\n",
    "B = 30\n",
    "K = 50\n",
    "n = 10000\n",
    "dt = (1/3)/360\n",
    "days = 90/360"
   ]
  },
  {
   "cell_type": "code",
   "execution_count": 286,
   "id": "1c35afb1-f66f-4dc6-bebe-37cab67ad43b",
   "metadata": {},
   "outputs": [],
   "source": [
    "Pairs = list()\n",
    "Ypaths = list()\n",
    "Spaths = list()\n",
    "\n",
    "for i in range(n):\n",
    "    Y = list()\n",
    "    S = list()\n",
    "    Y.append(Y0)\n",
    "    S.append(S0)\n",
    "    \n",
    "    for _ in range(int(days/dt)):\n",
    "        rand1 = np.random.normal(0,1)\n",
    "        Ynext = Y[-1] + k*(theta/k-Y[-1])*dt + Beta*np.sqrt(Y[-1])*(rho*np.sqrt(dt)*rand1 + np.sqrt(1-rho**2)*np.sqrt(dt)*np.random.normal(0,1))\n",
    "        Snext = S[-1] + r*S[-1]*dt + np.sqrt(Y[-1])*S[-1]*np.sqrt(dt)*rand1\n",
    "        \n",
    "        if Ynext < 0:\n",
    "            Ynext = 0\n",
    "            Y.append(Ynext)\n",
    "        else:\n",
    "            Y.append(Ynext)\n",
    "            \n",
    "        S.append(Snext)\n",
    "    \n",
    "    Ypaths.append(Y)\n",
    "    Spaths.append(S)"
   ]
  },
  {
   "cell_type": "code",
   "execution_count": 287,
   "id": "149673fe-e870-4730-acd0-d60ac481e17f",
   "metadata": {},
   "outputs": [],
   "source": [
    "terminalY = [Path[-1] for Path in Ypaths]\n",
    "terminalS = [Path[-1] for Path in Spaths]"
   ]
  },
  {
   "cell_type": "code",
   "execution_count": 288,
   "id": "e2e18bc7-03bf-4428-8efc-89203bd48562",
   "metadata": {},
   "outputs": [
    {
     "data": {
      "text/plain": [
       "(50.10907720968314, 0.040115502019253305)"
      ]
     },
     "execution_count": 288,
     "metadata": {},
     "output_type": "execute_result"
    }
   ],
   "source": [
    "expectedY = sum(terminalY)/len(terminalY)\n",
    "expectedS = sum(terminalS)/len(terminalS)\n",
    "expectedS,expectedY"
   ]
  },
  {
   "cell_type": "code",
   "execution_count": 289,
   "id": "edb1cedf-3d71-42fb-bc70-903a4d050072",
   "metadata": {},
   "outputs": [
    {
     "data": {
      "text/plain": [
       "<seaborn.axisgrid.FacetGrid at 0x7fa4f33d48b0>"
      ]
     },
     "execution_count": 289,
     "metadata": {},
     "output_type": "execute_result"
    },
    {
     "data": {
      "image/png": "[encoded data removed]",
      "text/plain": [
       "<Figure size 360x360 with 1 Axes>"
      ]
     },
     "metadata": {
      "needs_background": "light"
     },
     "output_type": "display_data"
    }
   ],
   "source": [
    "sns.displot(terminalY)"
   ]
  },
  {
   "cell_type": "code",
   "execution_count": 297,
   "id": "03224ce8-d390-4105-86e5-f52b6c9a858d",
   "metadata": {},
   "outputs": [
    {
     "data": {
      "text/plain": [
       "<seaborn.axisgrid.FacetGrid at 0x7fa4f0c83fd0>"
      ]
     },
     "execution_count": 297,
     "metadata": {},
     "output_type": "execute_result"
    },
    {
     "data": {
      "image/png": "[encoded data removed]",
      "text/plain": [
       "<Figure size 360x360 with 1 Axes>"
      ]
     },
     "metadata": {
      "needs_background": "light"
     },
     "output_type": "display_data"
    }
   ],
   "source": [
    "sns.displot(terminalS)"
   ]
  },
  {
   "cell_type": "code",
   "execution_count": 298,
   "id": "31aac4cf-552e-4e9c-8738-23fb5b25265e",
   "metadata": {},
   "outputs": [
    {
     "name": "stderr",
     "output_type": "stream",
     "text": [
      "/var/folders/bv/j678dvtd34bc5mtymgsd2c6w0000gn/T/ipykernel_74024/1735570090.py:10: RuntimeWarning: divide by zero encountered in double_scalars\n",
      "  convergeS.append(ES/i)\n",
      "/var/folders/bv/j678dvtd34bc5mtymgsd2c6w0000gn/T/ipykernel_74024/1735570090.py:11: RuntimeWarning: divide by zero encountered in double_scalars\n",
      "  convergeY.append(EY/i)\n"
     ]
    }
   ],
   "source": [
    "convergeS = list()\n",
    "convergeY = list()\n",
    "ES = 0\n",
    "EY = 0\n",
    "\n",
    "for i in range(n):\n",
    "    ES += terminalS[i]\n",
    "    EY += terminalY[i]\n",
    "    \n",
    "    convergeS.append(ES/i)\n",
    "    convergeY.append(EY/i)"
   ]
  },
  {
   "cell_type": "code",
   "execution_count": 299,
   "id": "271acc67-4bfd-43a5-b5ed-36c5aed566c9",
   "metadata": {},
   "outputs": [
    {
     "name": "stdout",
     "output_type": "stream",
     "text": [
      "The number of paths used is:  10000\n",
      "The final estimate of expected S is:  50.10907720968314\n",
      "The final estimate of expected Y is:  0.040115502019253305\n",
      "The standard error of expected S is:  0.6000622771919076\n",
      "The standard error of expected Y is:  0.000624858146651417\n"
     ]
    }
   ],
   "source": [
    "print(\"The number of paths used is: \",n)\n",
    "print(\"The final estimate of expected S is: \",expectedS)\n",
    "print(\"The final estimate of expected Y is: \",expectedY)\n",
    "print(\"The standard error of expected S is: \",np.std(np.array(convergeS[1:])))\n",
    "print(\"The standard error of expected Y is: \",np.std(np.array(convergeY[1:])))"
   ]
  },
  {
   "cell_type": "code",
   "execution_count": 300,
   "id": "fe6a0701-9000-4da5-a2db-3dd44d305dc3",
   "metadata": {},
   "outputs": [
    {
     "data": {
      "text/plain": [
       "<AxesSubplot:>"
      ]
     },
     "execution_count": 300,
     "metadata": {},
     "output_type": "execute_result"
    },
    {
     "data": {
      "image/png": "[encoded data removed]",
      "text/plain": [
       "<Figure size 432x288 with 1 Axes>"
      ]
     },
     "metadata": {
      "needs_background": "light"
     },
     "output_type": "display_data"
    }
   ],
   "source": [
    "sns.lineplot(data = convergeS[1:],linewidth=2)\n",
    "sns.lineplot(data = np.ones(n)*expectedS,color='red')"
   ]
  },
  {
   "cell_type": "code",
   "execution_count": 301,
   "id": "191b9bc8-b26a-4332-8285-1ecd53eb8098",
   "metadata": {},
   "outputs": [
    {
     "data": {
      "text/plain": [
       "<AxesSubplot:>"
      ]
     },
     "execution_count": 301,
     "metadata": {},
     "output_type": "execute_result"
    },
    {
     "data": {
      "image/png": "[encoded data removed]",
      "text/plain": [
       "<Figure size 432x288 with 1 Axes>"
      ]
     },
     "metadata": {
      "needs_background": "light"
     },
     "output_type": "display_data"
    }
   ],
   "source": [
    "sns.lineplot(data = convergeY)\n",
    "sns.lineplot(data = np.ones(n)*expectedY,color='red')"
   ]
  },
  {
   "cell_type": "code",
   "execution_count": 302,
   "id": "d16c0098-95dd-4771-83d9-dc0bb67db08b",
   "metadata": {},
   "outputs": [],
   "source": [
    "optionPrice = list()\n",
    "\n",
    "for i in range(len(Spaths)):\n",
    "    \n",
    "    if (max(Spaths[i]) > A) or (min(Spaths[i]) < B):\n",
    "        optionPrice.append(0)\n",
    "    else:\n",
    "        optionPrice.append(max(Spaths[i][-1] - K,0))\n",
    "            "
   ]
  },
  {
   "cell_type": "code",
   "execution_count": 303,
   "id": "abdcbe10-7930-4bb4-b6fa-2acbeda5752b",
   "metadata": {},
   "outputs": [
    {
     "data": {
      "text/plain": [
       "2.0311188574285244"
      ]
     },
     "execution_count": 303,
     "metadata": {},
     "output_type": "execute_result"
    }
   ],
   "source": [
    "optionPriceInitial = sum(optionPrice)/len(optionPrice)\n",
    "optionPriceInitial"
   ]
  }
 ],
 "metadata": {
  "kernelspec": {
   "display_name": "Python 3 (ipykernel)",
   "language": "python",
   "name": "python3"
  },
  "language_info": {
   "codemirror_mode": {
    "name": "ipython",
    "version": 3
   },
   "file_extension": ".py",
   "mimetype": "text/x-python",
   "name": "python",
   "nbconvert_exporter": "python",
   "pygments_lexer": "ipython3",
   "version": "3.9.7"
  }
 },
 "nbformat": 4,
 "nbformat_minor": 5
}
